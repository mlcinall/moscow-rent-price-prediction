{
 "cells": [
  {
   "cell_type": "markdown",
   "id": "7kgXnWR3u_ht",
   "metadata": {
    "id": "7kgXnWR3u_ht"
   },
   "source": [
    "# Эксперименты с моделями: оценка стоимости аренды в Москве\n",
    "\n",
    "В этом ноутбуке проводится серия экспериментов по обучению моделей для предсказания стоимости аренды квартир в Москве на основе данных, полученных с Cian.ru и обогащённых географическими и инфраструктурными признаками.\n",
    "\n",
    "---\n",
    "\n",
    "## Цель ноутбука\n",
    "\n",
    "Пошагово протестировать, какие признаки и приёмы предобработки дают наибольший вклад в качество модели, чтобы:\n",
    "\n",
    "- построить сильную, интерпретируемую baseline-модель;\n",
    "- зафиксировать вклад каждой группы признаков (география, инфраструктура и т.д.);\n",
    "- отобрать финальные подходы для переноса в финальный ноутбук `final_model.ipynb`.\n",
    "\n",
    "---\n",
    "\n",
    "## Подход\n",
    "\n",
    "В рамках экспериментов используется **CatBoostRegressor**, так как он:\n",
    "\n",
    "- нативно работает с категориальными признаками;\n",
    "- позволяет обучаться на GPU, что критично при большом объёме данных;\n",
    "- стабильно показывает высокое качество на табличных данных.\n",
    "\n",
    "---\n",
    "\n",
    "## Последовательность экспериментов\n",
    "\n",
    "1. **Baseline-модель** на исходных данных без признаков\n",
    "2. Добавление **координат**\n",
    "3. Добавление **расстояний до центра и метро**\n",
    "4. Добавление **инфраструктурных признаков** (POI)\n",
    "5. **Удаление выбросов** и сравнение до/после\n",
    "6. **Логарифмирование целевой переменной**\n",
    "7. **Подбор гиперпараметров** модели через Optuna\n",
    "\n",
    "---\n",
    "\n",
    "## Метрики оценки качества\n",
    "\n",
    "Для каждой модели вычисляются:\n",
    "\n",
    "- **MAE** (средняя абсолютная ошибка, руб.)\n",
    "- **MAPE** (средняя абсолютная процентная ошибка)\n",
    "- **R²** (коэффициент детерминации)\n",
    "- **RMSE** (корень средней квадратичной ошибки) — основная метрика\n",
    "\n",
    "---\n",
    "\n",
    "> Все шаги фиксируются и сравниваются на одной и той же схеме валидации, чтобы обеспечить корректную интерпретацию результатов. Лучший подход будет использован в финальной модели.\n"
   ]
  },
  {
   "cell_type": "code",
   "execution_count": 1,
   "id": "eccb58bf-a1e6-4a53-a9d5-752e2f6d42cb",
   "metadata": {
    "colab": {
     "base_uri": "https://localhost:8080/"
    },
    "execution": {
     "iopub.execute_input": "2025-08-11T20:18:37.709956Z",
     "iopub.status.busy": "2025-08-11T20:18:37.708806Z",
     "iopub.status.idle": "2025-08-11T20:18:40.338736Z",
     "shell.execute_reply": "2025-08-11T20:18:40.337288Z",
     "shell.execute_reply.started": "2025-08-11T20:18:37.709902Z"
    },
    "id": "eccb58bf-a1e6-4a53-a9d5-752e2f6d42cb",
    "outputId": "5b2f30f5-cef1-483b-82f7-50f9d85a9b53",
    "tags": []
   },
   "outputs": [
    {
     "name": "stdout",
     "output_type": "stream",
     "text": [
      "Defaulting to user installation because normal site-packages is not writeable\n",
      "Requirement already satisfied: pandas==2.2.2 in /home/jupyter/.local/lib/python3.10/site-packages (from -r requirements.txt (line 1)) (2.2.2)\n",
      "Requirement already satisfied: numpy==1.26.4 in /home/jupyter/.local/lib/python3.10/site-packages (from -r requirements.txt (line 2)) (1.26.4)\n",
      "Requirement already satisfied: matplotlib==3.8.4 in /home/jupyter/.local/lib/python3.10/site-packages (from -r requirements.txt (line 4)) (3.8.4)\n",
      "Requirement already satisfied: seaborn==0.13.2 in /home/jupyter/.local/lib/python3.10/site-packages (from -r requirements.txt (line 5)) (0.13.2)\n",
      "Requirement already satisfied: geopandas==0.14.4 in /home/jupyter/.local/lib/python3.10/site-packages (from -r requirements.txt (line 7)) (0.14.4)\n",
      "Requirement already satisfied: shapely==2.0.3 in /home/jupyter/.local/lib/python3.10/site-packages (from -r requirements.txt (line 8)) (2.0.3)\n",
      "Requirement already satisfied: geopy==2.4.1 in /home/jupyter/.local/lib/python3.10/site-packages (from -r requirements.txt (line 9)) (2.4.1)\n",
      "Requirement already satisfied: scikit-learn==1.4.2 in /home/jupyter/.local/lib/python3.10/site-packages (from -r requirements.txt (line 11)) (1.4.2)\n",
      "Requirement already satisfied: catboost==1.2.5 in /home/jupyter/.local/lib/python3.10/site-packages (from -r requirements.txt (line 12)) (1.2.5)\n",
      "Requirement already satisfied: optuna==3.6.1 in /home/jupyter/.local/lib/python3.10/site-packages (from -r requirements.txt (line 14)) (3.6.1)\n",
      "\u001b[31mERROR: Could not find a version that satisfies the requirement optuna-integration==3.6.1 (from versions: 3.2.0b0, 3.2.0, 3.3.0, 3.4.0, 3.5.0, 3.6.0, 4.0.0b0, 4.0.0, 4.1.0, 4.2.0, 4.2.1, 4.3.0, 4.4.0)\u001b[0m\u001b[31m\n",
      "\u001b[0m\n",
      "\u001b[1m[\u001b[0m\u001b[34;49mnotice\u001b[0m\u001b[1;39;49m]\u001b[0m\u001b[39;49m A new release of pip is available: \u001b[0m\u001b[31;49m23.0.1\u001b[0m\u001b[39;49m -> \u001b[0m\u001b[32;49m25.2\u001b[0m\n",
      "\u001b[1m[\u001b[0m\u001b[34;49mnotice\u001b[0m\u001b[1;39;49m]\u001b[0m\u001b[39;49m To update, run: \u001b[0m\u001b[32;49mpython3 -m pip install --upgrade pip\u001b[0m\n",
      "\u001b[31mERROR: No matching distribution found for optuna-integration==3.6.1\u001b[0m\u001b[31m\n",
      "\u001b[0m"
     ]
    }
   ],
   "source": [
    "%pip install -r requirements.txt"
   ]
  },
  {
   "cell_type": "markdown",
   "id": "qbMECa7UvaDC",
   "metadata": {
    "id": "qbMECa7UvaDC"
   },
   "source": [
    "## Импорт необходимых библиотек"
   ]
  },
  {
   "cell_type": "code",
   "execution_count": 2,
   "id": "8a7fc422-2d5b-456f-95ac-307f75d51793",
   "metadata": {
    "execution": {
     "iopub.execute_input": "2025-08-11T20:18:40.343212Z",
     "iopub.status.busy": "2025-08-11T20:18:40.341165Z",
     "iopub.status.idle": "2025-08-11T20:18:40.729200Z",
     "shell.execute_reply": "2025-08-11T20:18:40.727989Z",
     "shell.execute_reply.started": "2025-08-11T20:18:40.343122Z"
    },
    "id": "8a7fc422-2d5b-456f-95ac-307f75d51793",
    "tags": []
   },
   "outputs": [],
   "source": [
    "import numpy as np\n",
    "import pandas as pd\n",
    "import warnings\n",
    "import joblib\n",
    "import json\n",
    "\n",
    "from catboost import CatBoostRegressor\n",
    "from sklearn.model_selection import train_test_split\n",
    "\n",
    "from sklearn.metrics import (\n",
    "    root_mean_squared_error,\n",
    "    mean_absolute_error,\n",
    "    mean_absolute_percentage_error,\n",
    "    mean_squared_error,\n",
    "    r2_score\n",
    ")\n",
    "\n",
    "import optuna\n",
    "from optuna.integration import CatBoostPruningCallback\n",
    "from optuna.pruners import MedianPruner\n",
    "warnings.filterwarnings(\"ignore\")"
   ]
  },
  {
   "cell_type": "markdown",
   "id": "88bgmWNAvygT",
   "metadata": {
    "id": "88bgmWNAvygT"
   },
   "source": [
    "## Эксперимент 1 — Бейзлайн на «сырых» данных\n",
    "\n",
    "В этом эксперименте мы обучим первую базовую модель CatBoost на минимально предобработанных данных, без дополнительных признаков.\n",
    "\n",
    "Здесь:\n",
    "\n",
    "- загружается датасет из CSV-файла `cian_rent_Moscow_cleaned.csv`;\n",
    "- удаляются столбцы: `lat`, `lon`, `geo_quality` — они будут использованы позже;\n",
    "- никаких новых признаков (инфраструктура, расстояния, логарифмирование) пока не добавляется;\n",
    "- обучение проводится на исходной структуре данных с использованием только базовых категориальных и числовых признаков.\n",
    "\n",
    "Цель — зафиксировать начальное качество модели, чтобы использовать его как точку отсчёта для всех последующих экспериментов.\n",
    "___"
   ]
  },
  {
   "cell_type": "code",
   "execution_count": 3,
   "id": "dd6a4c7f-59b3-4a51-8e89-5e6c36921e68",
   "metadata": {
    "colab": {
     "base_uri": "https://localhost:8080/",
     "height": 206
    },
    "execution": {
     "iopub.execute_input": "2025-08-11T20:18:40.731850Z",
     "iopub.status.busy": "2025-08-11T20:18:40.730366Z",
     "iopub.status.idle": "2025-08-11T20:18:40.889889Z",
     "shell.execute_reply": "2025-08-11T20:18:40.888606Z",
     "shell.execute_reply.started": "2025-08-11T20:18:40.731795Z"
    },
    "id": "dd6a4c7f-59b3-4a51-8e89-5e6c36921e68",
    "outputId": "212e670d-7ec6-473e-dd9c-7a13fb53d896",
    "tags": []
   },
   "outputs": [
    {
     "data": {
      "text/html": [
       "<div>\n",
       "<style scoped>\n",
       "    .dataframe tbody tr th:only-of-type {\n",
       "        vertical-align: middle;\n",
       "    }\n",
       "\n",
       "    .dataframe tbody tr th {\n",
       "        vertical-align: top;\n",
       "    }\n",
       "\n",
       "    .dataframe thead th {\n",
       "        text-align: right;\n",
       "    }\n",
       "</style>\n",
       "<table border=\"1\" class=\"dataframe\">\n",
       "  <thead>\n",
       "    <tr style=\"text-align: right;\">\n",
       "      <th></th>\n",
       "      <th>floor</th>\n",
       "      <th>floors_count</th>\n",
       "      <th>rooms_count</th>\n",
       "      <th>total_meters</th>\n",
       "      <th>price_per_month</th>\n",
       "      <th>district</th>\n",
       "      <th>street</th>\n",
       "      <th>house_number</th>\n",
       "      <th>underground</th>\n",
       "    </tr>\n",
       "  </thead>\n",
       "  <tbody>\n",
       "    <tr>\n",
       "      <th>0</th>\n",
       "      <td>3</td>\n",
       "      <td>5</td>\n",
       "      <td>1</td>\n",
       "      <td>30.0</td>\n",
       "      <td>30000</td>\n",
       "      <td>Северное Измайлово</td>\n",
       "      <td>Сиреневый бульвар</td>\n",
       "      <td>7</td>\n",
       "      <td>Щёлковская</td>\n",
       "    </tr>\n",
       "    <tr>\n",
       "      <th>1</th>\n",
       "      <td>2</td>\n",
       "      <td>34</td>\n",
       "      <td>-1</td>\n",
       "      <td>55.7</td>\n",
       "      <td>25000</td>\n",
       "      <td>Войковский</td>\n",
       "      <td>Адмирала Макарова</td>\n",
       "      <td>6Ак1</td>\n",
       "      <td>Водный стадион</td>\n",
       "    </tr>\n",
       "    <tr>\n",
       "      <th>2</th>\n",
       "      <td>5</td>\n",
       "      <td>9</td>\n",
       "      <td>1</td>\n",
       "      <td>50.0</td>\n",
       "      <td>30000</td>\n",
       "      <td>Нагорный</td>\n",
       "      <td>Варшавское шоссе</td>\n",
       "      <td>71К1</td>\n",
       "      <td>Варшавская</td>\n",
       "    </tr>\n",
       "    <tr>\n",
       "      <th>3</th>\n",
       "      <td>1</td>\n",
       "      <td>5</td>\n",
       "      <td>1</td>\n",
       "      <td>32.0</td>\n",
       "      <td>30000</td>\n",
       "      <td>Лосиноостровский</td>\n",
       "      <td>Анадырский проезд</td>\n",
       "      <td>41</td>\n",
       "      <td>Бабушкинская</td>\n",
       "    </tr>\n",
       "    <tr>\n",
       "      <th>4</th>\n",
       "      <td>10</td>\n",
       "      <td>12</td>\n",
       "      <td>1</td>\n",
       "      <td>23.0</td>\n",
       "      <td>29998</td>\n",
       "      <td>НАО (Новомосковский)</td>\n",
       "      <td>Яворки</td>\n",
       "      <td>1к1</td>\n",
       "      <td>Филатов луг</td>\n",
       "    </tr>\n",
       "  </tbody>\n",
       "</table>\n",
       "</div>"
      ],
      "text/plain": [
       "   floor  floors_count  ...  house_number     underground\n",
       "0      3             5  ...             7      Щёлковская\n",
       "1      2            34  ...          6Ак1  Водный стадион\n",
       "2      5             9  ...          71К1      Варшавская\n",
       "3      1             5  ...            41    Бабушкинская\n",
       "4     10            12  ...           1к1     Филатов луг\n",
       "\n",
       "[5 rows x 9 columns]"
      ]
     },
     "execution_count": 3,
     "metadata": {},
     "output_type": "execute_result"
    }
   ],
   "source": [
    "data = pd.read_csv(\"cian_rent_Moscow_cleaned.csv\")\n",
    "data = data.drop([\"lat\", \"lon\", \"geo_quality\"], axis = 1)\n",
    "data.head()"
   ]
  },
  {
   "cell_type": "code",
   "execution_count": 4,
   "id": "98db334c-0193-4b18-bea0-a2c62f08e652",
   "metadata": {
    "execution": {
     "iopub.execute_input": "2025-08-11T20:18:40.894969Z",
     "iopub.status.busy": "2025-08-11T20:18:40.893057Z",
     "iopub.status.idle": "2025-08-11T20:18:40.930491Z",
     "shell.execute_reply": "2025-08-11T20:18:40.929211Z",
     "shell.execute_reply.started": "2025-08-11T20:18:40.894916Z"
    },
    "id": "98db334c-0193-4b18-bea0-a2c62f08e652",
    "tags": []
   },
   "outputs": [],
   "source": [
    "X = data.drop(\"price_per_month\", axis = 1)\n",
    "y = data[\"price_per_month\"]"
   ]
  },
  {
   "cell_type": "code",
   "execution_count": 5,
   "id": "4ec3c405-2184-49c3-875d-580bce77e0db",
   "metadata": {
    "execution": {
     "iopub.execute_input": "2025-08-11T20:18:40.932538Z",
     "iopub.status.busy": "2025-08-11T20:18:40.931837Z",
     "iopub.status.idle": "2025-08-11T20:18:40.963429Z",
     "shell.execute_reply": "2025-08-11T20:18:40.962132Z",
     "shell.execute_reply.started": "2025-08-11T20:18:40.932492Z"
    },
    "id": "4ec3c405-2184-49c3-875d-580bce77e0db",
    "tags": []
   },
   "outputs": [],
   "source": [
    "X_train, X_val_test, y_train, y_val_test = train_test_split(X, y, random_state = 42, train_size = 0.8, shuffle = True)\n",
    "X_val, X_test, y_val, y_test = train_test_split(X_val_test, y_val_test, random_state = 42, test_size = 0.5, shuffle = True)"
   ]
  },
  {
   "cell_type": "code",
   "execution_count": 6,
   "id": "e0668da6-177c-49a1-94a1-cad31f9ca90b",
   "metadata": {
    "execution": {
     "iopub.execute_input": "2025-08-11T20:18:40.966012Z",
     "iopub.status.busy": "2025-08-11T20:18:40.965159Z",
     "iopub.status.idle": "2025-08-11T20:18:41.049372Z",
     "shell.execute_reply": "2025-08-11T20:18:41.048265Z",
     "shell.execute_reply.started": "2025-08-11T20:18:40.965946Z"
    },
    "id": "e0668da6-177c-49a1-94a1-cad31f9ca90b",
    "tags": []
   },
   "outputs": [],
   "source": [
    "baseline_model_exp1 = CatBoostRegressor(iterations = 3000,\n",
    "                                        learning_rate = 0.015,\n",
    "                                        loss_function=\"RMSE\",\n",
    "                                        eval_metric=\"RMSE\",\n",
    "                                        early_stopping_rounds=200,\n",
    "                                        verbose=100,\n",
    "                                        task_type=\"GPU\")"
   ]
  },
  {
   "cell_type": "code",
   "execution_count": 8,
   "id": "a7bde405-39cf-46e6-828b-b311e869d8a9",
   "metadata": {
    "colab": {
     "base_uri": "https://localhost:8080/"
    },
    "execution": {
     "iopub.execute_input": "2025-08-11T20:18:52.602698Z",
     "iopub.status.busy": "2025-08-11T20:18:52.601067Z",
     "iopub.status.idle": "2025-08-11T20:19:48.495082Z",
     "shell.execute_reply": "2025-08-11T20:19:48.493841Z",
     "shell.execute_reply.started": "2025-08-11T20:18:52.602660Z"
    },
    "id": "a7bde405-39cf-46e6-828b-b311e869d8a9",
    "outputId": "f848192f-136b-4374-e2e6-cfd674e82422",
    "tags": []
   },
   "outputs": [
    {
     "name": "stdout",
     "output_type": "stream",
     "text": [
      "0:\tlearn: 109857.2096856\ttest: 110833.7584171\tbest: 110833.7584171 (0)\ttotal: 115ms\tremaining: 5m 46s\n",
      "100:\tlearn: 56685.9710178\ttest: 57050.7027274\tbest: 57050.7027274 (100)\ttotal: 2.06s\tremaining: 59s\n",
      "200:\tlearn: 49532.8907736\ttest: 50687.9383504\tbest: 50687.9383504 (200)\ttotal: 4.03s\tremaining: 56.1s\n",
      "300:\tlearn: 47650.1417366\ttest: 49436.5538052\tbest: 49436.5538052 (300)\ttotal: 5.96s\tremaining: 53.4s\n",
      "400:\tlearn: 46592.6480461\ttest: 48750.5192637\tbest: 48750.5192637 (400)\ttotal: 7.94s\tremaining: 51.5s\n",
      "500:\tlearn: 45822.3714552\ttest: 48209.2601862\tbest: 48209.2601862 (500)\ttotal: 9.84s\tremaining: 49.1s\n",
      "600:\tlearn: 45306.7291154\ttest: 47867.0414828\tbest: 47867.0414828 (600)\ttotal: 11.6s\tremaining: 46.5s\n",
      "700:\tlearn: 44767.6055760\ttest: 47484.0801652\tbest: 47484.0801652 (700)\ttotal: 13.5s\tremaining: 44.2s\n",
      "800:\tlearn: 44279.0981387\ttest: 47158.2775103\tbest: 47158.2775103 (800)\ttotal: 15.2s\tremaining: 41.8s\n",
      "900:\tlearn: 43898.1607113\ttest: 46844.1616493\tbest: 46844.1616493 (900)\ttotal: 17s\tremaining: 39.5s\n",
      "1000:\tlearn: 43515.6557719\ttest: 46669.6835247\tbest: 46669.6519058 (999)\ttotal: 18.7s\tremaining: 37.3s\n",
      "1100:\tlearn: 43058.8085421\ttest: 46350.2304444\tbest: 46346.8874553 (1098)\ttotal: 20.4s\tremaining: 35.3s\n",
      "1200:\tlearn: 42749.7889826\ttest: 46157.1987333\tbest: 46156.8677487 (1199)\ttotal: 22.2s\tremaining: 33.3s\n",
      "1300:\tlearn: 42402.4429462\ttest: 45938.4098113\tbest: 45938.4098113 (1300)\ttotal: 24s\tremaining: 31.4s\n",
      "1400:\tlearn: 42057.0636290\ttest: 45752.6093342\tbest: 45746.4922962 (1399)\ttotal: 25.8s\tremaining: 29.5s\n",
      "1500:\tlearn: 41774.1432732\ttest: 45576.9235998\tbest: 45576.8797956 (1499)\ttotal: 27.6s\tremaining: 27.6s\n",
      "1600:\tlearn: 41554.1054294\ttest: 45428.2782680\tbest: 45428.2228559 (1599)\ttotal: 29.3s\tremaining: 25.6s\n",
      "1700:\tlearn: 41328.1165421\ttest: 45287.3338783\tbest: 45287.3338783 (1700)\ttotal: 30.8s\tremaining: 23.6s\n",
      "1800:\tlearn: 41070.9631479\ttest: 45122.6651902\tbest: 45122.6036316 (1796)\ttotal: 32.6s\tremaining: 21.7s\n",
      "1900:\tlearn: 40907.7771217\ttest: 45042.5391090\tbest: 45042.4350441 (1899)\ttotal: 34.2s\tremaining: 19.8s\n",
      "2000:\tlearn: 40737.3608495\ttest: 44922.1486803\tbest: 44919.8723842 (1997)\ttotal: 35.9s\tremaining: 17.9s\n",
      "2100:\tlearn: 40627.7404432\ttest: 44868.0738285\tbest: 44866.8317856 (2092)\ttotal: 37.5s\tremaining: 16s\n",
      "2200:\tlearn: 40426.3895103\ttest: 44749.5417642\tbest: 44749.5417642 (2200)\ttotal: 39.2s\tremaining: 14.2s\n",
      "2300:\tlearn: 40228.0137841\ttest: 44619.2320766\tbest: 44619.2320766 (2300)\ttotal: 40.9s\tremaining: 12.4s\n",
      "2400:\tlearn: 40004.2060320\ttest: 44448.0559781\tbest: 44448.0559781 (2400)\ttotal: 42.9s\tremaining: 10.7s\n",
      "2500:\tlearn: 39835.7701652\ttest: 44341.4364149\tbest: 44341.4364149 (2500)\ttotal: 44.8s\tremaining: 8.94s\n",
      "2600:\tlearn: 39663.5074440\ttest: 44260.1804292\tbest: 44259.2390477 (2596)\ttotal: 46.6s\tremaining: 7.15s\n",
      "2700:\tlearn: 39479.8013495\ttest: 44146.7547619\tbest: 44146.7547619 (2700)\ttotal: 48.5s\tremaining: 5.37s\n",
      "2800:\tlearn: 39372.7927226\ttest: 44076.4985684\tbest: 44076.4946297 (2799)\ttotal: 50.4s\tremaining: 3.58s\n",
      "2900:\tlearn: 39252.2141011\ttest: 44024.5634256\tbest: 44024.5456804 (2899)\ttotal: 52.3s\tremaining: 1.79s\n",
      "2999:\tlearn: 39116.4400517\ttest: 43952.1587550\tbest: 43952.0639580 (2996)\ttotal: 54.3s\tremaining: 0us\n",
      "bestTest = 43952.06396\n",
      "bestIteration = 2996\n",
      "Shrink model to first 2997 iterations.\n"
     ]
    },
    {
     "data": {
      "text/plain": [
       "<catboost.core.CatBoostRegressor at 0x7f3aedcd6f20>"
      ]
     },
     "execution_count": 8,
     "metadata": {},
     "output_type": "execute_result"
    }
   ],
   "source": [
    "baseline_model_exp1.fit(X_train,\n",
    "                       y_train,\n",
    "                       eval_set = (X_val, y_val),\n",
    "                       cat_features = [\"district\", \"street\", \"underground\", \"house_number\"],\n",
    "                       use_best_model=True)"
   ]
  },
  {
   "cell_type": "code",
   "execution_count": 9,
   "id": "9ec30ac1-8421-4911-8a08-532aa6c209bc",
   "metadata": {
    "colab": {
     "base_uri": "https://localhost:8080/"
    },
    "execution": {
     "iopub.execute_input": "2025-08-11T20:19:48.498732Z",
     "iopub.status.busy": "2025-08-11T20:19:48.496821Z",
     "iopub.status.idle": "2025-08-11T20:19:48.559281Z",
     "shell.execute_reply": "2025-08-11T20:19:48.558076Z",
     "shell.execute_reply.started": "2025-08-11T20:19:48.498662Z"
    },
    "id": "9ec30ac1-8421-4911-8a08-532aa6c209bc",
    "outputId": "5c8c6ce6-b87f-4cef-c835-f8d0b452c173",
    "tags": []
   },
   "outputs": [
    {
     "name": "stdout",
     "output_type": "stream",
     "text": [
      "MAE: 24814.42\n",
      "R2-Score: 0.8461\n",
      "MAPE: 0.1881\n"
     ]
    }
   ],
   "source": [
    "y_pred = baseline_model_exp1.predict(X_val)\n",
    "\n",
    "MAE = round(mean_absolute_error(y_val, y_pred), 2)\n",
    "R2 = round(r2_score(y_val, y_pred), 4)\n",
    "MAPE = round(mean_absolute_percentage_error(y_val, y_pred), 4)\n",
    "\n",
    "\n",
    "print(f\"MAE: {MAE}\")\n",
    "print(f\"R2-Score: {R2}\")\n",
    "print(f\"MAPE: {MAPE}\")"
   ]
  },
  {
   "cell_type": "markdown",
   "id": "vecl9niSx5RK",
   "metadata": {
    "id": "vecl9niSx5RK"
   },
   "source": [
    "### Выводы по Эксперименту 1 — Бейзлайн-модель без дополнительных признаков\n",
    "\n",
    "- **MAE:** 24 814 ₽ — средняя ошибка предсказания аренды в рублях;\n",
    "- **R²:** 0.8461 — модель объясняет ~84.6% дисперсии цен;\n",
    "- **MAPE:** 18.81% — в среднем предсказание отклоняется от фактической цены на 18.8%.\n",
    "\n",
    "Несмотря на отсутствие координат, инфраструктуры и расстояний, модель уже показывает уверенное качество за счёт базовых признаков.\n",
    "\n",
    "Этот результат будет использоваться как точка отсчёта для всех последующих экспериментов.\n",
    "\n",
    "___"
   ]
  },
  {
   "cell_type": "markdown",
   "id": "Ap1UnrDpyHNg",
   "metadata": {
    "id": "Ap1UnrDpyHNg"
   },
   "source": [
    "## Эксперимент 2 — Добавление координат (`lat`, `lon`)\n",
    "\n",
    "В этом эксперименте к базовому датасету добавляются координаты объектов (`lat`, `lon`), отражающие их фактическое географическое положение в пространстве.\n",
    "\n",
    "### Цель:\n",
    "Проверить, даёт ли добавление географической информации модели возможность лучше учитывать локацию объекта.\n",
    "\n",
    "### Что делается:\n",
    "- Загружается версия датасета с колонками `lat`, `lon`;\n",
    "- Остальные признаки и параметры модели остаются неизменными по сравнению с Экспериментом 1;\n",
    "- Оценка проводится на той же валидационной выборке для корректного сравнения.\n",
    "\n",
    "### Гипотеза:\n",
    "Координаты должны дать прирост, особенно если модель сможет различить «центральные» и «периферийные» районы даже без дополнительных фичей.\n",
    "\n",
    "___\n",
    "\n"
   ]
  },
  {
   "cell_type": "code",
   "execution_count": 10,
   "id": "18T31x9ixKX_",
   "metadata": {
    "colab": {
     "base_uri": "https://localhost:8080/",
     "height": 313
    },
    "execution": {
     "iopub.execute_input": "2025-08-11T20:22:29.619896Z",
     "iopub.status.busy": "2025-08-11T20:22:29.618222Z",
     "iopub.status.idle": "2025-08-11T20:22:29.703278Z",
     "shell.execute_reply": "2025-08-11T20:22:29.702132Z",
     "shell.execute_reply.started": "2025-08-11T20:22:29.619833Z"
    },
    "id": "18T31x9ixKX_",
    "outputId": "580d2c9e-4a1a-4e64-d81c-b9dffc969d2c",
    "tags": []
   },
   "outputs": [
    {
     "data": {
      "text/html": [
       "<div>\n",
       "<style scoped>\n",
       "    .dataframe tbody tr th:only-of-type {\n",
       "        vertical-align: middle;\n",
       "    }\n",
       "\n",
       "    .dataframe tbody tr th {\n",
       "        vertical-align: top;\n",
       "    }\n",
       "\n",
       "    .dataframe thead th {\n",
       "        text-align: right;\n",
       "    }\n",
       "</style>\n",
       "<table border=\"1\" class=\"dataframe\">\n",
       "  <thead>\n",
       "    <tr style=\"text-align: right;\">\n",
       "      <th></th>\n",
       "      <th>floor</th>\n",
       "      <th>floors_count</th>\n",
       "      <th>rooms_count</th>\n",
       "      <th>total_meters</th>\n",
       "      <th>price_per_month</th>\n",
       "      <th>district</th>\n",
       "      <th>street</th>\n",
       "      <th>house_number</th>\n",
       "      <th>underground</th>\n",
       "      <th>lat</th>\n",
       "      <th>lon</th>\n",
       "      <th>geo_quality</th>\n",
       "    </tr>\n",
       "  </thead>\n",
       "  <tbody>\n",
       "    <tr>\n",
       "      <th>0</th>\n",
       "      <td>3</td>\n",
       "      <td>5</td>\n",
       "      <td>1</td>\n",
       "      <td>30.0</td>\n",
       "      <td>30000</td>\n",
       "      <td>Северное Измайлово</td>\n",
       "      <td>Сиреневый бульвар</td>\n",
       "      <td>7</td>\n",
       "      <td>Щёлковская</td>\n",
       "      <td>55.802980</td>\n",
       "      <td>37.775445</td>\n",
       "      <td>1</td>\n",
       "    </tr>\n",
       "    <tr>\n",
       "      <th>1</th>\n",
       "      <td>2</td>\n",
       "      <td>34</td>\n",
       "      <td>-1</td>\n",
       "      <td>55.7</td>\n",
       "      <td>25000</td>\n",
       "      <td>Войковский</td>\n",
       "      <td>Адмирала Макарова</td>\n",
       "      <td>6Ак1</td>\n",
       "      <td>Водный стадион</td>\n",
       "      <td>55.833869</td>\n",
       "      <td>37.491056</td>\n",
       "      <td>0</td>\n",
       "    </tr>\n",
       "    <tr>\n",
       "      <th>2</th>\n",
       "      <td>5</td>\n",
       "      <td>9</td>\n",
       "      <td>1</td>\n",
       "      <td>50.0</td>\n",
       "      <td>30000</td>\n",
       "      <td>Нагорный</td>\n",
       "      <td>Варшавское шоссе</td>\n",
       "      <td>71К1</td>\n",
       "      <td>Варшавская</td>\n",
       "      <td>55.660412</td>\n",
       "      <td>37.620267</td>\n",
       "      <td>1</td>\n",
       "    </tr>\n",
       "    <tr>\n",
       "      <th>3</th>\n",
       "      <td>1</td>\n",
       "      <td>5</td>\n",
       "      <td>1</td>\n",
       "      <td>32.0</td>\n",
       "      <td>30000</td>\n",
       "      <td>Лосиноостровский</td>\n",
       "      <td>Анадырский проезд</td>\n",
       "      <td>41</td>\n",
       "      <td>Бабушкинская</td>\n",
       "      <td>55.870534</td>\n",
       "      <td>37.693488</td>\n",
       "      <td>1</td>\n",
       "    </tr>\n",
       "    <tr>\n",
       "      <th>4</th>\n",
       "      <td>10</td>\n",
       "      <td>12</td>\n",
       "      <td>1</td>\n",
       "      <td>23.0</td>\n",
       "      <td>29998</td>\n",
       "      <td>НАО (Новомосковский)</td>\n",
       "      <td>Яворки</td>\n",
       "      <td>1к1</td>\n",
       "      <td>Филатов луг</td>\n",
       "      <td>55.509092</td>\n",
       "      <td>37.345487</td>\n",
       "      <td>1</td>\n",
       "    </tr>\n",
       "  </tbody>\n",
       "</table>\n",
       "</div>"
      ],
      "text/plain": [
       "   floor  floors_count  rooms_count  ...        lat        lon geo_quality\n",
       "0      3             5            1  ...  55.802980  37.775445           1\n",
       "1      2            34           -1  ...  55.833869  37.491056           0\n",
       "2      5             9            1  ...  55.660412  37.620267           1\n",
       "3      1             5            1  ...  55.870534  37.693488           1\n",
       "4     10            12            1  ...  55.509092  37.345487           1\n",
       "\n",
       "[5 rows x 12 columns]"
      ]
     },
     "execution_count": 10,
     "metadata": {},
     "output_type": "execute_result"
    }
   ],
   "source": [
    "data = pd.read_csv(\"cian_rent_Moscow_cleaned.csv\")\n",
    "data.head()"
   ]
  },
  {
   "cell_type": "code",
   "execution_count": 11,
   "id": "w1ncY0RqyWre",
   "metadata": {
    "execution": {
     "iopub.execute_input": "2025-08-11T20:22:29.830629Z",
     "iopub.status.busy": "2025-08-11T20:22:29.829262Z",
     "iopub.status.idle": "2025-08-11T20:22:29.846723Z",
     "shell.execute_reply": "2025-08-11T20:22:29.845590Z",
     "shell.execute_reply.started": "2025-08-11T20:22:29.830574Z"
    },
    "id": "w1ncY0RqyWre",
    "tags": []
   },
   "outputs": [],
   "source": [
    "X = data.drop(\"price_per_month\", axis = 1)\n",
    "y = data[\"price_per_month\"]"
   ]
  },
  {
   "cell_type": "code",
   "execution_count": 12,
   "id": "XvLU2SNPyY3s",
   "metadata": {
    "execution": {
     "iopub.execute_input": "2025-08-11T20:22:29.974679Z",
     "iopub.status.busy": "2025-08-11T20:22:29.973224Z",
     "iopub.status.idle": "2025-08-11T20:22:29.998089Z",
     "shell.execute_reply": "2025-08-11T20:22:29.996997Z",
     "shell.execute_reply.started": "2025-08-11T20:22:29.974620Z"
    },
    "id": "XvLU2SNPyY3s",
    "tags": []
   },
   "outputs": [],
   "source": [
    "X_train, X_val_test, y_train, y_val_test = train_test_split(X, y, random_state = 42, train_size = 0.8, shuffle = True)\n",
    "X_val, X_test, y_val, y_test = train_test_split(X_val_test, y_val_test, random_state = 42, test_size = 0.5, shuffle = True)"
   ]
  },
  {
   "cell_type": "code",
   "execution_count": 13,
   "id": "2vUU2Hj-yacS",
   "metadata": {
    "execution": {
     "iopub.execute_input": "2025-08-11T20:22:30.649771Z",
     "iopub.status.busy": "2025-08-11T20:22:30.648534Z",
     "iopub.status.idle": "2025-08-11T20:22:30.695707Z",
     "shell.execute_reply": "2025-08-11T20:22:30.694497Z",
     "shell.execute_reply.started": "2025-08-11T20:22:30.649737Z"
    },
    "id": "2vUU2Hj-yacS",
    "tags": []
   },
   "outputs": [],
   "source": [
    "baseline_model_exp2 = CatBoostRegressor(iterations = 3000,\n",
    "                                        learning_rate = 0.015,\n",
    "                                        loss_function=\"RMSE\",\n",
    "                                        eval_metric=\"RMSE\",\n",
    "                                        early_stopping_rounds=200,\n",
    "                                        verbose=100,\n",
    "                                        task_type=\"GPU\")"
   ]
  },
  {
   "cell_type": "code",
   "execution_count": 14,
   "id": "Ggbc-pY5ycLJ",
   "metadata": {
    "colab": {
     "base_uri": "https://localhost:8080/"
    },
    "execution": {
     "iopub.execute_input": "2025-08-11T20:22:31.468018Z",
     "iopub.status.busy": "2025-08-11T20:22:31.466447Z",
     "iopub.status.idle": "2025-08-11T20:23:29.286519Z",
     "shell.execute_reply": "2025-08-11T20:23:29.285215Z",
     "shell.execute_reply.started": "2025-08-11T20:22:31.467969Z"
    },
    "id": "Ggbc-pY5ycLJ",
    "outputId": "b2eac682-ed9e-4a7e-f6f4-1ad6b54627fd",
    "tags": []
   },
   "outputs": [
    {
     "name": "stdout",
     "output_type": "stream",
     "text": [
      "0:\tlearn: 109887.5507064\ttest: 110847.5665654\tbest: 110847.5665654 (0)\ttotal: 42.2ms\tremaining: 2m 6s\n",
      "100:\tlearn: 56642.1229857\ttest: 57188.9552036\tbest: 57188.9552036 (100)\ttotal: 2.12s\tremaining: 1m\n",
      "200:\tlearn: 48954.7285913\ttest: 50409.7204023\tbest: 50409.7204023 (200)\ttotal: 4.17s\tremaining: 58.1s\n",
      "300:\tlearn: 46839.8510424\ttest: 48935.8940197\tbest: 48935.8940197 (300)\ttotal: 6.22s\tremaining: 55.8s\n",
      "400:\tlearn: 45674.0963128\ttest: 48190.5345458\tbest: 48189.1097451 (397)\ttotal: 8.31s\tremaining: 53.9s\n",
      "500:\tlearn: 44791.7700823\ttest: 47617.2651260\tbest: 47617.2651260 (500)\ttotal: 10.4s\tremaining: 51.9s\n",
      "600:\tlearn: 44071.0467565\ttest: 47116.6840394\tbest: 47116.6840394 (600)\ttotal: 12.4s\tremaining: 49.4s\n",
      "700:\tlearn: 43430.5495795\ttest: 46665.8574784\tbest: 46665.8574784 (700)\ttotal: 14.2s\tremaining: 46.7s\n",
      "800:\tlearn: 42843.6974639\ttest: 46317.7079990\tbest: 46317.7079990 (800)\ttotal: 16s\tremaining: 44s\n",
      "900:\tlearn: 42335.3585752\ttest: 45978.1807247\tbest: 45978.1807247 (900)\ttotal: 17.7s\tremaining: 41.3s\n",
      "1000:\tlearn: 41856.6391872\ttest: 45567.3599479\tbest: 45567.3580430 (999)\ttotal: 19.6s\tremaining: 39.1s\n",
      "1100:\tlearn: 41441.7467464\ttest: 45332.3465076\tbest: 45330.3608103 (1096)\ttotal: 21.5s\tremaining: 37s\n",
      "1200:\tlearn: 41045.9128465\ttest: 45075.9796761\tbest: 45075.9796761 (1200)\ttotal: 23.4s\tremaining: 35.1s\n",
      "1300:\tlearn: 40593.0418274\ttest: 44816.8138893\tbest: 44813.4262417 (1297)\ttotal: 25.5s\tremaining: 33.2s\n",
      "1400:\tlearn: 40285.7783983\ttest: 44623.9552794\tbest: 44623.9552794 (1400)\ttotal: 27.4s\tremaining: 31.2s\n",
      "1500:\tlearn: 39990.0356525\ttest: 44432.5198891\tbest: 44432.5198891 (1500)\ttotal: 29.3s\tremaining: 29.2s\n",
      "1600:\tlearn: 39776.3657643\ttest: 44290.2333166\tbest: 44290.2333166 (1600)\ttotal: 31.2s\tremaining: 27.3s\n",
      "1700:\tlearn: 39577.6004139\ttest: 44201.2093276\tbest: 44200.9599234 (1699)\ttotal: 33.2s\tremaining: 25.3s\n",
      "1800:\tlearn: 39245.4604399\ttest: 43983.0220749\tbest: 43982.8977412 (1799)\ttotal: 35.1s\tremaining: 23.4s\n",
      "1900:\tlearn: 38998.5675676\ttest: 43846.6337554\tbest: 43846.6337554 (1900)\ttotal: 37.1s\tremaining: 21.4s\n",
      "2000:\tlearn: 38673.9112657\ttest: 43609.3099037\tbest: 43609.1685807 (1999)\ttotal: 39.1s\tremaining: 19.5s\n",
      "2100:\tlearn: 38453.9219654\ttest: 43474.1970737\tbest: 43474.1970737 (2100)\ttotal: 40.9s\tremaining: 17.5s\n",
      "2200:\tlearn: 38237.2387678\ttest: 43322.3944802\tbest: 43322.3944802 (2200)\ttotal: 42.7s\tremaining: 15.5s\n",
      "2300:\tlearn: 38018.7190926\ttest: 43191.3141526\tbest: 43190.7011822 (2298)\ttotal: 44.6s\tremaining: 13.6s\n",
      "2400:\tlearn: 37822.7796871\ttest: 43068.1171764\tbest: 43066.1842939 (2399)\ttotal: 46.5s\tremaining: 11.6s\n",
      "2500:\tlearn: 37679.1927014\ttest: 42954.8699896\tbest: 42954.8699896 (2500)\ttotal: 48.3s\tremaining: 9.63s\n",
      "2600:\tlearn: 37484.1784154\ttest: 42820.3315126\tbest: 42820.3315126 (2600)\ttotal: 50.1s\tremaining: 7.69s\n",
      "2700:\tlearn: 37309.1550803\ttest: 42677.3723399\tbest: 42677.3540346 (2699)\ttotal: 51.9s\tremaining: 5.74s\n",
      "2800:\tlearn: 37132.5319463\ttest: 42550.0579495\tbest: 42550.0579495 (2800)\ttotal: 53.7s\tremaining: 3.81s\n",
      "2900:\tlearn: 36983.6076714\ttest: 42485.8368123\tbest: 42484.5271675 (2895)\ttotal: 55.5s\tremaining: 1.89s\n",
      "2999:\tlearn: 36872.1561855\ttest: 42399.7188405\tbest: 42399.7188405 (2999)\ttotal: 57.2s\tremaining: 0us\n",
      "bestTest = 42399.71884\n",
      "bestIteration = 2999\n"
     ]
    },
    {
     "data": {
      "text/plain": [
       "<catboost.core.CatBoostRegressor at 0x7f3aedcd7760>"
      ]
     },
     "execution_count": 14,
     "metadata": {},
     "output_type": "execute_result"
    }
   ],
   "source": [
    "baseline_model_exp2.fit(X_train,\n",
    "                       y_train,\n",
    "                       eval_set = (X_val, y_val),\n",
    "                       cat_features = [\"district\", \"street\", \"underground\", \"house_number\"],\n",
    "                       use_best_model=True)"
   ]
  },
  {
   "cell_type": "code",
   "execution_count": 15,
   "id": "9cq_2Qijygxt",
   "metadata": {
    "colab": {
     "base_uri": "https://localhost:8080/"
    },
    "execution": {
     "iopub.execute_input": "2025-08-11T20:23:29.289353Z",
     "iopub.status.busy": "2025-08-11T20:23:29.288570Z",
     "iopub.status.idle": "2025-08-11T20:23:29.322903Z",
     "shell.execute_reply": "2025-08-11T20:23:29.321799Z",
     "shell.execute_reply.started": "2025-08-11T20:23:29.289307Z"
    },
    "id": "9cq_2Qijygxt",
    "outputId": "8d4adcd2-486a-4e11-a93e-6b10ad171e32",
    "tags": []
   },
   "outputs": [
    {
     "name": "stdout",
     "output_type": "stream",
     "text": [
      "MAE: 24034.85\n",
      "R2-Score: 0.8568\n",
      "MAPE: 0.1835\n"
     ]
    }
   ],
   "source": [
    "y_pred = baseline_model_exp2.predict(X_val)\n",
    "\n",
    "MAE = round(mean_absolute_error(y_val, y_pred), 2)\n",
    "R2 = round(r2_score(y_val, y_pred), 4)\n",
    "MAPE = round(mean_absolute_percentage_error(y_val, y_pred), 4)\n",
    "\n",
    "\n",
    "print(f\"MAE: {MAE}\")\n",
    "print(f\"R2-Score: {R2}\")\n",
    "print(f\"MAPE: {MAPE}\")"
   ]
  },
  {
   "cell_type": "markdown",
   "id": "o7faiEzYzDwy",
   "metadata": {
    "id": "o7faiEzYzDwy"
   },
   "source": [
    "### Выводы по Эксперименту 2 — Добавление координат (`lat`, `lon`)\n",
    "\n",
    "- **MAE:** 23 964 ₽ — ошибка снизилась на ~3.42% по сравнению с бейзлайном.\n",
    "- **R²:** 0.8568 — модель объясняет на ~1.26% больше дисперсии, чем без координат.\n",
    "- **MAPE:** 18.35% — относительная ошибка уменьшилась на 2.4%.\n",
    "\n",
    "Добавление координат дало **умеренное, но стабильное улучшение качества** на всех метриках.  \n",
    "Модель стала лучше учитывать географическое расположение объектов даже без явных расстояний до центра или метро.\n",
    "\n",
    "Координаты можно считать полезным признаком, который стоит включать в финальную модель.\n",
    "___"
   ]
  },
  {
   "cell_type": "markdown",
   "id": "lsXNGt1UzjAY",
   "metadata": {
    "id": "lsXNGt1UzjAY"
   },
   "source": [
    "## Эксперимент 3 — Добавление расстояний до центра и метро\n",
    "\n",
    "В этом эксперименте к признакам модели добавляются два числовых признака:\n",
    "\n",
    "- `dist_to_center_km` — расстояние от объекта до центра Москвы;\n",
    "- `dist_to_metro_km` — расстояние до ближайшей станции метро.\n",
    "\n",
    "### Цель:\n",
    "Проверить, усиливает ли явное указание удалённости от ключевых точек влияние локации на стоимость аренды.\n",
    "\n",
    "### Что делается:\n",
    "- К уже используемым признакам добавляются `dist_to_center_km` и `dist_to_metro_km`;\n",
    "- Остальные признаки сохраняются без изменений;\n",
    "- Модель и её параметры остаются прежними;\n",
    "- Оценка производится на той же валидационной выборке для честного сравнения с предыдущими экспериментами.\n",
    "\n",
    "### Гипотеза:\n",
    "Расстояние до центра и метро — одни из ключевых факторов, определяющих цену аренды. Их добавление должно заметно повысить точность модели.\n",
    "___"
   ]
  },
  {
   "cell_type": "code",
   "execution_count": 16,
   "id": "meS2Orq3ymUq",
   "metadata": {
    "colab": {
     "base_uri": "https://localhost:8080/",
     "height": 313
    },
    "execution": {
     "iopub.execute_input": "2025-08-11T20:24:39.795107Z",
     "iopub.status.busy": "2025-08-11T20:24:39.794388Z",
     "iopub.status.idle": "2025-08-11T20:24:39.902948Z",
     "shell.execute_reply": "2025-08-11T20:24:39.901659Z",
     "shell.execute_reply.started": "2025-08-11T20:24:39.795074Z"
    },
    "id": "meS2Orq3ymUq",
    "outputId": "4060c102-4f66-49fa-85e4-5268dac216d8",
    "tags": []
   },
   "outputs": [
    {
     "data": {
      "text/html": [
       "<div>\n",
       "<style scoped>\n",
       "    .dataframe tbody tr th:only-of-type {\n",
       "        vertical-align: middle;\n",
       "    }\n",
       "\n",
       "    .dataframe tbody tr th {\n",
       "        vertical-align: top;\n",
       "    }\n",
       "\n",
       "    .dataframe thead th {\n",
       "        text-align: right;\n",
       "    }\n",
       "</style>\n",
       "<table border=\"1\" class=\"dataframe\">\n",
       "  <thead>\n",
       "    <tr style=\"text-align: right;\">\n",
       "      <th></th>\n",
       "      <th>floor</th>\n",
       "      <th>floors_count</th>\n",
       "      <th>rooms_count</th>\n",
       "      <th>total_meters</th>\n",
       "      <th>price_per_month</th>\n",
       "      <th>district</th>\n",
       "      <th>street</th>\n",
       "      <th>house_number</th>\n",
       "      <th>underground</th>\n",
       "      <th>lat</th>\n",
       "      <th>lon</th>\n",
       "      <th>geo_quality</th>\n",
       "      <th>dist_to_center_km</th>\n",
       "      <th>dist_to_metro_km</th>\n",
       "    </tr>\n",
       "  </thead>\n",
       "  <tbody>\n",
       "    <tr>\n",
       "      <th>0</th>\n",
       "      <td>3</td>\n",
       "      <td>5</td>\n",
       "      <td>1</td>\n",
       "      <td>30.0</td>\n",
       "      <td>30000</td>\n",
       "      <td>Северное Измайлово</td>\n",
       "      <td>Сиреневый бульвар</td>\n",
       "      <td>7</td>\n",
       "      <td>Щелковская</td>\n",
       "      <td>55.802980</td>\n",
       "      <td>37.775445</td>\n",
       "      <td>1</td>\n",
       "      <td>11.387233</td>\n",
       "      <td>1.623468</td>\n",
       "    </tr>\n",
       "    <tr>\n",
       "      <th>1</th>\n",
       "      <td>2</td>\n",
       "      <td>34</td>\n",
       "      <td>-1</td>\n",
       "      <td>55.7</td>\n",
       "      <td>25000</td>\n",
       "      <td>Войковский</td>\n",
       "      <td>Адмирала Макарова</td>\n",
       "      <td>6Ак1</td>\n",
       "      <td>Водный стадион</td>\n",
       "      <td>55.833869</td>\n",
       "      <td>37.491056</td>\n",
       "      <td>0</td>\n",
       "      <td>12.054178</td>\n",
       "      <td>0.609563</td>\n",
       "    </tr>\n",
       "    <tr>\n",
       "      <th>2</th>\n",
       "      <td>5</td>\n",
       "      <td>9</td>\n",
       "      <td>1</td>\n",
       "      <td>50.0</td>\n",
       "      <td>30000</td>\n",
       "      <td>Нагорный</td>\n",
       "      <td>Варшавское шоссе</td>\n",
       "      <td>71К1</td>\n",
       "      <td>Варшавская</td>\n",
       "      <td>55.660412</td>\n",
       "      <td>37.620267</td>\n",
       "      <td>1</td>\n",
       "      <td>10.188199</td>\n",
       "      <td>0.788797</td>\n",
       "    </tr>\n",
       "    <tr>\n",
       "      <th>3</th>\n",
       "      <td>1</td>\n",
       "      <td>5</td>\n",
       "      <td>1</td>\n",
       "      <td>32.0</td>\n",
       "      <td>30000</td>\n",
       "      <td>Лосиноостровский</td>\n",
       "      <td>Анадырский проезд</td>\n",
       "      <td>41</td>\n",
       "      <td>Бабушкинская</td>\n",
       "      <td>55.870534</td>\n",
       "      <td>37.693488</td>\n",
       "      <td>1</td>\n",
       "      <td>14.007041</td>\n",
       "      <td>1.818472</td>\n",
       "    </tr>\n",
       "    <tr>\n",
       "      <th>4</th>\n",
       "      <td>10</td>\n",
       "      <td>12</td>\n",
       "      <td>1</td>\n",
       "      <td>23.0</td>\n",
       "      <td>29998</td>\n",
       "      <td>НАО (Новомосковский)</td>\n",
       "      <td>Яворки</td>\n",
       "      <td>1к1</td>\n",
       "      <td>Филатов луг</td>\n",
       "      <td>55.509092</td>\n",
       "      <td>37.345487</td>\n",
       "      <td>1</td>\n",
       "      <td>31.956738</td>\n",
       "      <td>10.803737</td>\n",
       "    </tr>\n",
       "  </tbody>\n",
       "</table>\n",
       "</div>"
      ],
      "text/plain": [
       "   floor  floors_count  ...  dist_to_center_km  dist_to_metro_km\n",
       "0      3             5  ...          11.387233          1.623468\n",
       "1      2            34  ...          12.054178          0.609563\n",
       "2      5             9  ...          10.188199          0.788797\n",
       "3      1             5  ...          14.007041          1.818472\n",
       "4     10            12  ...          31.956738         10.803737\n",
       "\n",
       "[5 rows x 14 columns]"
      ]
     },
     "execution_count": 16,
     "metadata": {},
     "output_type": "execute_result"
    }
   ],
   "source": [
    "data = pd.read_csv(\"cian_rent_Moscow_with_dist.csv\")\n",
    "data.head()"
   ]
  },
  {
   "cell_type": "code",
   "execution_count": 17,
   "id": "kpDYeDBr0VjG",
   "metadata": {
    "execution": {
     "iopub.execute_input": "2025-08-11T20:24:41.257755Z",
     "iopub.status.busy": "2025-08-11T20:24:41.256401Z",
     "iopub.status.idle": "2025-08-11T20:24:41.302622Z",
     "shell.execute_reply": "2025-08-11T20:24:41.301106Z",
     "shell.execute_reply.started": "2025-08-11T20:24:41.257715Z"
    },
    "id": "kpDYeDBr0VjG",
    "tags": []
   },
   "outputs": [],
   "source": [
    "X = data.drop(\"price_per_month\", axis = 1)\n",
    "y = data[\"price_per_month\"]"
   ]
  },
  {
   "cell_type": "code",
   "execution_count": 18,
   "id": "ObRDptHp0d2c",
   "metadata": {
    "execution": {
     "iopub.execute_input": "2025-08-11T20:24:41.752229Z",
     "iopub.status.busy": "2025-08-11T20:24:41.751001Z",
     "iopub.status.idle": "2025-08-11T20:24:41.800006Z",
     "shell.execute_reply": "2025-08-11T20:24:41.798625Z",
     "shell.execute_reply.started": "2025-08-11T20:24:41.752195Z"
    },
    "id": "ObRDptHp0d2c",
    "tags": []
   },
   "outputs": [],
   "source": [
    "X_train, X_val_test, y_train, y_val_test = train_test_split(X, y, random_state = 42, train_size = 0.8, shuffle = True)\n",
    "X_val, X_test, y_val, y_test = train_test_split(X_val_test, y_val_test, random_state = 42, test_size = 0.5, shuffle = True)"
   ]
  },
  {
   "cell_type": "code",
   "execution_count": 19,
   "id": "8ZH7p1P80fWR",
   "metadata": {
    "execution": {
     "iopub.execute_input": "2025-08-11T20:24:42.411546Z",
     "iopub.status.busy": "2025-08-11T20:24:42.410039Z",
     "iopub.status.idle": "2025-08-11T20:24:42.437725Z",
     "shell.execute_reply": "2025-08-11T20:24:42.436494Z",
     "shell.execute_reply.started": "2025-08-11T20:24:42.411512Z"
    },
    "id": "8ZH7p1P80fWR",
    "tags": []
   },
   "outputs": [],
   "source": [
    "baseline_model_exp3 = CatBoostRegressor(iterations = 3000,\n",
    "                                        learning_rate = 0.015,\n",
    "                                        loss_function=\"RMSE\",\n",
    "                                        eval_metric=\"RMSE\",\n",
    "                                        early_stopping_rounds=200,\n",
    "                                        verbose=100,\n",
    "                                        task_type=\"GPU\")"
   ]
  },
  {
   "cell_type": "code",
   "execution_count": 20,
   "id": "9EReKyBB0h1s",
   "metadata": {
    "colab": {
     "base_uri": "https://localhost:8080/"
    },
    "execution": {
     "iopub.execute_input": "2025-08-11T20:24:44.397442Z",
     "iopub.status.busy": "2025-08-11T20:24:44.396487Z",
     "iopub.status.idle": "2025-08-11T20:25:41.478818Z",
     "shell.execute_reply": "2025-08-11T20:25:41.477744Z",
     "shell.execute_reply.started": "2025-08-11T20:24:44.397409Z"
    },
    "id": "9EReKyBB0h1s",
    "outputId": "e6f8195b-bd74-45a0-c837-46ca995fb828",
    "tags": []
   },
   "outputs": [
    {
     "name": "stdout",
     "output_type": "stream",
     "text": [
      "0:\tlearn: 109903.1824467\ttest: 110868.6388446\tbest: 110868.6388446 (0)\ttotal: 22.4ms\tremaining: 1m 7s\n",
      "100:\tlearn: 56029.4063241\ttest: 57064.0295116\tbest: 57064.0295116 (100)\ttotal: 2s\tremaining: 57.5s\n",
      "200:\tlearn: 48349.1631085\ttest: 50165.2523156\tbest: 50165.2523156 (200)\ttotal: 4.03s\tremaining: 56.1s\n",
      "300:\tlearn: 46059.8949675\ttest: 48384.4350518\tbest: 48384.4350518 (300)\ttotal: 6.03s\tremaining: 54.1s\n",
      "400:\tlearn: 44838.2017482\ttest: 47529.6477124\tbest: 47529.6477124 (400)\ttotal: 8.01s\tremaining: 51.9s\n",
      "500:\tlearn: 43892.5826744\ttest: 46885.4451734\tbest: 46884.1695571 (498)\ttotal: 9.98s\tremaining: 49.8s\n",
      "600:\tlearn: 43233.4751386\ttest: 46478.6527823\tbest: 46478.6527823 (600)\ttotal: 11.8s\tremaining: 47.1s\n",
      "700:\tlearn: 42507.8626139\ttest: 46019.2697086\tbest: 46019.2697086 (700)\ttotal: 13.7s\tremaining: 44.9s\n",
      "800:\tlearn: 41765.7982689\ttest: 45528.9517938\tbest: 45528.7077564 (799)\ttotal: 15.5s\tremaining: 42.5s\n",
      "900:\tlearn: 41035.2771725\ttest: 45036.8325274\tbest: 45036.8325274 (900)\ttotal: 17.4s\tremaining: 40.4s\n",
      "1000:\tlearn: 40545.1952430\ttest: 44725.3272094\tbest: 44725.3272094 (1000)\ttotal: 19.1s\tremaining: 38.1s\n",
      "1100:\tlearn: 39954.6289911\ttest: 44317.2045347\tbest: 44312.4212116 (1099)\ttotal: 20.9s\tremaining: 36.1s\n",
      "1200:\tlearn: 39411.4772965\ttest: 43957.2577409\tbest: 43957.2577409 (1200)\ttotal: 22.9s\tremaining: 34.2s\n",
      "1300:\tlearn: 39008.9975903\ttest: 43742.8882170\tbest: 43741.0764377 (1297)\ttotal: 24.7s\tremaining: 32.3s\n",
      "1400:\tlearn: 38612.4789041\ttest: 43499.3335894\tbest: 43499.3335894 (1400)\ttotal: 26.6s\tremaining: 30.3s\n",
      "1500:\tlearn: 38246.2583651\ttest: 43215.6591252\tbest: 43215.6591252 (1500)\ttotal: 28.4s\tremaining: 28.4s\n",
      "1600:\tlearn: 37952.5628028\ttest: 43013.6064463\tbest: 43013.4692202 (1596)\ttotal: 30.2s\tremaining: 26.4s\n",
      "1700:\tlearn: 37603.6195966\ttest: 42787.4123551\tbest: 42787.4123551 (1700)\ttotal: 32.2s\tremaining: 24.6s\n",
      "1800:\tlearn: 37219.4301821\ttest: 42502.8830299\tbest: 42502.8258461 (1799)\ttotal: 34.1s\tremaining: 22.7s\n",
      "1900:\tlearn: 36965.0757176\ttest: 42341.6416918\tbest: 42340.6576545 (1899)\ttotal: 35.9s\tremaining: 20.8s\n",
      "2000:\tlearn: 36696.1438478\ttest: 42194.2630810\tbest: 42193.7960907 (1999)\ttotal: 37.8s\tremaining: 18.9s\n",
      "2100:\tlearn: 36391.3553455\ttest: 42038.6089687\tbest: 42038.6089687 (2099)\ttotal: 39.7s\tremaining: 17s\n",
      "2200:\tlearn: 36135.0849346\ttest: 41855.4226908\tbest: 41855.4226908 (2200)\ttotal: 41.7s\tremaining: 15.1s\n",
      "2300:\tlearn: 35905.0545088\ttest: 41738.8021284\tbest: 41738.2863688 (2298)\ttotal: 43.6s\tremaining: 13.2s\n",
      "2400:\tlearn: 35632.5727445\ttest: 41613.8206609\tbest: 41613.4535393 (2398)\ttotal: 45.4s\tremaining: 11.3s\n",
      "2500:\tlearn: 35403.5504636\ttest: 41450.2475862\tbest: 41450.2475862 (2500)\ttotal: 47.4s\tremaining: 9.45s\n",
      "2600:\tlearn: 35192.2388524\ttest: 41347.2134564\tbest: 41345.7774698 (2599)\ttotal: 49.2s\tremaining: 7.55s\n",
      "2700:\tlearn: 35004.6063225\ttest: 41264.5588493\tbest: 41264.5588493 (2700)\ttotal: 51.1s\tremaining: 5.65s\n",
      "2800:\tlearn: 34830.4973785\ttest: 41164.3158484\tbest: 41163.1476193 (2792)\ttotal: 52.9s\tremaining: 3.76s\n",
      "2900:\tlearn: 34695.1639075\ttest: 41094.0154619\tbest: 41094.0154619 (2900)\ttotal: 54.6s\tremaining: 1.86s\n",
      "2999:\tlearn: 34522.4736608\ttest: 41034.5324538\tbest: 41034.5324538 (2999)\ttotal: 56.5s\tremaining: 0us\n",
      "bestTest = 41034.53245\n",
      "bestIteration = 2999\n"
     ]
    },
    {
     "data": {
      "text/plain": [
       "<catboost.core.CatBoostRegressor at 0x7f3aedabdcf0>"
      ]
     },
     "execution_count": 20,
     "metadata": {},
     "output_type": "execute_result"
    }
   ],
   "source": [
    "baseline_model_exp3.fit(X_train,\n",
    "                       y_train,\n",
    "                       eval_set = (X_val, y_val),\n",
    "                       cat_features = [\"district\", \"street\", \"underground\", \"house_number\"],\n",
    "                       use_best_model=True)"
   ]
  },
  {
   "cell_type": "code",
   "execution_count": 21,
   "id": "67NSjZ9a0j3a",
   "metadata": {
    "colab": {
     "base_uri": "https://localhost:8080/"
    },
    "execution": {
     "iopub.execute_input": "2025-08-11T20:25:41.482065Z",
     "iopub.status.busy": "2025-08-11T20:25:41.480798Z",
     "iopub.status.idle": "2025-08-11T20:25:41.518247Z",
     "shell.execute_reply": "2025-08-11T20:25:41.517205Z",
     "shell.execute_reply.started": "2025-08-11T20:25:41.482020Z"
    },
    "id": "67NSjZ9a0j3a",
    "outputId": "ab9a831e-03ee-4e25-9948-2129dc7691cc",
    "tags": []
   },
   "outputs": [
    {
     "name": "stdout",
     "output_type": "stream",
     "text": [
      "MAE: 23035.98\n",
      "R2-Score: 0.8658\n",
      "MAPE: 0.1781\n"
     ]
    }
   ],
   "source": [
    "y_pred = baseline_model_exp3.predict(X_val)\n",
    "\n",
    "MAE = round(mean_absolute_error(y_val, y_pred), 2)\n",
    "R2 = round(r2_score(y_val, y_pred), 4)\n",
    "MAPE = round(mean_absolute_percentage_error(y_val, y_pred), 4)\n",
    "\n",
    "\n",
    "print(f\"MAE: {MAE}\")\n",
    "print(f\"R2-Score: {R2}\")\n",
    "print(f\"MAPE: {MAPE}\")"
   ]
  },
  {
   "cell_type": "markdown",
   "id": "PpuVR2cA3H4E",
   "metadata": {
    "id": "PpuVR2cA3H4E"
   },
   "source": [
    "### Выводы по Эксперименту 3 — Добавление расстояний до центра и метро\n",
    "\n",
    "- **MAE:** 23 036 ₽ — ошибка снизилась на ~3.62% по сравнению с предыдущим экспериментом.  \n",
    "- **R²:** 0.8658 — модель объясняет на ~1% больше дисперсии.  \n",
    "- **MAPE:** 17.81% — относительная ошибка уменьшилась на ~2.9%.\n",
    "\n",
    "Добавление расстояний до центра (`dist_to_center_km`) и метро (`dist_to_metro_km`) дало заметное улучшение на всех метриках.  \n",
    "Даже при наличии координат эти признаки вносят дополнительную структурированную информацию о локации.\n",
    "\n",
    "`dist_to_center_km` и `dist_to_metro_km` — **одни из ключевых признаков**, которые должны быть включены в финальную модель.\n",
    "___"
   ]
  },
  {
   "cell_type": "markdown",
   "id": "Y-5qQWib3kdL",
   "metadata": {
    "id": "Y-5qQWib3kdL"
   },
   "source": [
    "## Эксперимент 4 — Добавление инфраструктурных признаков (POI в радиусе 1 км)\n",
    "\n",
    "В этом эксперименте к уже использованным признакам добавляются числовые признаки, описывающие наличие объектов социальной и бытовой инфраструктуры в радиусе 1 км от каждой квартиры:\n",
    "\n",
    "- `parks_1km` — количество парков и зелёных зон;\n",
    "- `schools_1km` — количество школ, лицеев, гимназий;\n",
    "- `groceries_top_1km` — количество продуктовых магазинов из топ-10 сетей;\n",
    "- `pharmacies_top_1km` — количество аптек из топ-10 сетей;\n",
    "- `clinics_1km` — количество поликлиник и медицинских центров.\n",
    "\n",
    "### Цель:\n",
    "Проверить, улучшает ли наличие инфраструктурных объектов вокруг квартиры способность модели точно предсказывать стоимость аренды.\n",
    "\n",
    "### Что делается:\n",
    "- К существующим признакам добавляются 5 новых количественных переменных;\n",
    "- Категориальные и дистанционные признаки остаются без изменений;\n",
    "- Обучение модели и оценка метрик производятся тем же способом, что и в предыдущих экспериментах.\n",
    "\n",
    "### Гипотеза:\n",
    "Наличие развитой инфраструктуры рядом с объектом повышает его привлекательность и влияет на цену аренды, особенно в массовом сегменте.\n",
    "___"
   ]
  },
  {
   "cell_type": "code",
   "execution_count": 22,
   "id": "hmcCWZq11OQd",
   "metadata": {
    "colab": {
     "base_uri": "https://localhost:8080/",
     "height": 313
    },
    "execution": {
     "iopub.execute_input": "2025-08-11T20:27:26.110837Z",
     "iopub.status.busy": "2025-08-11T20:27:26.109508Z",
     "iopub.status.idle": "2025-08-11T20:27:26.234850Z",
     "shell.execute_reply": "2025-08-11T20:27:26.233257Z",
     "shell.execute_reply.started": "2025-08-11T20:27:26.110765Z"
    },
    "id": "hmcCWZq11OQd",
    "outputId": "8496358f-c5b5-4433-a257-e628dc71e9b8",
    "tags": []
   },
   "outputs": [
    {
     "data": {
      "text/html": [
       "<div>\n",
       "<style scoped>\n",
       "    .dataframe tbody tr th:only-of-type {\n",
       "        vertical-align: middle;\n",
       "    }\n",
       "\n",
       "    .dataframe tbody tr th {\n",
       "        vertical-align: top;\n",
       "    }\n",
       "\n",
       "    .dataframe thead th {\n",
       "        text-align: right;\n",
       "    }\n",
       "</style>\n",
       "<table border=\"1\" class=\"dataframe\">\n",
       "  <thead>\n",
       "    <tr style=\"text-align: right;\">\n",
       "      <th></th>\n",
       "      <th>floor</th>\n",
       "      <th>floors_count</th>\n",
       "      <th>rooms_count</th>\n",
       "      <th>total_meters</th>\n",
       "      <th>price_per_month</th>\n",
       "      <th>district</th>\n",
       "      <th>street</th>\n",
       "      <th>house_number</th>\n",
       "      <th>underground</th>\n",
       "      <th>lat</th>\n",
       "      <th>lon</th>\n",
       "      <th>geo_quality</th>\n",
       "      <th>dist_to_center_km</th>\n",
       "      <th>dist_to_metro_km</th>\n",
       "      <th>parks_1km</th>\n",
       "      <th>groceries_top_1km</th>\n",
       "      <th>schools_1km</th>\n",
       "      <th>pharmacies_top_1km</th>\n",
       "      <th>clinics_1km</th>\n",
       "    </tr>\n",
       "  </thead>\n",
       "  <tbody>\n",
       "    <tr>\n",
       "      <th>0</th>\n",
       "      <td>3</td>\n",
       "      <td>5</td>\n",
       "      <td>1</td>\n",
       "      <td>30.0</td>\n",
       "      <td>30000</td>\n",
       "      <td>Северное Измайлово</td>\n",
       "      <td>Сиреневый бульвар</td>\n",
       "      <td>7</td>\n",
       "      <td>Щелковская</td>\n",
       "      <td>55.802980</td>\n",
       "      <td>37.775445</td>\n",
       "      <td>1</td>\n",
       "      <td>11.387233</td>\n",
       "      <td>1.623468</td>\n",
       "      <td>0</td>\n",
       "      <td>11</td>\n",
       "      <td>4</td>\n",
       "      <td>0</td>\n",
       "      <td>4</td>\n",
       "    </tr>\n",
       "    <tr>\n",
       "      <th>1</th>\n",
       "      <td>2</td>\n",
       "      <td>34</td>\n",
       "      <td>-1</td>\n",
       "      <td>55.7</td>\n",
       "      <td>25000</td>\n",
       "      <td>Войковский</td>\n",
       "      <td>Адмирала Макарова</td>\n",
       "      <td>6Ак1</td>\n",
       "      <td>Водный стадион</td>\n",
       "      <td>55.833869</td>\n",
       "      <td>37.491056</td>\n",
       "      <td>0</td>\n",
       "      <td>12.054178</td>\n",
       "      <td>0.609563</td>\n",
       "      <td>0</td>\n",
       "      <td>6</td>\n",
       "      <td>1</td>\n",
       "      <td>0</td>\n",
       "      <td>0</td>\n",
       "    </tr>\n",
       "    <tr>\n",
       "      <th>2</th>\n",
       "      <td>5</td>\n",
       "      <td>9</td>\n",
       "      <td>1</td>\n",
       "      <td>50.0</td>\n",
       "      <td>30000</td>\n",
       "      <td>Нагорный</td>\n",
       "      <td>Варшавское шоссе</td>\n",
       "      <td>71К1</td>\n",
       "      <td>Варшавская</td>\n",
       "      <td>55.660412</td>\n",
       "      <td>37.620267</td>\n",
       "      <td>1</td>\n",
       "      <td>10.188199</td>\n",
       "      <td>0.788797</td>\n",
       "      <td>0</td>\n",
       "      <td>2</td>\n",
       "      <td>5</td>\n",
       "      <td>0</td>\n",
       "      <td>4</td>\n",
       "    </tr>\n",
       "    <tr>\n",
       "      <th>3</th>\n",
       "      <td>1</td>\n",
       "      <td>5</td>\n",
       "      <td>1</td>\n",
       "      <td>32.0</td>\n",
       "      <td>30000</td>\n",
       "      <td>Лосиноостровский</td>\n",
       "      <td>Анадырский проезд</td>\n",
       "      <td>41</td>\n",
       "      <td>Бабушкинская</td>\n",
       "      <td>55.870534</td>\n",
       "      <td>37.693488</td>\n",
       "      <td>1</td>\n",
       "      <td>14.007041</td>\n",
       "      <td>1.818472</td>\n",
       "      <td>0</td>\n",
       "      <td>3</td>\n",
       "      <td>3</td>\n",
       "      <td>1</td>\n",
       "      <td>0</td>\n",
       "    </tr>\n",
       "    <tr>\n",
       "      <th>4</th>\n",
       "      <td>10</td>\n",
       "      <td>12</td>\n",
       "      <td>1</td>\n",
       "      <td>23.0</td>\n",
       "      <td>29998</td>\n",
       "      <td>НАО (Новомосковский)</td>\n",
       "      <td>Яворки</td>\n",
       "      <td>1к1</td>\n",
       "      <td>Филатов луг</td>\n",
       "      <td>55.509092</td>\n",
       "      <td>37.345487</td>\n",
       "      <td>1</td>\n",
       "      <td>31.956738</td>\n",
       "      <td>10.803737</td>\n",
       "      <td>0</td>\n",
       "      <td>0</td>\n",
       "      <td>1</td>\n",
       "      <td>0</td>\n",
       "      <td>0</td>\n",
       "    </tr>\n",
       "  </tbody>\n",
       "</table>\n",
       "</div>"
      ],
      "text/plain": [
       "   floor  floors_count  ...  pharmacies_top_1km  clinics_1km\n",
       "0      3             5  ...                   0            4\n",
       "1      2            34  ...                   0            0\n",
       "2      5             9  ...                   0            4\n",
       "3      1             5  ...                   1            0\n",
       "4     10            12  ...                   0            0\n",
       "\n",
       "[5 rows x 19 columns]"
      ]
     },
     "execution_count": 22,
     "metadata": {},
     "output_type": "execute_result"
    }
   ],
   "source": [
    "data = pd.read_csv(\"cian_rent_Moscow_with_poi.csv\")\n",
    "data.head()"
   ]
  },
  {
   "cell_type": "code",
   "execution_count": 23,
   "id": "8GqpA0rL3ytb",
   "metadata": {
    "execution": {
     "iopub.execute_input": "2025-08-11T20:27:26.784068Z",
     "iopub.status.busy": "2025-08-11T20:27:26.782706Z",
     "iopub.status.idle": "2025-08-11T20:27:26.811254Z",
     "shell.execute_reply": "2025-08-11T20:27:26.810109Z",
     "shell.execute_reply.started": "2025-08-11T20:27:26.784030Z"
    },
    "id": "8GqpA0rL3ytb",
    "tags": []
   },
   "outputs": [],
   "source": [
    "X = data.drop(\"price_per_month\", axis = 1)\n",
    "y = data[\"price_per_month\"]"
   ]
  },
  {
   "cell_type": "code",
   "execution_count": 24,
   "id": "3eav9Dxq31B_",
   "metadata": {
    "execution": {
     "iopub.execute_input": "2025-08-11T20:27:27.461836Z",
     "iopub.status.busy": "2025-08-11T20:27:27.460678Z",
     "iopub.status.idle": "2025-08-11T20:27:27.510050Z",
     "shell.execute_reply": "2025-08-11T20:27:27.508896Z",
     "shell.execute_reply.started": "2025-08-11T20:27:27.461785Z"
    },
    "id": "3eav9Dxq31B_",
    "tags": []
   },
   "outputs": [],
   "source": [
    "X_train, X_val_test, y_train, y_val_test = train_test_split(X, y, random_state = 42, train_size = 0.8, shuffle = True)\n",
    "X_val, X_test, y_val, y_test = train_test_split(X_val_test, y_val_test, random_state = 42, test_size = 0.5, shuffle = True)"
   ]
  },
  {
   "cell_type": "code",
   "execution_count": 25,
   "id": "csp0Hf0M33oH",
   "metadata": {
    "execution": {
     "iopub.execute_input": "2025-08-11T20:27:27.999375Z",
     "iopub.status.busy": "2025-08-11T20:27:27.998030Z",
     "iopub.status.idle": "2025-08-11T20:27:28.025596Z",
     "shell.execute_reply": "2025-08-11T20:27:28.024501Z",
     "shell.execute_reply.started": "2025-08-11T20:27:27.999330Z"
    },
    "id": "csp0Hf0M33oH",
    "tags": []
   },
   "outputs": [],
   "source": [
    "baseline_model_exp4 = CatBoostRegressor(iterations = 3000,\n",
    "                                        learning_rate = 0.015,\n",
    "                                        loss_function=\"RMSE\",\n",
    "                                        eval_metric=\"RMSE\",\n",
    "                                        early_stopping_rounds=200,\n",
    "                                        verbose=100,\n",
    "                                        task_type=\"GPU\")"
   ]
  },
  {
   "cell_type": "code",
   "execution_count": 26,
   "id": "Tx1ORQf93578",
   "metadata": {
    "colab": {
     "base_uri": "https://localhost:8080/"
    },
    "execution": {
     "iopub.execute_input": "2025-08-11T20:27:28.634691Z",
     "iopub.status.busy": "2025-08-11T20:27:28.633674Z",
     "iopub.status.idle": "2025-08-11T20:28:27.981867Z",
     "shell.execute_reply": "2025-08-11T20:28:27.980743Z",
     "shell.execute_reply.started": "2025-08-11T20:27:28.634619Z"
    },
    "id": "Tx1ORQf93578",
    "outputId": "8eeb607d-4df5-40e0-ea57-e6858173bc89",
    "tags": []
   },
   "outputs": [
    {
     "name": "stdout",
     "output_type": "stream",
     "text": [
      "0:\tlearn: 109902.1589327\ttest: 110867.5489973\tbest: 110867.5489973 (0)\ttotal: 43.5ms\tremaining: 2m 10s\n",
      "100:\tlearn: 56011.7623321\ttest: 57023.3639494\tbest: 57023.3639494 (100)\ttotal: 2.06s\tremaining: 59.1s\n",
      "200:\tlearn: 48193.8585722\ttest: 49902.2720364\tbest: 49902.2720364 (200)\ttotal: 4.05s\tremaining: 56.4s\n",
      "300:\tlearn: 45822.2672756\ttest: 48130.1642461\tbest: 48130.1642461 (300)\ttotal: 6.12s\tremaining: 54.9s\n",
      "400:\tlearn: 44570.6165623\ttest: 47230.5474319\tbest: 47230.5474319 (400)\ttotal: 8.13s\tremaining: 52.7s\n",
      "500:\tlearn: 43508.6442578\ttest: 46540.5760025\tbest: 46540.5760025 (500)\ttotal: 10.1s\tremaining: 50.6s\n",
      "600:\tlearn: 42821.6767510\ttest: 46142.9096986\tbest: 46142.9096986 (600)\ttotal: 12.1s\tremaining: 48.4s\n",
      "700:\tlearn: 42123.7896721\ttest: 45723.9390872\tbest: 45723.0525225 (698)\ttotal: 14s\tremaining: 46s\n",
      "800:\tlearn: 41289.6847319\ttest: 45126.7759583\tbest: 45126.7759583 (800)\ttotal: 15.9s\tremaining: 43.7s\n",
      "900:\tlearn: 40600.2447362\ttest: 44711.4639097\tbest: 44711.3551914 (899)\ttotal: 17.8s\tremaining: 41.5s\n",
      "1000:\tlearn: 40001.5394329\ttest: 44372.0289705\tbest: 44372.0211455 (999)\ttotal: 19.6s\tremaining: 39.2s\n",
      "1100:\tlearn: 39412.6400880\ttest: 43970.1546268\tbest: 43970.1546268 (1100)\ttotal: 21.5s\tremaining: 37.1s\n",
      "1200:\tlearn: 38900.1583976\ttest: 43621.5773824\tbest: 43621.5773824 (1200)\ttotal: 23.5s\tremaining: 35.2s\n",
      "1300:\tlearn: 38427.8568340\ttest: 43291.2626983\tbest: 43290.4766980 (1299)\ttotal: 25.4s\tremaining: 33.2s\n",
      "1400:\tlearn: 37964.2472985\ttest: 42944.0149702\tbest: 42943.6046448 (1399)\ttotal: 27.4s\tremaining: 31.3s\n",
      "1500:\tlearn: 37587.0813998\ttest: 42671.6606914\tbest: 42671.6606914 (1500)\ttotal: 29.4s\tremaining: 29.3s\n",
      "1600:\tlearn: 37257.8101624\ttest: 42476.2474800\tbest: 42476.2474800 (1600)\ttotal: 31.3s\tremaining: 27.4s\n",
      "1700:\tlearn: 36926.3174400\ttest: 42235.8250877\tbest: 42235.8250877 (1700)\ttotal: 33.3s\tremaining: 25.4s\n",
      "1800:\tlearn: 36590.5444418\ttest: 41969.7275692\tbest: 41969.7275692 (1800)\ttotal: 35.3s\tremaining: 23.5s\n",
      "1900:\tlearn: 36357.0945668\ttest: 41852.1852566\tbest: 41852.1852566 (1900)\ttotal: 37.2s\tremaining: 21.5s\n",
      "2000:\tlearn: 36046.1806660\ttest: 41651.5293287\tbest: 41650.3580926 (1996)\ttotal: 39.2s\tremaining: 19.5s\n",
      "2100:\tlearn: 35742.4706317\ttest: 41489.5443554\tbest: 41488.8706753 (2098)\ttotal: 41.1s\tremaining: 17.6s\n",
      "2200:\tlearn: 35482.6464459\ttest: 41323.3011397\tbest: 41320.3497279 (2199)\ttotal: 43.1s\tremaining: 15.6s\n",
      "2300:\tlearn: 35221.0423618\ttest: 41159.8536253\tbest: 41159.8536253 (2300)\ttotal: 45s\tremaining: 13.7s\n",
      "2400:\tlearn: 34991.8492232\ttest: 41030.8790711\tbest: 41028.2895630 (2398)\ttotal: 47s\tremaining: 11.7s\n",
      "2500:\tlearn: 34742.8365389\ttest: 40914.4392967\tbest: 40914.4392967 (2500)\ttotal: 49.1s\tremaining: 9.79s\n",
      "2600:\tlearn: 34563.6400662\ttest: 40802.7498048\tbest: 40802.7498048 (2600)\ttotal: 51s\tremaining: 7.82s\n",
      "2700:\tlearn: 34355.3480444\ttest: 40678.6970878\tbest: 40678.6970878 (2700)\ttotal: 53s\tremaining: 5.86s\n",
      "2800:\tlearn: 34177.8251542\ttest: 40563.6174057\tbest: 40563.6174057 (2800)\ttotal: 54.9s\tremaining: 3.9s\n",
      "2900:\tlearn: 34034.2371465\ttest: 40506.5099824\tbest: 40506.5099824 (2900)\ttotal: 56.9s\tremaining: 1.94s\n",
      "2999:\tlearn: 33821.7599075\ttest: 40405.8987193\tbest: 40405.8450126 (2998)\ttotal: 58.8s\tremaining: 0us\n",
      "bestTest = 40405.84501\n",
      "bestIteration = 2998\n",
      "Shrink model to first 2999 iterations.\n"
     ]
    },
    {
     "data": {
      "text/plain": [
       "<catboost.core.CatBoostRegressor at 0x7f3ae7eb3d90>"
      ]
     },
     "execution_count": 26,
     "metadata": {},
     "output_type": "execute_result"
    }
   ],
   "source": [
    "baseline_model_exp4.fit(X_train,\n",
    "                       y_train,\n",
    "                       eval_set = (X_val, y_val),\n",
    "                       cat_features = [\"district\", \"street\", \"underground\", \"house_number\"],\n",
    "                       use_best_model=True)"
   ]
  },
  {
   "cell_type": "code",
   "execution_count": 27,
   "id": "eyxAjvIE3766",
   "metadata": {
    "colab": {
     "base_uri": "https://localhost:8080/"
    },
    "execution": {
     "iopub.execute_input": "2025-08-11T20:28:27.985245Z",
     "iopub.status.busy": "2025-08-11T20:28:27.983996Z",
     "iopub.status.idle": "2025-08-11T20:28:28.027458Z",
     "shell.execute_reply": "2025-08-11T20:28:28.026284Z",
     "shell.execute_reply.started": "2025-08-11T20:28:27.985208Z"
    },
    "id": "eyxAjvIE3766",
    "outputId": "96b79859-dd5e-4331-e345-a70c459a9d96",
    "tags": []
   },
   "outputs": [
    {
     "name": "stdout",
     "output_type": "stream",
     "text": [
      "MAE: 22560.19\n",
      "R2-Score: 0.8699\n",
      "MAPE: 0.1768\n"
     ]
    }
   ],
   "source": [
    "y_pred = baseline_model_exp4.predict(X_val)\n",
    "\n",
    "MAE = round(mean_absolute_error(y_val, y_pred), 2)\n",
    "R2 = round(r2_score(y_val, y_pred), 4)\n",
    "MAPE = round(mean_absolute_percentage_error(y_val, y_pred), 4)\n",
    "\n",
    "\n",
    "print(f\"MAE: {MAE}\")\n",
    "print(f\"R2-Score: {R2}\")\n",
    "print(f\"MAPE: {MAPE}\")"
   ]
  },
  {
   "cell_type": "markdown",
   "id": "0i0yEf5K4aC9",
   "metadata": {
    "id": "0i0yEf5K4aC9"
   },
   "source": [
    "### Выводы по Эксперименту 4 — Добавление инфраструктурных признаков\n",
    "\n",
    "- **MAE:** 22 560 ₽ — ошибка снизилась на ~2.06% по сравнению с предыдущим экспериментом.  \n",
    "- **R²:** 0.8699 — модель объясняет на ~0.5% больше дисперсии.  \n",
    "- **MAPE:** 17.68% — относительная ошибка уменьшилась на ~0.7%.\n",
    "\n",
    "Добавление признаков, отражающих наличие парков, школ, аптек, магазинов и клиник, дало **положительный прирост по всем метрикам**.  \n",
    "Особенно заметно это на MAE и R², что говорит о том, что инфраструктура действительно учитывается моделью при оценке стоимости аренды.\n",
    "\n",
    "Признаки инфраструктуры являются **полезными и обоснованными** и должны быть включены в финальный состав признаков модели.\n",
    "___"
   ]
  },
  {
   "cell_type": "markdown",
   "id": "ibxpNu5E5R5D",
   "metadata": {
    "id": "ibxpNu5E5R5D"
   },
   "source": [
    "## Эксперимент 5 — Повторное обучение модели после удаления выбросов\n",
    "\n",
    "В этом эксперименте проводится обучение на том же составе признаков, что и в Эксперименте 4, **но после удаления выбросов** из датасета.\n",
    "\n",
    "Удалены были:\n",
    "- Объекты с экстремально высокими значениями стоимости аренды (`price_per_month`);\n",
    "- Квартиры с некорректными или аномальными значениями признаков;\n",
    "- Записи с неадекватными координатами или расстояниями до метро/центра.\n",
    "\n",
    "### Цель:\n",
    "Проверить, как очистка датасета влияет на устойчивость модели и качество предсказания, особенно в массовом сегменте, где выбросы могут искажать обучение.\n",
    "\n",
    "### Что делается:\n",
    "- Используется точно такой же состав признаков, как в Эксперименте 4;\n",
    "- Данные прошли финальную предобработку: удалены выбросы, технические столбцы и шумовые значения;\n",
    "- Проводится повторное обучение и сравнение метрик с предыдущими экспериментами.\n",
    "\n",
    "### Гипотеза:\n",
    "Удаление редких и нетипичных объектов снизит дисперсию и немного улучшит метрики.\n",
    "___"
   ]
  },
  {
   "cell_type": "code",
   "execution_count": 28,
   "id": "AOAlIbt14DhQ",
   "metadata": {
    "colab": {
     "base_uri": "https://localhost:8080/",
     "height": 313
    },
    "execution": {
     "iopub.execute_input": "2025-08-11T20:29:44.862230Z",
     "iopub.status.busy": "2025-08-11T20:29:44.860778Z",
     "iopub.status.idle": "2025-08-11T20:29:45.187879Z",
     "shell.execute_reply": "2025-08-11T20:29:45.186586Z",
     "shell.execute_reply.started": "2025-08-11T20:29:44.862181Z"
    },
    "id": "AOAlIbt14DhQ",
    "outputId": "def16a9b-51dd-4619-eb31-c96c8f55e7b2",
    "tags": []
   },
   "outputs": [
    {
     "data": {
      "text/html": [
       "<div>\n",
       "<style scoped>\n",
       "    .dataframe tbody tr th:only-of-type {\n",
       "        vertical-align: middle;\n",
       "    }\n",
       "\n",
       "    .dataframe tbody tr th {\n",
       "        vertical-align: top;\n",
       "    }\n",
       "\n",
       "    .dataframe thead th {\n",
       "        text-align: right;\n",
       "    }\n",
       "</style>\n",
       "<table border=\"1\" class=\"dataframe\">\n",
       "  <thead>\n",
       "    <tr style=\"text-align: right;\">\n",
       "      <th></th>\n",
       "      <th>floor</th>\n",
       "      <th>floors_count</th>\n",
       "      <th>rooms_count</th>\n",
       "      <th>total_meters</th>\n",
       "      <th>price_per_month</th>\n",
       "      <th>district</th>\n",
       "      <th>street</th>\n",
       "      <th>house_number</th>\n",
       "      <th>underground</th>\n",
       "      <th>lat</th>\n",
       "      <th>lon</th>\n",
       "      <th>geo_quality</th>\n",
       "      <th>dist_to_center_km</th>\n",
       "      <th>dist_to_metro_km</th>\n",
       "      <th>parks_1km</th>\n",
       "      <th>groceries_top_1km</th>\n",
       "      <th>schools_1km</th>\n",
       "      <th>pharmacies_top_1km</th>\n",
       "      <th>clinics_1km</th>\n",
       "    </tr>\n",
       "  </thead>\n",
       "  <tbody>\n",
       "    <tr>\n",
       "      <th>0</th>\n",
       "      <td>3</td>\n",
       "      <td>5</td>\n",
       "      <td>1</td>\n",
       "      <td>30.0</td>\n",
       "      <td>30000</td>\n",
       "      <td>Северное Измайлово</td>\n",
       "      <td>Сиреневый бульвар</td>\n",
       "      <td>7</td>\n",
       "      <td>Щелковская</td>\n",
       "      <td>55.802980</td>\n",
       "      <td>37.775445</td>\n",
       "      <td>1</td>\n",
       "      <td>11.387233</td>\n",
       "      <td>1.623468</td>\n",
       "      <td>0</td>\n",
       "      <td>11</td>\n",
       "      <td>4</td>\n",
       "      <td>0</td>\n",
       "      <td>4</td>\n",
       "    </tr>\n",
       "    <tr>\n",
       "      <th>1</th>\n",
       "      <td>2</td>\n",
       "      <td>34</td>\n",
       "      <td>0</td>\n",
       "      <td>55.7</td>\n",
       "      <td>25000</td>\n",
       "      <td>Войковский</td>\n",
       "      <td>Адмирала Макарова</td>\n",
       "      <td>6Ак1</td>\n",
       "      <td>Водный стадион</td>\n",
       "      <td>55.833869</td>\n",
       "      <td>37.491056</td>\n",
       "      <td>0</td>\n",
       "      <td>12.054178</td>\n",
       "      <td>0.609563</td>\n",
       "      <td>0</td>\n",
       "      <td>6</td>\n",
       "      <td>1</td>\n",
       "      <td>0</td>\n",
       "      <td>0</td>\n",
       "    </tr>\n",
       "    <tr>\n",
       "      <th>2</th>\n",
       "      <td>5</td>\n",
       "      <td>9</td>\n",
       "      <td>1</td>\n",
       "      <td>50.0</td>\n",
       "      <td>30000</td>\n",
       "      <td>Нагорный</td>\n",
       "      <td>Варшавское шоссе</td>\n",
       "      <td>71К1</td>\n",
       "      <td>Варшавская</td>\n",
       "      <td>55.660412</td>\n",
       "      <td>37.620267</td>\n",
       "      <td>1</td>\n",
       "      <td>10.188199</td>\n",
       "      <td>0.788797</td>\n",
       "      <td>0</td>\n",
       "      <td>2</td>\n",
       "      <td>5</td>\n",
       "      <td>0</td>\n",
       "      <td>4</td>\n",
       "    </tr>\n",
       "    <tr>\n",
       "      <th>3</th>\n",
       "      <td>1</td>\n",
       "      <td>5</td>\n",
       "      <td>1</td>\n",
       "      <td>32.0</td>\n",
       "      <td>30000</td>\n",
       "      <td>Лосиноостровский</td>\n",
       "      <td>Анадырский проезд</td>\n",
       "      <td>41</td>\n",
       "      <td>Бабушкинская</td>\n",
       "      <td>55.870534</td>\n",
       "      <td>37.693488</td>\n",
       "      <td>1</td>\n",
       "      <td>14.007041</td>\n",
       "      <td>1.818472</td>\n",
       "      <td>0</td>\n",
       "      <td>3</td>\n",
       "      <td>3</td>\n",
       "      <td>1</td>\n",
       "      <td>0</td>\n",
       "    </tr>\n",
       "    <tr>\n",
       "      <th>4</th>\n",
       "      <td>10</td>\n",
       "      <td>12</td>\n",
       "      <td>1</td>\n",
       "      <td>23.0</td>\n",
       "      <td>29998</td>\n",
       "      <td>НАО (Новомосковский)</td>\n",
       "      <td>Яворки</td>\n",
       "      <td>1к1</td>\n",
       "      <td>Филатов луг</td>\n",
       "      <td>55.509092</td>\n",
       "      <td>37.345487</td>\n",
       "      <td>1</td>\n",
       "      <td>31.956738</td>\n",
       "      <td>10.803737</td>\n",
       "      <td>0</td>\n",
       "      <td>0</td>\n",
       "      <td>1</td>\n",
       "      <td>0</td>\n",
       "      <td>0</td>\n",
       "    </tr>\n",
       "  </tbody>\n",
       "</table>\n",
       "</div>"
      ],
      "text/plain": [
       "   floor  floors_count  ...  pharmacies_top_1km  clinics_1km\n",
       "0      3             5  ...                   0            4\n",
       "1      2            34  ...                   0            0\n",
       "2      5             9  ...                   0            4\n",
       "3      1             5  ...                   1            0\n",
       "4     10            12  ...                   0            0\n",
       "\n",
       "[5 rows x 19 columns]"
      ]
     },
     "execution_count": 28,
     "metadata": {},
     "output_type": "execute_result"
    }
   ],
   "source": [
    "data = pd.read_csv(\"cian_rent_Moscow_final.csv\")\n",
    "data.head()"
   ]
  },
  {
   "cell_type": "code",
   "execution_count": 29,
   "id": "rfjErWL_5BTX",
   "metadata": {
    "execution": {
     "iopub.execute_input": "2025-08-11T20:29:45.274504Z",
     "iopub.status.busy": "2025-08-11T20:29:45.273085Z",
     "iopub.status.idle": "2025-08-11T20:29:45.472062Z",
     "shell.execute_reply": "2025-08-11T20:29:45.470705Z",
     "shell.execute_reply.started": "2025-08-11T20:29:45.274425Z"
    },
    "id": "rfjErWL_5BTX",
    "tags": []
   },
   "outputs": [],
   "source": [
    "X = data.drop(\"price_per_month\", axis = 1)\n",
    "y = data[\"price_per_month\"]"
   ]
  },
  {
   "cell_type": "code",
   "execution_count": 30,
   "id": "k4xRw6G_5IoM",
   "metadata": {
    "execution": {
     "iopub.execute_input": "2025-08-11T20:29:45.840809Z",
     "iopub.status.busy": "2025-08-11T20:29:45.839477Z",
     "iopub.status.idle": "2025-08-11T20:29:45.901863Z",
     "shell.execute_reply": "2025-08-11T20:29:45.900606Z",
     "shell.execute_reply.started": "2025-08-11T20:29:45.840752Z"
    },
    "id": "k4xRw6G_5IoM",
    "tags": []
   },
   "outputs": [],
   "source": [
    "X_train, X_val_test, y_train, y_val_test = train_test_split(X, y, random_state = 42, train_size = 0.8, shuffle = True)\n",
    "X_val, X_test, y_val, y_test = train_test_split(X_val_test, y_val_test, random_state = 42, test_size = 0.5, shuffle = True)"
   ]
  },
  {
   "cell_type": "code",
   "execution_count": 31,
   "id": "zRodfh_05KDa",
   "metadata": {
    "execution": {
     "iopub.execute_input": "2025-08-11T20:29:46.672807Z",
     "iopub.status.busy": "2025-08-11T20:29:46.671473Z",
     "iopub.status.idle": "2025-08-11T20:29:46.727240Z",
     "shell.execute_reply": "2025-08-11T20:29:46.725971Z",
     "shell.execute_reply.started": "2025-08-11T20:29:46.672760Z"
    },
    "id": "zRodfh_05KDa",
    "tags": []
   },
   "outputs": [],
   "source": [
    "baseline_model_exp5 = CatBoostRegressor(iterations = 3000,\n",
    "                                        learning_rate = 0.015,\n",
    "                                        loss_function=\"RMSE\",\n",
    "                                        eval_metric=\"RMSE\",\n",
    "                                        early_stopping_rounds=200,\n",
    "                                        verbose=100,\n",
    "                                        task_type=\"GPU\")"
   ]
  },
  {
   "cell_type": "code",
   "execution_count": 32,
   "id": "qlMAhWsq5Lyf",
   "metadata": {
    "colab": {
     "base_uri": "https://localhost:8080/"
    },
    "execution": {
     "iopub.execute_input": "2025-08-11T20:29:47.277111Z",
     "iopub.status.busy": "2025-08-11T20:29:47.275796Z",
     "iopub.status.idle": "2025-08-11T20:30:46.921149Z",
     "shell.execute_reply": "2025-08-11T20:30:46.919667Z",
     "shell.execute_reply.started": "2025-08-11T20:29:47.277071Z"
    },
    "id": "qlMAhWsq5Lyf",
    "outputId": "ecbb7c16-fbfb-4928-c794-ae415d53b0d9",
    "tags": []
   },
   "outputs": [
    {
     "name": "stdout",
     "output_type": "stream",
     "text": [
      "0:\tlearn: 109654.3893040\ttest: 115561.2005265\tbest: 115561.2005265 (0)\ttotal: 23.3ms\tremaining: 1m 9s\n",
      "100:\tlearn: 56768.7294397\ttest: 56704.7260250\tbest: 56704.7260250 (100)\ttotal: 2.02s\tremaining: 58.1s\n",
      "200:\tlearn: 49026.7671982\ttest: 48064.5710144\tbest: 48064.5710144 (200)\ttotal: 4.03s\tremaining: 56.1s\n",
      "300:\tlearn: 46649.0551832\ttest: 46172.4613759\tbest: 46172.4613759 (300)\ttotal: 6.07s\tremaining: 54.4s\n",
      "400:\tlearn: 45229.8577595\ttest: 45376.6888709\tbest: 45376.6888709 (400)\ttotal: 8.06s\tremaining: 52.2s\n",
      "500:\tlearn: 44251.5226684\ttest: 44805.6200212\tbest: 44805.6200212 (500)\ttotal: 9.99s\tremaining: 49.8s\n",
      "600:\tlearn: 43396.3946476\ttest: 44327.3502238\tbest: 44327.3502238 (600)\ttotal: 11.9s\tremaining: 47.7s\n",
      "700:\tlearn: 42559.8566477\ttest: 43857.1669816\tbest: 43857.1669816 (700)\ttotal: 13.8s\tremaining: 45.2s\n",
      "800:\tlearn: 41847.5181466\ttest: 43451.4065821\tbest: 43451.4065821 (800)\ttotal: 15.7s\tremaining: 43.1s\n",
      "900:\tlearn: 41177.5151300\ttest: 43118.6797238\tbest: 43118.6797238 (900)\ttotal: 17.6s\tremaining: 41.1s\n",
      "1000:\tlearn: 40562.2747791\ttest: 42775.7744310\tbest: 42770.0444094 (996)\ttotal: 19.6s\tremaining: 39.1s\n",
      "1100:\tlearn: 39904.6903058\ttest: 42416.4547355\tbest: 42416.3303844 (1095)\ttotal: 21.6s\tremaining: 37.3s\n",
      "1200:\tlearn: 39390.9772317\ttest: 42215.2585224\tbest: 42214.2089829 (1198)\ttotal: 23.7s\tremaining: 35.5s\n",
      "1300:\tlearn: 38953.7172470\ttest: 41954.7112836\tbest: 41954.4535577 (1299)\ttotal: 25.6s\tremaining: 33.4s\n",
      "1400:\tlearn: 38477.5856163\ttest: 41689.4299120\tbest: 41687.9981080 (1398)\ttotal: 27.5s\tremaining: 31.4s\n",
      "1500:\tlearn: 38094.5185158\ttest: 41457.2802122\tbest: 41457.2802122 (1500)\ttotal: 29.5s\tremaining: 29.4s\n",
      "1600:\tlearn: 37779.6337151\ttest: 41302.7260409\tbest: 41302.7260409 (1600)\ttotal: 31.4s\tremaining: 27.5s\n",
      "1700:\tlearn: 37462.0248105\ttest: 41132.9093511\tbest: 41132.9093511 (1700)\ttotal: 33.4s\tremaining: 25.5s\n",
      "1800:\tlearn: 37187.8400973\ttest: 40960.1910123\tbest: 40958.6478650 (1799)\ttotal: 35.4s\tremaining: 23.6s\n",
      "1900:\tlearn: 36905.4685929\ttest: 40805.8847123\tbest: 40805.8847123 (1900)\ttotal: 37.3s\tremaining: 21.6s\n",
      "2000:\tlearn: 36655.7734341\ttest: 40669.3073115\tbest: 40668.1227643 (1990)\ttotal: 39.3s\tremaining: 19.6s\n",
      "2100:\tlearn: 36361.3982265\ttest: 40505.3886233\tbest: 40505.3886233 (2100)\ttotal: 41.3s\tremaining: 17.7s\n",
      "2200:\tlearn: 36146.2594921\ttest: 40378.2853355\tbest: 40378.2853355 (2200)\ttotal: 43.3s\tremaining: 15.7s\n",
      "2300:\tlearn: 35991.9658521\ttest: 40320.4803395\tbest: 40320.4803395 (2300)\ttotal: 45.2s\tremaining: 13.7s\n",
      "2400:\tlearn: 35743.2779809\ttest: 40214.6603300\tbest: 40211.7922107 (2394)\ttotal: 47.2s\tremaining: 11.8s\n",
      "2500:\tlearn: 35544.5881593\ttest: 40137.3813351\tbest: 40137.3813351 (2500)\ttotal: 49.2s\tremaining: 9.81s\n",
      "2600:\tlearn: 35398.1604971\ttest: 40063.4334787\tbest: 40062.3275665 (2599)\ttotal: 51.1s\tremaining: 7.84s\n",
      "2700:\tlearn: 35247.2680274\ttest: 39998.1719019\tbest: 39993.9122997 (2691)\ttotal: 53.1s\tremaining: 5.88s\n",
      "2800:\tlearn: 35089.5164790\ttest: 39920.0510209\tbest: 39920.0510209 (2800)\ttotal: 55.1s\tremaining: 3.92s\n",
      "2900:\tlearn: 34904.4889927\ttest: 39841.0400022\tbest: 39837.9993453 (2895)\ttotal: 57.1s\tremaining: 1.95s\n",
      "2999:\tlearn: 34767.6531799\ttest: 39777.2876796\tbest: 39777.2876796 (2999)\ttotal: 59.1s\tremaining: 0us\n",
      "bestTest = 39777.28768\n",
      "bestIteration = 2999\n"
     ]
    },
    {
     "data": {
      "text/plain": [
       "<catboost.core.CatBoostRegressor at 0x7f3a679ee2c0>"
      ]
     },
     "execution_count": 32,
     "metadata": {},
     "output_type": "execute_result"
    }
   ],
   "source": [
    "baseline_model_exp5.fit(X_train,\n",
    "                       y_train,\n",
    "                       eval_set = (X_val, y_val),\n",
    "                       cat_features = [\"district\", \"street\", \"underground\", \"house_number\"],\n",
    "                       use_best_model=True)"
   ]
  },
  {
   "cell_type": "code",
   "execution_count": 33,
   "id": "_ebDtifw5NxK",
   "metadata": {
    "colab": {
     "base_uri": "https://localhost:8080/"
    },
    "execution": {
     "iopub.execute_input": "2025-08-11T20:30:46.924298Z",
     "iopub.status.busy": "2025-08-11T20:30:46.923376Z",
     "iopub.status.idle": "2025-08-11T20:30:46.960521Z",
     "shell.execute_reply": "2025-08-11T20:30:46.959418Z",
     "shell.execute_reply.started": "2025-08-11T20:30:46.924262Z"
    },
    "id": "_ebDtifw5NxK",
    "outputId": "8b11d293-62f0-461e-bcef-b505acedf4f2",
    "tags": []
   },
   "outputs": [
    {
     "name": "stdout",
     "output_type": "stream",
     "text": [
      "MAE: 22768.53\n",
      "R2-Score: 0.8841\n",
      "MAPE: 0.1849\n"
     ]
    }
   ],
   "source": [
    "y_pred = baseline_model_exp5.predict(X_val)\n",
    "\n",
    "MAE = round(mean_absolute_error(y_val, y_pred), 2)\n",
    "R2 = round(r2_score(y_val, y_pred), 4)\n",
    "MAPE = round(mean_absolute_percentage_error(y_val, y_pred), 4)\n",
    "\n",
    "\n",
    "print(f\"MAE: {MAE}\")\n",
    "print(f\"R2-Score: {R2}\")\n",
    "print(f\"MAPE: {MAPE}\")"
   ]
  },
  {
   "cell_type": "markdown",
   "id": "y2L0RFYv601h",
   "metadata": {
    "id": "y2L0RFYv601h"
   },
   "source": [
    "### Выводы по Эксперименту 5 — Повторное обучение после удаления выбросов\n",
    "\n",
    "- **MAE:** 22 769 ₽ — уменьшение на ~0.93%\n",
    "- **R²:** 0.8841 — рост на ~1.6%\n",
    "- **MAPE:** 18.49% — рост на ~4.6%\n",
    "\n",
    "**Что было сделано**:\n",
    "Из датасета удалено около **200 объектов** (< 2% выборки), большинство из которых имели **аномально высокие значения расстояния до метро** (например, свыше 100 км), что нехарактерно для Москвы.\n",
    "\n",
    "**Почему удаление улучшило метрики**:\n",
    "\n",
    "1. **Устранение шумов и некорректных данных**\n",
    "   - Объекты с недостоверными координатами (или геопараметрами) искажали пространственные закономерности, мешая обучению модели.\n",
    "\n",
    "2. **Снижение влияния экстремальных ошибок**\n",
    "   - Эти точки давали очень высокие остатки, «размазывая» ошибку по всей выборке и ухудшая общую стабильность модели.\n",
    "\n",
    "3. **Более однородное обучающее пространство**\n",
    "   - После удаления «вне-Moscow» объектов модель обучалась на более компактном и реалистичном распределении, что позволило ей точнее выучить ключевые зависимости.\n",
    "\n",
    "**Вывод**:\n",
    "\n",
    "> Удаление выбросов, даже в небольшом объёме, **может заметно повысить устойчивость и точность модели**, особенно если выбросы связаны с ошибками геокодирования или сильно искажают пространственные признаки.  \n",
    "> Улучшение R² говорит о том, что модель стала лучше объяснять оставшуюся дисперсию.\n",
    "\n",
    "___"
   ]
  },
  {
   "cell_type": "markdown",
   "id": "aCINcqli7qio",
   "metadata": {
    "id": "aCINcqli7qio"
   },
   "source": [
    "## Эксперимент 6 — Логарифмирование целевой переменной\n",
    "\n",
    "В этом эксперименте проводится обучение модели на логарифмированной версии целевой переменной `price_per_month`.\n",
    "\n",
    "### Цель:\n",
    "Преобразовать распределение целевой переменной к более нормальному виду, чтобы:\n",
    "- уменьшить влияние высоких значений на функцию ошибки;\n",
    "- стабилизировать градиенты обучения;\n",
    "- повысить устойчивость модели, особенно в среднем и нижнем ценовом сегменте.\n",
    "\n",
    "### Что делается:\n",
    "- Значения `price_per_month` преобразуются по формуле `y_log = log1p(y)` — чтобы избежать проблем с нулями;\n",
    "- Обратное преобразование (`expm1`) применяется к предсказаниям перед оценкой метрик;\n",
    "- Используются все признаки, отобранные в предыдущем эксперименте (включая координаты, расстояния и инфраструктуру).\n",
    "\n",
    "### Гипотеза:\n",
    "Логарифмирование должно снизить среднюю абсолютную ошибку (MAE) и MAPE, а также сгладить переоценку дорогих объектов.\n",
    "___"
   ]
  },
  {
   "cell_type": "code",
   "execution_count": 34,
   "id": "-WXfvps57Wyd",
   "metadata": {
    "execution": {
     "iopub.execute_input": "2025-08-11T20:35:32.820425Z",
     "iopub.status.busy": "2025-08-11T20:35:32.818952Z",
     "iopub.status.idle": "2025-08-11T20:35:32.880050Z",
     "shell.execute_reply": "2025-08-11T20:35:32.878852Z",
     "shell.execute_reply.started": "2025-08-11T20:35:32.820373Z"
    },
    "id": "-WXfvps57Wyd",
    "tags": []
   },
   "outputs": [],
   "source": [
    "baseline_model_exp6 = CatBoostRegressor(iterations = 3000,\n",
    "                                        learning_rate = 0.015,\n",
    "                                        loss_function=\"RMSE\",\n",
    "                                        eval_metric=\"RMSE\",\n",
    "                                        early_stopping_rounds=200,\n",
    "                                        verbose=100,\n",
    "                                        task_type=\"GPU\")"
   ]
  },
  {
   "cell_type": "code",
   "execution_count": 35,
   "id": "dbicJmLB7Y87",
   "metadata": {
    "colab": {
     "base_uri": "https://localhost:8080/"
    },
    "execution": {
     "iopub.execute_input": "2025-08-11T20:35:33.086841Z",
     "iopub.status.busy": "2025-08-11T20:35:33.085727Z",
     "iopub.status.idle": "2025-08-11T20:36:34.064898Z",
     "shell.execute_reply": "2025-08-11T20:36:34.063750Z",
     "shell.execute_reply.started": "2025-08-11T20:35:33.086771Z"
    },
    "id": "dbicJmLB7Y87",
    "outputId": "f5dc7e22-db8e-4f29-a07d-0c73744af7ce",
    "tags": []
   },
   "outputs": [
    {
     "name": "stdout",
     "output_type": "stream",
     "text": [
      "0:\tlearn: 0.6637867\ttest: 0.6705541\tbest: 0.6705541 (0)\ttotal: 25.3ms\tremaining: 1m 15s\n",
      "100:\tlearn: 0.3142437\ttest: 0.3116389\tbest: 0.3116389 (100)\ttotal: 2.05s\tremaining: 58.9s\n",
      "200:\tlearn: 0.2616713\ttest: 0.2597605\tbest: 0.2597605 (200)\ttotal: 4.08s\tremaining: 56.9s\n",
      "300:\tlearn: 0.2479701\ttest: 0.2478806\tbest: 0.2478806 (300)\ttotal: 6.16s\tremaining: 55.2s\n",
      "400:\tlearn: 0.2405802\ttest: 0.2421828\tbest: 0.2421828 (400)\ttotal: 8.16s\tremaining: 52.9s\n",
      "500:\tlearn: 0.2362227\ttest: 0.2387539\tbest: 0.2387539 (500)\ttotal: 10.1s\tremaining: 50.6s\n",
      "600:\tlearn: 0.2331671\ttest: 0.2366091\tbest: 0.2366091 (600)\ttotal: 12.2s\tremaining: 48.5s\n",
      "700:\tlearn: 0.2305590\ttest: 0.2350878\tbest: 0.2350878 (700)\ttotal: 14.1s\tremaining: 46.2s\n",
      "800:\tlearn: 0.2284088\ttest: 0.2337701\tbest: 0.2337701 (800)\ttotal: 16s\tremaining: 44s\n",
      "900:\tlearn: 0.2264192\ttest: 0.2325723\tbest: 0.2325723 (900)\ttotal: 18s\tremaining: 41.9s\n",
      "1000:\tlearn: 0.2241129\ttest: 0.2311985\tbest: 0.2311985 (1000)\ttotal: 20.1s\tremaining: 40.1s\n",
      "1100:\tlearn: 0.2220959\ttest: 0.2300275\tbest: 0.2300275 (1100)\ttotal: 22.1s\tremaining: 38.1s\n",
      "1200:\tlearn: 0.2203472\ttest: 0.2290066\tbest: 0.2290066 (1200)\ttotal: 24.1s\tremaining: 36s\n",
      "1300:\tlearn: 0.2185944\ttest: 0.2278921\tbest: 0.2278888 (1299)\ttotal: 26s\tremaining: 34s\n",
      "1400:\tlearn: 0.2168238\ttest: 0.2270678\tbest: 0.2270678 (1400)\ttotal: 28s\tremaining: 32s\n",
      "1500:\tlearn: 0.2154015\ttest: 0.2262878\tbest: 0.2262878 (1500)\ttotal: 30s\tremaining: 30s\n",
      "1600:\tlearn: 0.2142584\ttest: 0.2256752\tbest: 0.2256752 (1600)\ttotal: 32.1s\tremaining: 28s\n",
      "1700:\tlearn: 0.2131738\ttest: 0.2250176\tbest: 0.2250176 (1700)\ttotal: 34.1s\tremaining: 26.1s\n",
      "1800:\tlearn: 0.2120620\ttest: 0.2243661\tbest: 0.2243661 (1800)\ttotal: 36.1s\tremaining: 24s\n",
      "1900:\tlearn: 0.2109497\ttest: 0.2237014\tbest: 0.2236960 (1899)\ttotal: 38.1s\tremaining: 22s\n",
      "2000:\tlearn: 0.2100797\ttest: 0.2232176\tbest: 0.2232173 (1998)\ttotal: 40.2s\tremaining: 20.1s\n",
      "2100:\tlearn: 0.2091386\ttest: 0.2227255\tbest: 0.2227255 (2100)\ttotal: 42.3s\tremaining: 18.1s\n",
      "2200:\tlearn: 0.2083477\ttest: 0.2223620\tbest: 0.2223620 (2200)\ttotal: 44.4s\tremaining: 16.1s\n",
      "2300:\tlearn: 0.2074786\ttest: 0.2219393\tbest: 0.2219393 (2300)\ttotal: 46.5s\tremaining: 14.1s\n",
      "2400:\tlearn: 0.2066860\ttest: 0.2215120\tbest: 0.2215120 (2400)\ttotal: 48.6s\tremaining: 12.1s\n",
      "2500:\tlearn: 0.2059977\ttest: 0.2211219\tbest: 0.2211219 (2500)\ttotal: 50.6s\tremaining: 10.1s\n",
      "2600:\tlearn: 0.2053673\ttest: 0.2208948\tbest: 0.2208948 (2600)\ttotal: 52.6s\tremaining: 8.06s\n",
      "2700:\tlearn: 0.2046883\ttest: 0.2206006\tbest: 0.2206006 (2700)\ttotal: 54.5s\tremaining: 6.04s\n",
      "2800:\tlearn: 0.2040639\ttest: 0.2202260\tbest: 0.2202260 (2800)\ttotal: 56.4s\tremaining: 4.01s\n",
      "2900:\tlearn: 0.2034775\ttest: 0.2200015\tbest: 0.2200015 (2900)\ttotal: 58.4s\tremaining: 1.99s\n",
      "2999:\tlearn: 0.2029255\ttest: 0.2197998\tbest: 0.2197974 (2998)\ttotal: 1m\tremaining: 0us\n",
      "bestTest = 0.219797435\n",
      "bestIteration = 2998\n",
      "Shrink model to first 2999 iterations.\n"
     ]
    },
    {
     "data": {
      "text/plain": [
       "<catboost.core.CatBoostRegressor at 0x7f3ae7f473d0>"
      ]
     },
     "execution_count": 35,
     "metadata": {},
     "output_type": "execute_result"
    }
   ],
   "source": [
    "baseline_model_exp6.fit(X_train,\n",
    "                       np.log1p(y_train),\n",
    "                       eval_set = (X_val, np.log1p(y_val)),\n",
    "                       cat_features = [\"district\", \"street\", \"underground\", \"house_number\"],\n",
    "                       use_best_model=True)"
   ]
  },
  {
   "cell_type": "code",
   "execution_count": 36,
   "id": "NoMoWJdw7fql",
   "metadata": {
    "colab": {
     "base_uri": "https://localhost:8080/"
    },
    "execution": {
     "iopub.execute_input": "2025-08-11T20:36:34.068180Z",
     "iopub.status.busy": "2025-08-11T20:36:34.066657Z",
     "iopub.status.idle": "2025-08-11T20:36:34.114915Z",
     "shell.execute_reply": "2025-08-11T20:36:34.113704Z",
     "shell.execute_reply.started": "2025-08-11T20:36:34.068124Z"
    },
    "id": "NoMoWJdw7fql",
    "outputId": "515a344f-b85a-4588-d231-d36ed60d48ed",
    "tags": []
   },
   "outputs": [
    {
     "name": "stdout",
     "output_type": "stream",
     "text": [
      "MAE: 22080.65\n",
      "R2-Score: 0.8827\n",
      "MAPE: 0.1675\n"
     ]
    }
   ],
   "source": [
    "y_pred = np.expm1(baseline_model_exp6.predict(X_val))\n",
    "\n",
    "MAE = round(mean_absolute_error(y_val, y_pred), 2)\n",
    "R2 = round(r2_score(y_val, y_pred), 4)\n",
    "MAPE = round(mean_absolute_percentage_error(y_val, y_pred), 4)\n",
    "\n",
    "\n",
    "print(f\"MAE: {MAE}\")\n",
    "print(f\"R2-Score: {R2}\")\n",
    "print(f\"MAPE: {MAPE}\")"
   ]
  },
  {
   "cell_type": "markdown",
   "id": "cX1mhisE8aft",
   "metadata": {
    "id": "cX1mhisE8aft"
   },
   "source": [
    "### Выводы по Эксперименту 6 — Логарифмирование целевой переменной\n",
    "\n",
    "- **MAE:** 22 081 ₽ — ошибка снизилась на ~3.02% по сравнению с предыдущим экспериментом.  \n",
    "- **R²:** 0.8827 — объяснённая дисперсия снизилась на ~0.15%.  \n",
    "- **MAPE:** 16.75% — ошибка снизилась на ~9.41% по сравнению с предыдущим экспериментом.\n",
    "\n",
    "Логарифмирование целевой переменной позволило **снизить абсолютную ошибку (MAE)** — особенно в среднем сегменте цен.  \n",
    "Однако метрика **R² ухудшилась**, поскольку лог-преобразование сжимает разброс целевой переменной и снижает общую дисперсию, которую модель может объяснить.\n",
    "\n",
    "Итог: логарифмирование делает модель **более устойчивой к выбросам** и **точнее в массовом сегменте**, но может ухудшить способность различать элитные и редкие квартиры.  \n",
    "___\n"
   ]
  },
  {
   "cell_type": "markdown",
   "id": "dKcY-N3I-Y4j",
   "metadata": {
    "id": "dKcY-N3I-Y4j"
   },
   "source": [
    "## Эксперимент 7 — Увеличением количества итераций и снижение learning rate\n",
    "\n",
    "В этом эксперименте используется та же логика, что и в Эксперименте 6:  \n",
    "модель обучается на логарифмированной целевой переменной `log1p(price_per_month)` с использованием всех признаков, включая инфраструктуру, координаты и расстояния.\n",
    "\n",
    "### Что изменилось:\n",
    "- **Увеличено количество итераций**: с 3 000 до **15 000**, чтобы дать модели больше времени на сходимость;\n",
    "- **Уменьшен learning rate**: с 0.015 до **0.00925**, чтобы улучшить устойчивость обучения и позволить модели двигаться к минимуму более плавно.\n",
    "\n",
    "### Цель:\n",
    "Проверить, приведёт ли более глубокое и стабильное обучение к снижению MAE и MAPE без потери способности обобщать (R²).\n",
    "\n",
    "### Гипотеза:\n",
    "Снижение learning rate и увеличение итераций должны дать модели больше гибкости в обучении и потенциально улучшить качество, особенно в сложных ценовых зонах.\n",
    "___"
   ]
  },
  {
   "cell_type": "code",
   "execution_count": 37,
   "id": "j2Z9-OJb8_DU",
   "metadata": {
    "execution": {
     "iopub.execute_input": "2025-08-11T20:39:47.732006Z",
     "iopub.status.busy": "2025-08-11T20:39:47.730894Z",
     "iopub.status.idle": "2025-08-11T20:39:47.775934Z",
     "shell.execute_reply": "2025-08-11T20:39:47.774808Z",
     "shell.execute_reply.started": "2025-08-11T20:39:47.731949Z"
    },
    "id": "j2Z9-OJb8_DU",
    "tags": []
   },
   "outputs": [],
   "source": [
    "baseline_model_exp7 = CatBoostRegressor(iterations = 15000,\n",
    "                                        learning_rate = 0.00925,\n",
    "                                        loss_function=\"RMSE\",\n",
    "                                        eval_metric=\"RMSE\",\n",
    "                                        early_stopping_rounds=200,\n",
    "                                        verbose=100,\n",
    "                                        task_type=\"GPU\")"
   ]
  },
  {
   "cell_type": "code",
   "execution_count": 38,
   "id": "Rfrc3bK-9Dm0",
   "metadata": {
    "colab": {
     "base_uri": "https://localhost:8080/"
    },
    "execution": {
     "iopub.execute_input": "2025-08-11T20:39:48.022925Z",
     "iopub.status.busy": "2025-08-11T20:39:48.021474Z",
     "iopub.status.idle": "2025-08-11T20:44:32.587056Z",
     "shell.execute_reply": "2025-08-11T20:44:32.585776Z",
     "shell.execute_reply.started": "2025-08-11T20:39:48.022870Z"
    },
    "id": "Rfrc3bK-9Dm0",
    "outputId": "3366adff-0674-41e8-fb7a-e16d5a57c354",
    "tags": []
   },
   "outputs": [
    {
     "name": "stdout",
     "output_type": "stream",
     "text": [
      "0:\tlearn: 0.6666879\ttest: 0.6735836\tbest: 0.6735836 (0)\ttotal: 23.8ms\tremaining: 5m 56s\n",
      "100:\tlearn: 0.3829040\ttest: 0.3825513\tbest: 0.3825513 (100)\ttotal: 2.04s\tremaining: 5m 1s\n",
      "200:\tlearn: 0.2925882\ttest: 0.2899941\tbest: 0.2899941 (200)\ttotal: 4.03s\tremaining: 4m 56s\n",
      "300:\tlearn: 0.2651218\ttest: 0.2631590\tbest: 0.2631590 (300)\ttotal: 6.04s\tremaining: 4m 54s\n",
      "400:\tlearn: 0.2537113\ttest: 0.2530892\tbest: 0.2530892 (400)\ttotal: 8.1s\tremaining: 4m 54s\n",
      "500:\tlearn: 0.2468630\ttest: 0.2474793\tbest: 0.2474793 (500)\ttotal: 10.1s\tremaining: 4m 52s\n",
      "600:\tlearn: 0.2422545\ttest: 0.2438284\tbest: 0.2438284 (600)\ttotal: 12.2s\tremaining: 4m 51s\n",
      "700:\tlearn: 0.2388075\ttest: 0.2412566\tbest: 0.2412566 (700)\ttotal: 14.2s\tremaining: 4m 50s\n",
      "800:\tlearn: 0.2361914\ttest: 0.2392354\tbest: 0.2392354 (800)\ttotal: 16.3s\tremaining: 4m 48s\n",
      "900:\tlearn: 0.2342213\ttest: 0.2378560\tbest: 0.2378560 (900)\ttotal: 18.2s\tremaining: 4m 45s\n",
      "1000:\tlearn: 0.2323982\ttest: 0.2366196\tbest: 0.2366196 (1000)\ttotal: 20.2s\tremaining: 4m 42s\n",
      "1100:\tlearn: 0.2306588\ttest: 0.2354037\tbest: 0.2354037 (1100)\ttotal: 22.1s\tremaining: 4m 38s\n",
      "1200:\tlearn: 0.2292042\ttest: 0.2345100\tbest: 0.2345100 (1200)\ttotal: 24s\tremaining: 4m 35s\n",
      "1300:\tlearn: 0.2278456\ttest: 0.2337049\tbest: 0.2337049 (1300)\ttotal: 26s\tremaining: 4m 33s\n",
      "1400:\tlearn: 0.2265375\ttest: 0.2329560\tbest: 0.2329560 (1400)\ttotal: 27.9s\tremaining: 4m 30s\n",
      "1500:\tlearn: 0.2252711\ttest: 0.2321962\tbest: 0.2321962 (1500)\ttotal: 29.8s\tremaining: 4m 28s\n",
      "1600:\tlearn: 0.2240900\ttest: 0.2315053\tbest: 0.2315053 (1600)\ttotal: 31.8s\tremaining: 4m 26s\n",
      "1700:\tlearn: 0.2228060\ttest: 0.2306929\tbest: 0.2306929 (1700)\ttotal: 33.8s\tremaining: 4m 24s\n",
      "1800:\tlearn: 0.2216300\ttest: 0.2299600\tbest: 0.2299600 (1800)\ttotal: 35.8s\tremaining: 4m 22s\n",
      "1900:\tlearn: 0.2203263\ttest: 0.2292032\tbest: 0.2292032 (1900)\ttotal: 37.8s\tremaining: 4m 20s\n",
      "2000:\tlearn: 0.2193200\ttest: 0.2286245\tbest: 0.2286245 (2000)\ttotal: 39.8s\tremaining: 4m 18s\n",
      "2100:\tlearn: 0.2182561\ttest: 0.2280516\tbest: 0.2280516 (2100)\ttotal: 41.8s\tremaining: 4m 16s\n",
      "2200:\tlearn: 0.2171338\ttest: 0.2274040\tbest: 0.2274040 (2200)\ttotal: 43.8s\tremaining: 4m 14s\n",
      "2300:\tlearn: 0.2162441\ttest: 0.2269065\tbest: 0.2269065 (2300)\ttotal: 45.8s\tremaining: 4m 12s\n",
      "2400:\tlearn: 0.2153243\ttest: 0.2263594\tbest: 0.2263594 (2400)\ttotal: 47.8s\tremaining: 4m 10s\n",
      "2500:\tlearn: 0.2145200\ttest: 0.2259164\tbest: 0.2259163 (2499)\ttotal: 49.8s\tremaining: 4m 8s\n",
      "2600:\tlearn: 0.2137211\ttest: 0.2254768\tbest: 0.2254768 (2600)\ttotal: 51.8s\tremaining: 4m 6s\n",
      "2700:\tlearn: 0.2129832\ttest: 0.2251079\tbest: 0.2251079 (2700)\ttotal: 53.8s\tremaining: 4m 5s\n",
      "2800:\tlearn: 0.2122782\ttest: 0.2247054\tbest: 0.2247054 (2800)\ttotal: 55.8s\tremaining: 4m 2s\n",
      "2900:\tlearn: 0.2115968\ttest: 0.2243606\tbest: 0.2243606 (2900)\ttotal: 57.8s\tremaining: 4m 1s\n",
      "3000:\tlearn: 0.2109318\ttest: 0.2240147\tbest: 0.2240147 (3000)\ttotal: 59.8s\tremaining: 3m 59s\n",
      "3100:\tlearn: 0.2103466\ttest: 0.2237241\tbest: 0.2237241 (3100)\ttotal: 1m 1s\tremaining: 3m 57s\n",
      "3200:\tlearn: 0.2097925\ttest: 0.2234077\tbest: 0.2234075 (3198)\ttotal: 1m 3s\tremaining: 3m 55s\n",
      "3300:\tlearn: 0.2091405\ttest: 0.2230867\tbest: 0.2230853 (3299)\ttotal: 1m 5s\tremaining: 3m 53s\n",
      "3400:\tlearn: 0.2086167\ttest: 0.2228438\tbest: 0.2228394 (3398)\ttotal: 1m 7s\tremaining: 3m 51s\n",
      "3500:\tlearn: 0.2080733\ttest: 0.2225464\tbest: 0.2225464 (3500)\ttotal: 1m 9s\tremaining: 3m 49s\n",
      "3600:\tlearn: 0.2075814\ttest: 0.2223129\tbest: 0.2223129 (3600)\ttotal: 1m 11s\tremaining: 3m 47s\n",
      "3700:\tlearn: 0.2071913\ttest: 0.2221325\tbest: 0.2221321 (3699)\ttotal: 1m 13s\tremaining: 3m 45s\n",
      "3800:\tlearn: 0.2066779\ttest: 0.2218628\tbest: 0.2218628 (3800)\ttotal: 1m 15s\tremaining: 3m 43s\n",
      "3900:\tlearn: 0.2062023\ttest: 0.2216287\tbest: 0.2216287 (3900)\ttotal: 1m 17s\tremaining: 3m 41s\n",
      "4000:\tlearn: 0.2058537\ttest: 0.2214490\tbest: 0.2214487 (3998)\ttotal: 1m 19s\tremaining: 3m 39s\n",
      "4100:\tlearn: 0.2053767\ttest: 0.2212142\tbest: 0.2212136 (4096)\ttotal: 1m 21s\tremaining: 3m 37s\n",
      "4200:\tlearn: 0.2050574\ttest: 0.2210758\tbest: 0.2210758 (4200)\ttotal: 1m 23s\tremaining: 3m 35s\n",
      "4300:\tlearn: 0.2045872\ttest: 0.2208759\tbest: 0.2208758 (4299)\ttotal: 1m 25s\tremaining: 3m 32s\n",
      "4400:\tlearn: 0.2042451\ttest: 0.2206809\tbest: 0.2206752 (4393)\ttotal: 1m 27s\tremaining: 3m 30s\n",
      "4500:\tlearn: 0.2038175\ttest: 0.2204909\tbest: 0.2204909 (4500)\ttotal: 1m 29s\tremaining: 3m 28s\n",
      "4600:\tlearn: 0.2034282\ttest: 0.2203614\tbest: 0.2203614 (4600)\ttotal: 1m 31s\tremaining: 3m 26s\n",
      "4700:\tlearn: 0.2031726\ttest: 0.2202568\tbest: 0.2202519 (4690)\ttotal: 1m 33s\tremaining: 3m 24s\n",
      "4800:\tlearn: 0.2028677\ttest: 0.2201106\tbest: 0.2201106 (4800)\ttotal: 1m 35s\tremaining: 3m 22s\n",
      "4900:\tlearn: 0.2025353\ttest: 0.2199875\tbest: 0.2199875 (4899)\ttotal: 1m 36s\tremaining: 3m 19s\n",
      "5000:\tlearn: 0.2022424\ttest: 0.2198439\tbest: 0.2198439 (5000)\ttotal: 1m 38s\tremaining: 3m 17s\n",
      "5100:\tlearn: 0.2019758\ttest: 0.2197411\tbest: 0.2197411 (5100)\ttotal: 1m 40s\tremaining: 3m 15s\n",
      "5200:\tlearn: 0.2017368\ttest: 0.2196671\tbest: 0.2196633 (5193)\ttotal: 1m 42s\tremaining: 3m 13s\n",
      "5300:\tlearn: 0.2014564\ttest: 0.2194896\tbest: 0.2194893 (5299)\ttotal: 1m 44s\tremaining: 3m 11s\n",
      "5400:\tlearn: 0.2012235\ttest: 0.2194116\tbest: 0.2194116 (5399)\ttotal: 1m 46s\tremaining: 3m 9s\n",
      "5500:\tlearn: 0.2010059\ttest: 0.2193345\tbest: 0.2193345 (5498)\ttotal: 1m 48s\tremaining: 3m 6s\n",
      "5600:\tlearn: 0.2008421\ttest: 0.2192825\tbest: 0.2192818 (5594)\ttotal: 1m 49s\tremaining: 3m 4s\n",
      "5700:\tlearn: 0.2006302\ttest: 0.2191742\tbest: 0.2191733 (5696)\ttotal: 1m 51s\tremaining: 3m 2s\n",
      "5800:\tlearn: 0.2004466\ttest: 0.2190873\tbest: 0.2190871 (5797)\ttotal: 1m 53s\tremaining: 3m\n",
      "5900:\tlearn: 0.2001626\ttest: 0.2189662\tbest: 0.2189647 (5897)\ttotal: 1m 55s\tremaining: 2m 57s\n",
      "6000:\tlearn: 0.1999141\ttest: 0.2188144\tbest: 0.2188122 (5998)\ttotal: 1m 57s\tremaining: 2m 55s\n",
      "6100:\tlearn: 0.1997319\ttest: 0.2187033\tbest: 0.2187033 (6100)\ttotal: 1m 59s\tremaining: 2m 53s\n",
      "6200:\tlearn: 0.1995474\ttest: 0.2186219\tbest: 0.2186218 (6199)\ttotal: 2m\tremaining: 2m 51s\n",
      "6300:\tlearn: 0.1992688\ttest: 0.2185113\tbest: 0.2185113 (6300)\ttotal: 2m 2s\tremaining: 2m 49s\n",
      "6400:\tlearn: 0.1989762\ttest: 0.2183694\tbest: 0.2183694 (6399)\ttotal: 2m 4s\tremaining: 2m 47s\n",
      "6500:\tlearn: 0.1987293\ttest: 0.2182928\tbest: 0.2182909 (6495)\ttotal: 2m 6s\tremaining: 2m 45s\n",
      "6600:\tlearn: 0.1984478\ttest: 0.2181406\tbest: 0.2181376 (6598)\ttotal: 2m 8s\tremaining: 2m 43s\n",
      "6700:\tlearn: 0.1982828\ttest: 0.2180975\tbest: 0.2180974 (6696)\ttotal: 2m 10s\tremaining: 2m 41s\n",
      "6800:\tlearn: 0.1980481\ttest: 0.2180095\tbest: 0.2180095 (6800)\ttotal: 2m 12s\tremaining: 2m 39s\n",
      "6900:\tlearn: 0.1978728\ttest: 0.2179725\tbest: 0.2179682 (6896)\ttotal: 2m 14s\tremaining: 2m 37s\n",
      "7000:\tlearn: 0.1976704\ttest: 0.2179065\tbest: 0.2179038 (6957)\ttotal: 2m 16s\tremaining: 2m 35s\n",
      "7100:\tlearn: 0.1974415\ttest: 0.2178263\tbest: 0.2178230 (7094)\ttotal: 2m 18s\tremaining: 2m 33s\n",
      "7200:\tlearn: 0.1972577\ttest: 0.2177332\tbest: 0.2177332 (7200)\ttotal: 2m 19s\tremaining: 2m 31s\n",
      "7300:\tlearn: 0.1971411\ttest: 0.2176921\tbest: 0.2176921 (7300)\ttotal: 2m 21s\tremaining: 2m 29s\n",
      "7400:\tlearn: 0.1970112\ttest: 0.2176190\tbest: 0.2176159 (7395)\ttotal: 2m 23s\tremaining: 2m 27s\n",
      "7500:\tlearn: 0.1968405\ttest: 0.2175442\tbest: 0.2175442 (7499)\ttotal: 2m 24s\tremaining: 2m 24s\n",
      "7600:\tlearn: 0.1966694\ttest: 0.2174920\tbest: 0.2174920 (7600)\ttotal: 2m 26s\tremaining: 2m 22s\n",
      "7700:\tlearn: 0.1964897\ttest: 0.2174033\tbest: 0.2174029 (7699)\ttotal: 2m 28s\tremaining: 2m 20s\n",
      "7800:\tlearn: 0.1962737\ttest: 0.2173121\tbest: 0.2173121 (7800)\ttotal: 2m 30s\tremaining: 2m 18s\n",
      "7900:\tlearn: 0.1960780\ttest: 0.2172234\tbest: 0.2172233 (7899)\ttotal: 2m 32s\tremaining: 2m 17s\n",
      "8000:\tlearn: 0.1958679\ttest: 0.2171638\tbest: 0.2171638 (8000)\ttotal: 2m 34s\tremaining: 2m 15s\n",
      "8100:\tlearn: 0.1956568\ttest: 0.2170824\tbest: 0.2170824 (8100)\ttotal: 2m 36s\tremaining: 2m 13s\n",
      "8200:\tlearn: 0.1955214\ttest: 0.2170177\tbest: 0.2170170 (8198)\ttotal: 2m 38s\tremaining: 2m 11s\n",
      "8300:\tlearn: 0.1953389\ttest: 0.2169785\tbest: 0.2169785 (8300)\ttotal: 2m 40s\tremaining: 2m 9s\n",
      "8400:\tlearn: 0.1951982\ttest: 0.2169234\tbest: 0.2169228 (8396)\ttotal: 2m 42s\tremaining: 2m 7s\n",
      "8500:\tlearn: 0.1950521\ttest: 0.2168409\tbest: 0.2168403 (8480)\ttotal: 2m 43s\tremaining: 2m 5s\n",
      "8600:\tlearn: 0.1949448\ttest: 0.2167714\tbest: 0.2167707 (8599)\ttotal: 2m 45s\tremaining: 2m 3s\n",
      "8700:\tlearn: 0.1947771\ttest: 0.2167093\tbest: 0.2167088 (8697)\ttotal: 2m 47s\tremaining: 2m 1s\n",
      "8800:\tlearn: 0.1946363\ttest: 0.2166683\tbest: 0.2166663 (8795)\ttotal: 2m 49s\tremaining: 1m 59s\n",
      "8900:\tlearn: 0.1945031\ttest: 0.2166378\tbest: 0.2166367 (8897)\ttotal: 2m 51s\tremaining: 1m 57s\n",
      "9000:\tlearn: 0.1943939\ttest: 0.2165940\tbest: 0.2165937 (8999)\ttotal: 2m 52s\tremaining: 1m 55s\n",
      "9100:\tlearn: 0.1943145\ttest: 0.2165792\tbest: 0.2165756 (9093)\ttotal: 2m 54s\tremaining: 1m 53s\n",
      "9200:\tlearn: 0.1942078\ttest: 0.2165541\tbest: 0.2165487 (9194)\ttotal: 2m 56s\tremaining: 1m 51s\n",
      "9300:\tlearn: 0.1941218\ttest: 0.2165180\tbest: 0.2165180 (9300)\ttotal: 2m 57s\tremaining: 1m 49s\n",
      "9400:\tlearn: 0.1939946\ttest: 0.2164898\tbest: 0.2164896 (9396)\ttotal: 2m 59s\tremaining: 1m 46s\n",
      "9500:\tlearn: 0.1938808\ttest: 0.2164313\tbest: 0.2164312 (9498)\ttotal: 3m 1s\tremaining: 1m 44s\n",
      "9600:\tlearn: 0.1937785\ttest: 0.2163954\tbest: 0.2163949 (9598)\ttotal: 3m 3s\tremaining: 1m 43s\n",
      "9700:\tlearn: 0.1936194\ttest: 0.2163541\tbest: 0.2163530 (9697)\ttotal: 3m 5s\tremaining: 1m 41s\n",
      "9800:\tlearn: 0.1935085\ttest: 0.2163131\tbest: 0.2163131 (9800)\ttotal: 3m 6s\tremaining: 1m 39s\n",
      "9900:\tlearn: 0.1933501\ttest: 0.2162675\tbest: 0.2162669 (9899)\ttotal: 3m 8s\tremaining: 1m 37s\n",
      "10000:\tlearn: 0.1932443\ttest: 0.2162277\tbest: 0.2162275 (9996)\ttotal: 3m 10s\tremaining: 1m 35s\n",
      "10100:\tlearn: 0.1930963\ttest: 0.2161775\tbest: 0.2161775 (10100)\ttotal: 3m 12s\tremaining: 1m 33s\n",
      "10200:\tlearn: 0.1929786\ttest: 0.2161611\tbest: 0.2161609 (10199)\ttotal: 3m 14s\tremaining: 1m 31s\n",
      "10300:\tlearn: 0.1928641\ttest: 0.2161577\tbest: 0.2161549 (10237)\ttotal: 3m 16s\tremaining: 1m 29s\n",
      "10400:\tlearn: 0.1927246\ttest: 0.2161248\tbest: 0.2161243 (10382)\ttotal: 3m 17s\tremaining: 1m 27s\n",
      "10500:\tlearn: 0.1926005\ttest: 0.2160833\tbest: 0.2160818 (10495)\ttotal: 3m 19s\tremaining: 1m 25s\n",
      "10600:\tlearn: 0.1925114\ttest: 0.2160591\tbest: 0.2160584 (10598)\ttotal: 3m 21s\tremaining: 1m 23s\n",
      "10700:\tlearn: 0.1924101\ttest: 0.2160096\tbest: 0.2160096 (10700)\ttotal: 3m 23s\tremaining: 1m 21s\n",
      "10800:\tlearn: 0.1922869\ttest: 0.2159708\tbest: 0.2159708 (10800)\ttotal: 3m 25s\tremaining: 1m 19s\n",
      "10900:\tlearn: 0.1922282\ttest: 0.2159489\tbest: 0.2159447 (10885)\ttotal: 3m 27s\tremaining: 1m 17s\n",
      "11000:\tlearn: 0.1921721\ttest: 0.2159391\tbest: 0.2159388 (10991)\ttotal: 3m 28s\tremaining: 1m 15s\n",
      "11100:\tlearn: 0.1920913\ttest: 0.2159173\tbest: 0.2159162 (11096)\ttotal: 3m 30s\tremaining: 1m 13s\n",
      "11200:\tlearn: 0.1920041\ttest: 0.2158903\tbest: 0.2158903 (11200)\ttotal: 3m 32s\tremaining: 1m 12s\n",
      "11300:\tlearn: 0.1919085\ttest: 0.2158550\tbest: 0.2158550 (11300)\ttotal: 3m 34s\tremaining: 1m 10s\n",
      "11400:\tlearn: 0.1918004\ttest: 0.2158193\tbest: 0.2158181 (11398)\ttotal: 3m 36s\tremaining: 1m 8s\n",
      "11500:\tlearn: 0.1917282\ttest: 0.2158019\tbest: 0.2157974 (11483)\ttotal: 3m 37s\tremaining: 1m 6s\n",
      "11600:\tlearn: 0.1916041\ttest: 0.2157687\tbest: 0.2157670 (11583)\ttotal: 3m 39s\tremaining: 1m 4s\n",
      "11700:\tlearn: 0.1915002\ttest: 0.2157182\tbest: 0.2157182 (11699)\ttotal: 3m 41s\tremaining: 1m 2s\n",
      "11800:\tlearn: 0.1914213\ttest: 0.2156980\tbest: 0.2156959 (11764)\ttotal: 3m 43s\tremaining: 1m\n",
      "11900:\tlearn: 0.1912998\ttest: 0.2156578\tbest: 0.2156522 (11892)\ttotal: 3m 45s\tremaining: 58.7s\n",
      "12000:\tlearn: 0.1911915\ttest: 0.2156136\tbest: 0.2156121 (11996)\ttotal: 3m 47s\tremaining: 56.8s\n",
      "12100:\tlearn: 0.1911370\ttest: 0.2156100\tbest: 0.2156064 (12076)\ttotal: 3m 48s\tremaining: 54.8s\n",
      "12200:\tlearn: 0.1910635\ttest: 0.2155905\tbest: 0.2155861 (12171)\ttotal: 3m 50s\tremaining: 52.9s\n",
      "12300:\tlearn: 0.1909453\ttest: 0.2155531\tbest: 0.2155474 (12293)\ttotal: 3m 52s\tremaining: 51s\n",
      "12400:\tlearn: 0.1908347\ttest: 0.2155096\tbest: 0.2155089 (12396)\ttotal: 3m 54s\tremaining: 49.1s\n",
      "12500:\tlearn: 0.1907345\ttest: 0.2155020\tbest: 0.2154987 (12467)\ttotal: 3m 56s\tremaining: 47.2s\n",
      "12600:\tlearn: 0.1906608\ttest: 0.2154877\tbest: 0.2154874 (12599)\ttotal: 3m 57s\tremaining: 45.3s\n",
      "12700:\tlearn: 0.1905418\ttest: 0.2154622\tbest: 0.2154622 (12700)\ttotal: 3m 59s\tremaining: 43.4s\n",
      "12800:\tlearn: 0.1904255\ttest: 0.2154192\tbest: 0.2154163 (12788)\ttotal: 4m 1s\tremaining: 41.5s\n",
      "12900:\tlearn: 0.1903256\ttest: 0.2153726\tbest: 0.2153720 (12891)\ttotal: 4m 3s\tremaining: 39.6s\n",
      "13000:\tlearn: 0.1902678\ttest: 0.2153617\tbest: 0.2153604 (12990)\ttotal: 4m 5s\tremaining: 37.7s\n",
      "13100:\tlearn: 0.1901612\ttest: 0.2153230\tbest: 0.2153230 (13100)\ttotal: 4m 7s\tremaining: 35.8s\n",
      "13200:\tlearn: 0.1900674\ttest: 0.2153049\tbest: 0.2153044 (13183)\ttotal: 4m 9s\tremaining: 33.9s\n",
      "13300:\tlearn: 0.1899852\ttest: 0.2152843\tbest: 0.2152843 (13300)\ttotal: 4m 10s\tremaining: 32s\n",
      "13400:\tlearn: 0.1898855\ttest: 0.2152507\tbest: 0.2152507 (13400)\ttotal: 4m 12s\tremaining: 30.2s\n",
      "13500:\tlearn: 0.1897851\ttest: 0.2152231\tbest: 0.2152207 (13486)\ttotal: 4m 14s\tremaining: 28.3s\n",
      "13600:\tlearn: 0.1896952\ttest: 0.2151944\tbest: 0.2151942 (13596)\ttotal: 4m 16s\tremaining: 26.4s\n",
      "13700:\tlearn: 0.1896152\ttest: 0.2151812\tbest: 0.2151804 (13696)\ttotal: 4m 18s\tremaining: 24.5s\n",
      "13800:\tlearn: 0.1895443\ttest: 0.2151829\tbest: 0.2151749 (13776)\ttotal: 4m 20s\tremaining: 22.6s\n",
      "13900:\tlearn: 0.1894579\ttest: 0.2151571\tbest: 0.2151544 (13876)\ttotal: 4m 22s\tremaining: 20.7s\n",
      "14000:\tlearn: 0.1893817\ttest: 0.2151378\tbest: 0.2151378 (13953)\ttotal: 4m 23s\tremaining: 18.8s\n",
      "14100:\tlearn: 0.1892886\ttest: 0.2150846\tbest: 0.2150839 (14099)\ttotal: 4m 25s\tremaining: 16.9s\n",
      "14200:\tlearn: 0.1892119\ttest: 0.2150630\tbest: 0.2150601 (14163)\ttotal: 4m 27s\tremaining: 15.1s\n",
      "14300:\tlearn: 0.1891094\ttest: 0.2150368\tbest: 0.2150363 (14296)\ttotal: 4m 29s\tremaining: 13.2s\n",
      "14400:\tlearn: 0.1890213\ttest: 0.2150143\tbest: 0.2150142 (14399)\ttotal: 4m 31s\tremaining: 11.3s\n",
      "14500:\tlearn: 0.1889273\ttest: 0.2150084\tbest: 0.2150056 (14481)\ttotal: 4m 33s\tremaining: 9.4s\n",
      "14600:\tlearn: 0.1888777\ttest: 0.2149783\tbest: 0.2149780 (14596)\ttotal: 4m 35s\tremaining: 7.52s\n",
      "14700:\tlearn: 0.1887871\ttest: 0.2149542\tbest: 0.2149542 (14699)\ttotal: 4m 37s\tremaining: 5.63s\n",
      "14800:\tlearn: 0.1886687\ttest: 0.2148842\tbest: 0.2148826 (14796)\ttotal: 4m 38s\tremaining: 3.75s\n",
      "14900:\tlearn: 0.1885773\ttest: 0.2148625\tbest: 0.2148625 (14899)\ttotal: 4m 40s\tremaining: 1.87s\n",
      "14999:\tlearn: 0.1884629\ttest: 0.2148354\tbest: 0.2148335 (14995)\ttotal: 4m 42s\tremaining: 0us\n",
      "bestTest = 0.2148335441\n",
      "bestIteration = 14995\n",
      "Shrink model to first 14996 iterations.\n"
     ]
    },
    {
     "data": {
      "text/plain": [
       "<catboost.core.CatBoostRegressor at 0x7f3aa1d73700>"
      ]
     },
     "execution_count": 38,
     "metadata": {},
     "output_type": "execute_result"
    }
   ],
   "source": [
    "baseline_model_exp7.fit(X_train,\n",
    "                       np.log1p(y_train),\n",
    "                       eval_set = (X_val, np.log1p(y_val)),\n",
    "                       cat_features = [\"district\", \"street\", \"underground\", \"house_number\"],\n",
    "                       use_best_model=True)"
   ]
  },
  {
   "cell_type": "code",
   "execution_count": 39,
   "id": "5W37Qb8I-l7T",
   "metadata": {
    "colab": {
     "base_uri": "https://localhost:8080/"
    },
    "execution": {
     "iopub.execute_input": "2025-08-11T20:44:32.590239Z",
     "iopub.status.busy": "2025-08-11T20:44:32.588930Z",
     "iopub.status.idle": "2025-08-11T20:44:32.666247Z",
     "shell.execute_reply": "2025-08-11T20:44:32.664886Z",
     "shell.execute_reply.started": "2025-08-11T20:44:32.590199Z"
    },
    "id": "5W37Qb8I-l7T",
    "outputId": "08411694-a20b-42b1-b1e3-de201e7e1c5f",
    "tags": []
   },
   "outputs": [
    {
     "name": "stdout",
     "output_type": "stream",
     "text": [
      "MAE: 21287.23\n",
      "R2-Score: 0.8916\n",
      "MAPE: 0.1631\n"
     ]
    }
   ],
   "source": [
    "y_pred = np.expm1(baseline_model_exp7.predict(X_val))\n",
    "\n",
    "MAE = round(mean_absolute_error(y_val, y_pred), 2)\n",
    "R2 = round(r2_score(y_val, y_pred), 4)\n",
    "MAPE = round(mean_absolute_percentage_error(y_val, y_pred), 4)\n",
    "\n",
    "\n",
    "print(f\"MAE: {MAE}\")\n",
    "print(f\"R2-Score: {R2}\")\n",
    "print(f\"MAPE: {MAPE}\")"
   ]
  },
  {
   "cell_type": "markdown",
   "id": "NdZu57-XFTq9",
   "metadata": {
    "id": "NdZu57-XFTq9"
   },
   "source": [
    "### Выводы по Эксперименту 7 — Логарифмирование + увеличение итераций + снижение learning rate\n",
    "\n",
    "- **MAE:** 21 287 ₽ — ошибка снизилась на ~3.6% по сравнению с предыдущим логарифмированным экспериментом.  \n",
    "- **R²:** 0.8916 — объяснённая дисперсия выросла на ~1%.  \n",
    "- **MAPE:** 16.31% — относительная ошибка снизилась на ~2.6%.\n",
    "\n",
    "Увеличение количества итераций до 15 000 и снижение learning rate до 0.00925 позволило модели **обучиться глубже и стабильнее**, особенно в среднеценовом сегменте.  \n",
    "Все три метрики улучшились, включая R², что говорит об улучшении общей способности модели объяснять разброс в данных.\n",
    "\n",
    "Вывод: сочетание логарифмирования, увеличенного количества итераций и малого learning rate является **сильной основой** для дальнейшего подбора гиперпараметров (Optuna).\n",
    "\n",
    "___"
   ]
  },
  {
   "cell_type": "markdown",
   "id": "bk1rzdcJHMB0",
   "metadata": {
    "id": "bk1rzdcJHMB0"
   },
   "source": [
    "## Эксперимент 8 — Подбор гиперпараметров с Optuna\n",
    "\n",
    "В этом эксперименте проводится автоматизированный подбор гиперпараметров модели `CatBoostRegressor` с использованием библиотеки **Optuna**.\n",
    "\n",
    "### Базовая конфигурация:\n",
    "- Целевая переменная: `log1p(price_per_month)`  \n",
    "- Количество итераций: **15 000**\n",
    "- Learning rate: **0.00925**\n",
    "- Валидация: 20% hold-out (как и в предыдущих экспериментах)\n",
    "- Оценка качества: **RMSE** на логарифмированной шкале → предсказания преобразуются обратно через `expm1()` для финальной оценки метрик\n",
    "\n",
    "### Подбираются параметры:\n",
    "- `depth` — глубина деревьев\n",
    "- `l2_leaf_reg` — L2-регуляризация\n",
    "- `min_data_in_leaf` — минимальное число объектов в листе\n",
    "- `random_strength` — шум на сплите\n",
    "- `bootstrap_type` - метод создания выборки\n",
    "- `bagging_temperature` — параметр стохастичности\n",
    "\n",
    "### Цель:\n",
    "Найти оптимальное сочетание гиперпараметров, которое обеспечит минимальную ошибку на валидационной выборке, повысив точность предсказаний модели.\n",
    "\n",
    "### Гипотеза:\n",
    "Подбор параметров на логарифмированных данных с глубоким обучением позволит достичь **наилучшего баланса между переобучением и недообучением**, снизив MAE и RMSE на обратной шкале.\n",
    "___"
   ]
  },
  {
   "cell_type": "code",
   "execution_count": 40,
   "id": "t1SBweJVFk-0",
   "metadata": {
    "execution": {
     "iopub.execute_input": "2025-05-25T20:05:16.955025Z",
     "iopub.status.busy": "2025-05-25T20:05:16.954146Z",
     "iopub.status.idle": "2025-05-25T20:05:16.972048Z",
     "shell.execute_reply": "2025-05-25T20:05:16.970790Z",
     "shell.execute_reply.started": "2025-05-25T20:05:16.954972Z"
    },
    "id": "t1SBweJVFk-0",
    "tags": []
   },
   "outputs": [],
   "source": [
    "def objective(trial):\n",
    "    params = {\n",
    "        \"depth\": trial.suggest_int(\"depth\", 6, 10),\n",
    "        \"l2_leaf_reg\": trial.suggest_float(\"l2_leaf_reg\", 1e-2, 100.0, log=True),\n",
    "        \"min_data_in_leaf\": trial.suggest_int(\"min_data_in_leaf\", 1, 20),\n",
    "        \"random_strength\": trial.suggest_float(\"random_strength\", 1e-4, 10.0, log=True),\n",
    "        \"bootstrap_type\": trial.suggest_categorical(\"bootstrap_type\", [\"Bayesian\", \"Bernoulli\", \"MVS\"]),\n",
    "        \"eval_metric\": \"RMSE\",\n",
    "        \"loss_function\": \"RMSE\",\n",
    "        \"early_stopping_rounds\": 200,\n",
    "        \"task_type\": \"GPU\",\n",
    "        \"verbose\": 0\n",
    "        }\n",
    "\n",
    "    if params[\"bootstrap_type\"] == \"Bayesian\":\n",
    "        params[\"bagging_temperature\"] = trial.suggest_float(\"bagging_temperature\", 0.0, 10.0, step = 0.01)\n",
    "\n",
    "    if params[\"bootstrap_type\"] in [\"Bernoulli\", \"MVS\"]:\n",
    "        params[\"subsample\"] = trial.suggest_float(\"subsample\", 0.6, 1.0, step = 0.01)\n",
    "\n",
    "    model = CatBoostRegressor(**params,\n",
    "                             iterations = 15_000,\n",
    "                             learning_rate = 0.00925)\n",
    "\n",
    "\n",
    "    model.fit(\n",
    "        X_train,\n",
    "        np.log1p(y_train),\n",
    "        eval_set=(X_val, np.log1p(y_val)),\n",
    "        cat_features=[\"district\", \"street\", \"underground\", \"house_number\"],\n",
    "        use_best_model=True\n",
    "    )\n",
    "\n",
    "    y_pred = model.predict(X_val)\n",
    "\n",
    "    return root_mean_squared_error(np.log1p(y_val), y_pred)"
   ]
  },
  {
   "cell_type": "code",
   "execution_count": 41,
   "id": "M2V0Md6UGVd1",
   "metadata": {
    "colab": {
     "base_uri": "https://localhost:8080/"
    },
    "execution": {
     "iopub.execute_input": "2025-05-25T20:05:16.974613Z",
     "iopub.status.busy": "2025-05-25T20:05:16.973406Z",
     "iopub.status.idle": "2025-05-25T20:05:17.004171Z",
     "shell.execute_reply": "2025-05-25T20:05:17.002939Z",
     "shell.execute_reply.started": "2025-05-25T20:05:16.974558Z"
    },
    "id": "M2V0Md6UGVd1",
    "outputId": "d96c57a9-04e5-4c7c-ca12-f0d633073485",
    "tags": []
   },
   "outputs": [
    {
     "name": "stderr",
     "output_type": "stream",
     "text": [
      "[I 2025-05-25 20:05:16,978] A new study created in memory with name: CB1\n"
     ]
    }
   ],
   "source": [
    "study = optuna.create_study(study_name = \"CB1\", direction=\"minimize\")"
   ]
  },
  {
   "cell_type": "code",
   "execution_count": 42,
   "id": "r-qF9ITILttq",
   "metadata": {
    "colab": {
     "base_uri": "https://localhost:8080/",
     "height": 688
    },
    "execution": {
     "iopub.execute_input": "2025-05-25T20:05:17.006995Z",
     "iopub.status.busy": "2025-05-25T20:05:17.005834Z",
     "iopub.status.idle": "2025-05-25T23:57:37.621240Z",
     "shell.execute_reply": "2025-05-25T23:57:37.619900Z",
     "shell.execute_reply.started": "2025-05-25T20:05:17.006938Z"
    },
    "id": "r-qF9ITILttq",
    "outputId": "533595a5-2425-4871-b21e-fa07241eee41",
    "tags": []
   },
   "outputs": [
    {
     "name": "stderr",
     "output_type": "stream",
     "text": [
      "Best trial: 0. Best value: 0.2217:   2%|▎         | 1/40 [11:50<7:42:06, 710.94s/it]"
     ]
    },
    {
     "name": "stdout",
     "output_type": "stream",
     "text": [
      "[I 2025-05-25 20:17:07,951] Trial 0 finished with value: 0.22170014197065774 and parameters: {'depth': 10, 'l2_leaf_reg': 27.173594647333527, 'min_data_in_leaf': 13, 'random_strength': 0.008640596017304658, 'bootstrap_type': 'MVS', 'subsample': 0.96}. Best is trial 0 with value: 0.22170014197065774.\n"
     ]
    },
    {
     "name": "stderr",
     "output_type": "stream",
     "text": [
      "Best trial: 1. Best value: 0.212031:   5%|▌         | 2/40 [16:54<4:58:23, 471.13s/it]"
     ]
    },
    {
     "name": "stdout",
     "output_type": "stream",
     "text": [
      "[I 2025-05-25 20:22:11,217] Trial 1 finished with value: 0.21203110744388215 and parameters: {'depth': 6, 'l2_leaf_reg': 0.027898142543929954, 'min_data_in_leaf': 20, 'random_strength': 0.011666534962321888, 'bootstrap_type': 'Bernoulli', 'subsample': 0.61}. Best is trial 1 with value: 0.21203110744388215.\n"
     ]
    },
    {
     "name": "stderr",
     "output_type": "stream",
     "text": [
      "Best trial: 1. Best value: 0.212031:   8%|▊         | 3/40 [23:55<4:36:34, 448.51s/it]"
     ]
    },
    {
     "name": "stdout",
     "output_type": "stream",
     "text": [
      "[I 2025-05-25 20:29:12,800] Trial 2 finished with value: 0.21888729801271345 and parameters: {'depth': 9, 'l2_leaf_reg': 2.0135585357110846, 'min_data_in_leaf': 3, 'random_strength': 0.02788776242470219, 'bootstrap_type': 'MVS', 'subsample': 0.88}. Best is trial 1 with value: 0.21203110744388215.\n"
     ]
    },
    {
     "name": "stderr",
     "output_type": "stream",
     "text": [
      "Best trial: 1. Best value: 0.212031:  10%|█         | 4/40 [29:11<3:57:42, 396.17s/it]"
     ]
    },
    {
     "name": "stdout",
     "output_type": "stream",
     "text": [
      "[I 2025-05-25 20:34:28,743] Trial 3 finished with value: 0.2151407916393131 and parameters: {'depth': 6, 'l2_leaf_reg': 0.015459325557918681, 'min_data_in_leaf': 9, 'random_strength': 0.0029769277209978425, 'bootstrap_type': 'Bayesian', 'bagging_temperature': 2.23}. Best is trial 1 with value: 0.21203110744388215.\n"
     ]
    },
    {
     "name": "stderr",
     "output_type": "stream",
     "text": [
      "Best trial: 1. Best value: 0.212031:  12%|█▎        | 5/40 [34:09<3:30:30, 360.86s/it]"
     ]
    },
    {
     "name": "stdout",
     "output_type": "stream",
     "text": [
      "[I 2025-05-25 20:39:27,003] Trial 4 finished with value: 0.21225819214122993 and parameters: {'depth': 6, 'l2_leaf_reg': 0.0597425202729749, 'min_data_in_leaf': 11, 'random_strength': 0.19919430012174696, 'bootstrap_type': 'Bernoulli', 'subsample': 0.72}. Best is trial 1 with value: 0.21203110744388215.\n"
     ]
    },
    {
     "name": "stderr",
     "output_type": "stream",
     "text": [
      "Best trial: 1. Best value: 0.212031:  15%|█▌        | 6/40 [37:09<2:49:32, 299.21s/it]"
     ]
    },
    {
     "name": "stdout",
     "output_type": "stream",
     "text": [
      "[I 2025-05-25 20:42:26,519] Trial 5 finished with value: 0.21918989766794839 and parameters: {'depth': 6, 'l2_leaf_reg': 0.5890894864700658, 'min_data_in_leaf': 2, 'random_strength': 0.12703147357265865, 'bootstrap_type': 'MVS', 'subsample': 0.7}. Best is trial 1 with value: 0.21203110744388215.\n"
     ]
    },
    {
     "name": "stderr",
     "output_type": "stream",
     "text": [
      "Best trial: 1. Best value: 0.212031:  18%|█▊        | 7/40 [45:46<3:23:45, 370.47s/it]"
     ]
    },
    {
     "name": "stdout",
     "output_type": "stream",
     "text": [
      "[I 2025-05-25 20:51:03,718] Trial 6 finished with value: 0.21950325492724726 and parameters: {'depth': 8, 'l2_leaf_reg': 0.9133700821043933, 'min_data_in_leaf': 9, 'random_strength': 0.5086352935800821, 'bootstrap_type': 'Bayesian', 'bagging_temperature': 6.04}. Best is trial 1 with value: 0.21203110744388215.\n"
     ]
    },
    {
     "name": "stderr",
     "output_type": "stream",
     "text": [
      "Best trial: 1. Best value: 0.212031:  20%|██        | 8/40 [48:58<2:47:14, 313.59s/it]"
     ]
    },
    {
     "name": "stdout",
     "output_type": "stream",
     "text": [
      "[I 2025-05-25 20:54:15,498] Trial 7 finished with value: 0.2177635294633285 and parameters: {'depth': 9, 'l2_leaf_reg': 1.9417482644345074, 'min_data_in_leaf': 7, 'random_strength': 3.6710193794471806, 'bootstrap_type': 'Bernoulli', 'subsample': 0.97}. Best is trial 1 with value: 0.21203110744388215.\n"
     ]
    },
    {
     "name": "stderr",
     "output_type": "stream",
     "text": [
      "Best trial: 1. Best value: 0.212031:  22%|██▎       | 9/40 [52:39<2:27:04, 284.65s/it]"
     ]
    },
    {
     "name": "stdout",
     "output_type": "stream",
     "text": [
      "[I 2025-05-25 20:57:56,518] Trial 8 finished with value: 0.2224564661242089 and parameters: {'depth': 7, 'l2_leaf_reg': 0.018686985389792105, 'min_data_in_leaf': 17, 'random_strength': 9.79999081347217, 'bootstrap_type': 'MVS', 'subsample': 0.84}. Best is trial 1 with value: 0.21203110744388215.\n"
     ]
    },
    {
     "name": "stderr",
     "output_type": "stream",
     "text": [
      "Best trial: 9. Best value: 0.210612:  25%|██▌       | 10/40 [58:32<2:32:51, 305.71s/it]"
     ]
    },
    {
     "name": "stdout",
     "output_type": "stream",
     "text": [
      "[I 2025-05-25 21:03:49,391] Trial 9 finished with value: 0.2106117073181563 and parameters: {'depth': 7, 'l2_leaf_reg': 0.49704978003330685, 'min_data_in_leaf': 17, 'random_strength': 0.0029363237257199605, 'bootstrap_type': 'Bernoulli', 'subsample': 0.76}. Best is trial 9 with value: 0.2106117073181563.\n"
     ]
    },
    {
     "name": "stderr",
     "output_type": "stream",
     "text": [
      "Best trial: 9. Best value: 0.210612:  28%|██▊       | 11/40 [1:06:40<2:54:41, 361.42s/it]"
     ]
    },
    {
     "name": "stdout",
     "output_type": "stream",
     "text": [
      "[I 2025-05-25 21:11:57,141] Trial 10 finished with value: 0.21493347619181255 and parameters: {'depth': 8, 'l2_leaf_reg': 25.089441250404438, 'min_data_in_leaf': 15, 'random_strength': 0.00011977843054041489, 'bootstrap_type': 'Bernoulli', 'subsample': 0.75}. Best is trial 9 with value: 0.2106117073181563.\n"
     ]
    },
    {
     "name": "stderr",
     "output_type": "stream",
     "text": [
      "Best trial: 9. Best value: 0.210612:  30%|███       | 12/40 [1:12:30<2:47:04, 358.03s/it]"
     ]
    },
    {
     "name": "stdout",
     "output_type": "stream",
     "text": [
      "[I 2025-05-25 21:17:47,414] Trial 11 finished with value: 0.21142956943703115 and parameters: {'depth': 7, 'l2_leaf_reg': 0.13977037526405872, 'min_data_in_leaf': 20, 'random_strength': 0.0008110393219717447, 'bootstrap_type': 'Bernoulli', 'subsample': 0.62}. Best is trial 9 with value: 0.2106117073181563.\n"
     ]
    },
    {
     "name": "stderr",
     "output_type": "stream",
     "text": [
      "Best trial: 9. Best value: 0.210612:  32%|███▎      | 13/40 [1:18:33<2:41:44, 359.43s/it]"
     ]
    },
    {
     "name": "stdout",
     "output_type": "stream",
     "text": [
      "[I 2025-05-25 21:23:50,056] Trial 12 finished with value: 0.212052697990027 and parameters: {'depth': 7, 'l2_leaf_reg': 0.1288988576836268, 'min_data_in_leaf': 20, 'random_strength': 0.00048137068522770683, 'bootstrap_type': 'Bernoulli', 'subsample': 0.6}. Best is trial 9 with value: 0.2106117073181563.\n"
     ]
    },
    {
     "name": "stderr",
     "output_type": "stream",
     "text": [
      "Best trial: 9. Best value: 0.210612:  35%|███▌      | 14/40 [1:23:36<2:28:24, 342.49s/it]"
     ]
    },
    {
     "name": "stdout",
     "output_type": "stream",
     "text": [
      "[I 2025-05-25 21:28:53,408] Trial 13 finished with value: 0.2118711939803385 and parameters: {'depth': 7, 'l2_leaf_reg': 0.2761325723965724, 'min_data_in_leaf': 16, 'random_strength': 0.0013283612817452269, 'bootstrap_type': 'Bernoulli', 'subsample': 0.6599999999999999}. Best is trial 9 with value: 0.2106117073181563.\n"
     ]
    },
    {
     "name": "stderr",
     "output_type": "stream",
     "text": [
      "Best trial: 9. Best value: 0.210612:  38%|███▊      | 15/40 [1:28:42<2:18:06, 331.45s/it]"
     ]
    },
    {
     "name": "stdout",
     "output_type": "stream",
     "text": [
      "[I 2025-05-25 21:33:59,265] Trial 14 finished with value: 0.21596001967607487 and parameters: {'depth': 7, 'l2_leaf_reg': 6.36977726273614, 'min_data_in_leaf': 18, 'random_strength': 0.00021297610374255188, 'bootstrap_type': 'Bernoulli', 'subsample': 0.79}. Best is trial 9 with value: 0.2106117073181563.\n"
     ]
    },
    {
     "name": "stderr",
     "output_type": "stream",
     "text": [
      "Best trial: 9. Best value: 0.210612:  40%|████      | 16/40 [1:36:24<2:28:16, 370.71s/it]"
     ]
    },
    {
     "name": "stdout",
     "output_type": "stream",
     "text": [
      "[I 2025-05-25 21:41:41,144] Trial 15 finished with value: 0.21106912839826691 and parameters: {'depth': 8, 'l2_leaf_reg': 0.17273489131075578, 'min_data_in_leaf': 14, 'random_strength': 0.0013307287518757507, 'bootstrap_type': 'Bernoulli', 'subsample': 0.6599999999999999}. Best is trial 9 with value: 0.2106117073181563.\n"
     ]
    },
    {
     "name": "stderr",
     "output_type": "stream",
     "text": [
      "Best trial: 9. Best value: 0.210612:  42%|████▎     | 17/40 [1:48:10<3:00:47, 471.63s/it]"
     ]
    },
    {
     "name": "stdout",
     "output_type": "stream",
     "text": [
      "[I 2025-05-25 21:53:27,463] Trial 16 finished with value: 0.2236513618948567 and parameters: {'depth': 9, 'l2_leaf_reg': 6.052022378701894, 'min_data_in_leaf': 13, 'random_strength': 0.003265079371928581, 'bootstrap_type': 'Bayesian', 'bagging_temperature': 9.68}. Best is trial 9 with value: 0.2106117073181563.\n"
     ]
    },
    {
     "name": "stderr",
     "output_type": "stream",
     "text": [
      "Best trial: 9. Best value: 0.210612:  45%|████▌     | 18/40 [1:53:55<2:38:57, 433.54s/it]"
     ]
    },
    {
     "name": "stdout",
     "output_type": "stream",
     "text": [
      "[I 2025-05-25 21:59:12,330] Trial 17 finished with value: 0.21157472924930432 and parameters: {'depth': 8, 'l2_leaf_reg': 0.25838706374562453, 'min_data_in_leaf': 14, 'random_strength': 0.0046556779852393185, 'bootstrap_type': 'Bernoulli', 'subsample': 0.78}. Best is trial 9 with value: 0.2106117073181563.\n"
     ]
    },
    {
     "name": "stderr",
     "output_type": "stream",
     "text": [
      "Best trial: 9. Best value: 0.210612:  48%|████▊     | 19/40 [2:00:21<2:26:44, 419.27s/it]"
     ]
    },
    {
     "name": "stdout",
     "output_type": "stream",
     "text": [
      "[I 2025-05-25 22:05:38,368] Trial 18 finished with value: 0.21274573775330935 and parameters: {'depth': 10, 'l2_leaf_reg': 0.057823936863846896, 'min_data_in_leaf': 12, 'random_strength': 0.0552799937070203, 'bootstrap_type': 'Bernoulli', 'subsample': 0.6799999999999999}. Best is trial 9 with value: 0.2106117073181563.\n"
     ]
    },
    {
     "name": "stderr",
     "output_type": "stream",
     "text": [
      "Best trial: 9. Best value: 0.210612:  50%|█████     | 20/40 [2:00:49<1:40:37, 301.88s/it]"
     ]
    },
    {
     "name": "stdout",
     "output_type": "stream",
     "text": [
      "[I 2025-05-25 22:06:06,652] Trial 19 finished with value: 0.2345076895466175 and parameters: {'depth': 8, 'l2_leaf_reg': 0.4935168224674834, 'min_data_in_leaf': 5, 'random_strength': 0.0004952108949385154, 'bootstrap_type': 'Bayesian', 'bagging_temperature': 0.04}. Best is trial 9 with value: 0.2106117073181563.\n"
     ]
    },
    {
     "name": "stderr",
     "output_type": "stream",
     "text": [
      "Best trial: 9. Best value: 0.210612:  52%|█████▎    | 21/40 [2:09:21<1:55:33, 364.90s/it]"
     ]
    },
    {
     "name": "stdout",
     "output_type": "stream",
     "text": [
      "[I 2025-05-25 22:14:38,474] Trial 20 finished with value: 0.21434159718589624 and parameters: {'depth': 8, 'l2_leaf_reg': 72.53471263502823, 'min_data_in_leaf': 18, 'random_strength': 0.018917103699757437, 'bootstrap_type': 'Bernoulli', 'subsample': 0.84}. Best is trial 9 with value: 0.2106117073181563.\n"
     ]
    },
    {
     "name": "stderr",
     "output_type": "stream",
     "text": [
      "Best trial: 9. Best value: 0.210612:  55%|█████▌    | 22/40 [2:13:49<1:40:43, 335.77s/it]"
     ]
    },
    {
     "name": "stdout",
     "output_type": "stream",
     "text": [
      "[I 2025-05-25 22:19:06,329] Trial 21 finished with value: 0.21212527601122078 and parameters: {'depth': 7, 'l2_leaf_reg': 0.12241411808729244, 'min_data_in_leaf': 19, 'random_strength': 0.0011603431886752615, 'bootstrap_type': 'Bernoulli', 'subsample': 0.64}. Best is trial 9 with value: 0.2106117073181563.\n"
     ]
    },
    {
     "name": "stderr",
     "output_type": "stream",
     "text": [
      "Best trial: 9. Best value: 0.210612:  57%|█████▊    | 23/40 [2:19:44<1:36:49, 341.73s/it]"
     ]
    },
    {
     "name": "stdout",
     "output_type": "stream",
     "text": [
      "[I 2025-05-25 22:25:01,944] Trial 22 finished with value: 0.2121399596170569 and parameters: {'depth': 7, 'l2_leaf_reg': 0.14749321871819573, 'min_data_in_leaf': 16, 'random_strength': 0.0009976393763563218, 'bootstrap_type': 'Bernoulli', 'subsample': 0.65}. Best is trial 9 with value: 0.2106117073181563.\n"
     ]
    },
    {
     "name": "stderr",
     "output_type": "stream",
     "text": [
      "Best trial: 9. Best value: 0.210612:  60%|██████    | 24/40 [2:24:37<1:27:11, 326.94s/it]"
     ]
    },
    {
     "name": "stdout",
     "output_type": "stream",
     "text": [
      "[I 2025-05-25 22:29:54,393] Trial 23 finished with value: 0.21210408197462002 and parameters: {'depth': 8, 'l2_leaf_reg': 0.05234216404452248, 'min_data_in_leaf': 15, 'random_strength': 0.00039226506305855055, 'bootstrap_type': 'Bernoulli', 'subsample': 0.73}. Best is trial 9 with value: 0.2106117073181563.\n"
     ]
    },
    {
     "name": "stderr",
     "output_type": "stream",
     "text": [
      "Best trial: 9. Best value: 0.210612:  62%|██████▎   | 25/40 [2:30:35<1:24:02, 336.19s/it]"
     ]
    },
    {
     "name": "stdout",
     "output_type": "stream",
     "text": [
      "[I 2025-05-25 22:35:52,161] Trial 24 finished with value: 0.21166443587749956 and parameters: {'depth': 7, 'l2_leaf_reg': 0.3045979919092968, 'min_data_in_leaf': 18, 'random_strength': 0.002074579434092235, 'bootstrap_type': 'Bernoulli', 'subsample': 0.63}. Best is trial 9 with value: 0.2106117073181563.\n"
     ]
    },
    {
     "name": "stderr",
     "output_type": "stream",
     "text": [
      "Best trial: 9. Best value: 0.210612:  65%|██████▌   | 26/40 [2:37:27<1:23:47, 359.08s/it]"
     ]
    },
    {
     "name": "stdout",
     "output_type": "stream",
     "text": [
      "[I 2025-05-25 22:42:44,648] Trial 25 finished with value: 0.21350223727438028 and parameters: {'depth': 9, 'l2_leaf_reg': 2.3612882274539726, 'min_data_in_leaf': 17, 'random_strength': 0.0067816572402475215, 'bootstrap_type': 'Bernoulli', 'subsample': 0.7}. Best is trial 9 with value: 0.2106117073181563.\n"
     ]
    },
    {
     "name": "stderr",
     "output_type": "stream",
     "text": [
      "Best trial: 9. Best value: 0.210612:  68%|██████▊   | 27/40 [2:41:01<1:08:23, 315.66s/it]"
     ]
    },
    {
     "name": "stdout",
     "output_type": "stream",
     "text": [
      "[I 2025-05-25 22:46:19,004] Trial 26 finished with value: 0.21359782385939902 and parameters: {'depth': 7, 'l2_leaf_reg': 1.0121810875321602, 'min_data_in_leaf': 20, 'random_strength': 0.00021558107327482383, 'bootstrap_type': 'Bernoulli', 'subsample': 0.76}. Best is trial 9 with value: 0.2106117073181563.\n"
     ]
    },
    {
     "name": "stderr",
     "output_type": "stream",
     "text": [
      "Best trial: 9. Best value: 0.210612:  70%|███████   | 28/40 [2:47:46<1:08:26, 342.22s/it]"
     ]
    },
    {
     "name": "stdout",
     "output_type": "stream",
     "text": [
      "[I 2025-05-25 22:53:03,177] Trial 27 finished with value: 0.21065819010157652 and parameters: {'depth': 8, 'l2_leaf_reg': 0.0909902690720025, 'min_data_in_leaf': 16, 'random_strength': 0.00010356645619139123, 'bootstrap_type': 'Bernoulli', 'subsample': 0.83}. Best is trial 9 with value: 0.2106117073181563.\n"
     ]
    },
    {
     "name": "stderr",
     "output_type": "stream",
     "text": [
      "Best trial: 9. Best value: 0.210612:  72%|███████▎  | 29/40 [2:56:05<1:11:22, 389.36s/it]"
     ]
    },
    {
     "name": "stdout",
     "output_type": "stream",
     "text": [
      "[I 2025-05-25 23:01:22,538] Trial 28 finished with value: 0.22461433686559454 and parameters: {'depth': 8, 'l2_leaf_reg': 0.03771478163306466, 'min_data_in_leaf': 10, 'random_strength': 0.00012101972768512806, 'bootstrap_type': 'Bayesian', 'bagging_temperature': 9.040000000000001}. Best is trial 9 with value: 0.2106117073181563.\n"
     ]
    },
    {
     "name": "stderr",
     "output_type": "stream",
     "text": [
      "Best trial: 9. Best value: 0.210612:  75%|███████▌  | 30/40 [3:01:34<1:01:52, 371.29s/it]"
     ]
    },
    {
     "name": "stdout",
     "output_type": "stream",
     "text": [
      "[I 2025-05-25 23:06:51,679] Trial 29 finished with value: 0.21909097881022105 and parameters: {'depth': 10, 'l2_leaf_reg': 0.011646626541969542, 'min_data_in_leaf': 13, 'random_strength': 0.010840806447334924, 'bootstrap_type': 'MVS', 'subsample': 0.9099999999999999}. Best is trial 9 with value: 0.2106117073181563.\n"
     ]
    },
    {
     "name": "stderr",
     "output_type": "stream",
     "text": [
      "Best trial: 9. Best value: 0.210612:  75%|███████▌  | 30/40 [3:08:33<1:01:52, 371.29s/it]"
     ]
    },
    {
     "name": "stdout",
     "output_type": "stream",
     "text": [
      "[I 2025-05-25 23:13:50,979] Trial 30 finished with value: 0.21897277864349432 and parameters: {'depth': 9, 'l2_leaf_reg': 0.08981963578195395, 'min_data_in_leaf': 14, 'random_strength': 0.058552386543158454, 'bootstrap_type': 'MVS', 'subsample': 0.84}. Best is trial 9 with value: 0.2106117073181563.\n"
     ]
    },
    {
     "name": "stderr",
     "output_type": "stream",
     "text": [
      "Best trial: 9. Best value: 0.210612:  80%|████████  | 32/40 [3:12:37<45:43, 342.92s/it]  "
     ]
    },
    {
     "name": "stdout",
     "output_type": "stream",
     "text": [
      "[I 2025-05-25 23:17:54,096] Trial 31 finished with value: 0.21333897868686197 and parameters: {'depth': 8, 'l2_leaf_reg': 0.21519126075319608, 'min_data_in_leaf': 16, 'random_strength': 0.0005299253842497597, 'bootstrap_type': 'Bernoulli', 'subsample': 0.82}. Best is trial 9 with value: 0.2106117073181563.\n"
     ]
    },
    {
     "name": "stderr",
     "output_type": "stream",
     "text": [
      "Best trial: 9. Best value: 0.210612:  82%|████████▎ | 33/40 [3:17:29<38:14, 327.76s/it]"
     ]
    },
    {
     "name": "stdout",
     "output_type": "stream",
     "text": [
      "[I 2025-05-25 23:22:46,479] Trial 32 finished with value: 0.21226334964204097 and parameters: {'depth': 6, 'l2_leaf_reg': 0.482685964744469, 'min_data_in_leaf': 19, 'random_strength': 0.001044765476994702, 'bootstrap_type': 'Bernoulli', 'subsample': 0.6799999999999999}. Best is trial 9 with value: 0.2106117073181563.\n"
     ]
    },
    {
     "name": "stderr",
     "output_type": "stream",
     "text": [
      "Best trial: 9. Best value: 0.210612:  85%|████████▌ | 34/40 [3:19:54<27:17, 272.90s/it]"
     ]
    },
    {
     "name": "stdout",
     "output_type": "stream",
     "text": [
      "[I 2025-05-25 23:25:11,383] Trial 33 finished with value: 0.21448445409143582 and parameters: {'depth': 7, 'l2_leaf_reg': 0.027090811829709283, 'min_data_in_leaf': 17, 'random_strength': 0.00024251440992547886, 'bootstrap_type': 'Bernoulli', 'subsample': 0.8999999999999999}. Best is trial 9 with value: 0.2106117073181563.\n"
     ]
    },
    {
     "name": "stderr",
     "output_type": "stream",
     "text": [
      "Best trial: 9. Best value: 0.210612:  88%|████████▊ | 35/40 [3:24:47<23:14, 278.93s/it]"
     ]
    },
    {
     "name": "stdout",
     "output_type": "stream",
     "text": [
      "[I 2025-05-25 23:30:04,387] Trial 34 finished with value: 0.21261515385232116 and parameters: {'depth': 8, 'l2_leaf_reg': 0.08688352185498588, 'min_data_in_leaf': 15, 'random_strength': 0.0020859620973700506, 'bootstrap_type': 'Bernoulli', 'subsample': 0.87}. Best is trial 9 with value: 0.2106117073181563.\n"
     ]
    },
    {
     "name": "stderr",
     "output_type": "stream",
     "text": [
      "Best trial: 9. Best value: 0.210612:  90%|█████████ | 36/40 [3:29:46<19:00, 285.04s/it]"
     ]
    },
    {
     "name": "stdout",
     "output_type": "stream",
     "text": [
      "[I 2025-05-25 23:35:03,680] Trial 35 finished with value: 0.2126608210546122 and parameters: {'depth': 6, 'l2_leaf_reg': 0.7872326749266425, 'min_data_in_leaf': 19, 'random_strength': 0.008901460904537984, 'bootstrap_type': 'Bernoulli', 'subsample': 0.62}. Best is trial 9 with value: 0.2106117073181563.\n"
     ]
    },
    {
     "name": "stderr",
     "output_type": "stream",
     "text": [
      "Best trial: 9. Best value: 0.210612:  92%|█████████▎| 37/40 [3:33:29<13:19, 266.37s/it]"
     ]
    },
    {
     "name": "stdout",
     "output_type": "stream",
     "text": [
      "[I 2025-05-25 23:38:46,488] Trial 36 finished with value: 0.21517995267341025 and parameters: {'depth': 7, 'l2_leaf_reg': 1.5332109495530861, 'min_data_in_leaf': 12, 'random_strength': 0.004831880243048553, 'bootstrap_type': 'Bernoulli', 'subsample': 0.9299999999999999}. Best is trial 9 with value: 0.2106117073181563.\n"
     ]
    },
    {
     "name": "stderr",
     "output_type": "stream",
     "text": [
      "Best trial: 9. Best value: 0.210612:  95%|█████████▌| 38/40 [3:36:53<08:15, 247.66s/it]"
     ]
    },
    {
     "name": "stdout",
     "output_type": "stream",
     "text": [
      "[I 2025-05-25 23:42:10,494] Trial 37 finished with value: 0.21896209166207986 and parameters: {'depth': 6, 'l2_leaf_reg': 0.17137661016759878, 'min_data_in_leaf': 20, 'random_strength': 0.0007934959387589931, 'bootstrap_type': 'MVS', 'subsample': 0.8}. Best is trial 9 with value: 0.2106117073181563.\n"
     ]
    },
    {
     "name": "stderr",
     "output_type": "stream",
     "text": [
      "Best trial: 9. Best value: 0.210612:  98%|█████████▊| 39/40 [3:45:23<05:26, 326.51s/it]"
     ]
    },
    {
     "name": "stdout",
     "output_type": "stream",
     "text": [
      "[I 2025-05-25 23:50:40,986] Trial 38 finished with value: 0.2176887013712411 and parameters: {'depth': 8, 'l2_leaf_reg': 0.3590127943534598, 'min_data_in_leaf': 11, 'random_strength': 0.00011198585851737312, 'bootstrap_type': 'Bayesian', 'bagging_temperature': 5.37}. Best is trial 9 with value: 0.2106117073181563.\n"
     ]
    },
    {
     "name": "stderr",
     "output_type": "stream",
     "text": [
      "Best trial: 9. Best value: 0.210612: 100%|██████████| 40/40 [3:52:20<00:00, 348.51s/it]"
     ]
    },
    {
     "name": "stdout",
     "output_type": "stream",
     "text": [
      "[I 2025-05-25 23:57:37,551] Trial 39 finished with value: 0.2115396072071057 and parameters: {'depth': 9, 'l2_leaf_reg': 0.027119378549036732, 'min_data_in_leaf': 14, 'random_strength': 0.023204087220495193, 'bootstrap_type': 'Bernoulli', 'subsample': 0.6}. Best is trial 9 with value: 0.2106117073181563.\n"
     ]
    },
    {
     "name": "stderr",
     "output_type": "stream",
     "text": [
      "\n"
     ]
    }
   ],
   "source": [
    "study.optimize(objective, n_trials=40, show_progress_bar = True)"
   ]
  },
  {
   "cell_type": "code",
   "execution_count": 43,
   "id": "db3c38fa-a077-420b-be19-f3328deb300f",
   "metadata": {
    "execution": {
     "iopub.execute_input": "2025-05-25T23:57:37.625099Z",
     "iopub.status.busy": "2025-05-25T23:57:37.623278Z",
     "iopub.status.idle": "2025-05-25T23:57:37.671926Z",
     "shell.execute_reply": "2025-05-25T23:57:37.670781Z",
     "shell.execute_reply.started": "2025-05-25T23:57:37.625047Z"
    },
    "tags": []
   },
   "outputs": [
    {
     "name": "stdout",
     "output_type": "stream",
     "text": [
      "Best Params: {'depth': 7, 'l2_leaf_reg': 0.49704978003330685, 'min_data_in_leaf': 17, 'random_strength': 0.0029363237257199605, 'bootstrap_type': 'Bernoulli', 'subsample': 0.76}\n",
      "Study Best Score: 0.2106117073181563\n"
     ]
    }
   ],
   "source": [
    "print(f\"Best Params: {study.best_params}\")\n",
    "print(f\"Study Best Score: {study.best_value}\")"
   ]
  },
  {
   "cell_type": "code",
   "execution_count": 44,
   "id": "5e0ce405-3acc-4222-9863-67d50883b8b0",
   "metadata": {
    "execution": {
     "iopub.execute_input": "2025-05-25T23:57:37.674222Z",
     "iopub.status.busy": "2025-05-25T23:57:37.673172Z",
     "iopub.status.idle": "2025-05-25T23:57:37.688549Z",
     "shell.execute_reply": "2025-05-25T23:57:37.687435Z",
     "shell.execute_reply.started": "2025-05-25T23:57:37.674145Z"
    },
    "tags": []
   },
   "outputs": [],
   "source": [
    "params = study.best_params"
   ]
  },
  {
   "cell_type": "code",
   "execution_count": 45,
   "id": "3d6eb722-1e92-48a2-b785-38ae4396abfa",
   "metadata": {
    "execution": {
     "iopub.execute_input": "2025-05-25T23:57:37.690994Z",
     "iopub.status.busy": "2025-05-25T23:57:37.689939Z",
     "iopub.status.idle": "2025-05-25T23:57:37.706190Z",
     "shell.execute_reply": "2025-05-25T23:57:37.705189Z",
     "shell.execute_reply.started": "2025-05-25T23:57:37.690948Z"
    },
    "tags": []
   },
   "outputs": [],
   "source": [
    "baseline_model_exp8 = CatBoostRegressor(**params,\n",
    "                                        iterations = 15000,\n",
    "                                        learning_rate = 0.00925,\n",
    "                                        loss_function=\"RMSE\",\n",
    "                                        eval_metric=\"RMSE\",\n",
    "                                        early_stopping_rounds=200,\n",
    "                                        verbose=100,\n",
    "                                        task_type=\"GPU\")"
   ]
  },
  {
   "cell_type": "code",
   "execution_count": 46,
   "id": "8c40c17f-1f2c-471c-ba6e-6bf5c3e558b8",
   "metadata": {
    "execution": {
     "iopub.execute_input": "2025-05-25T23:57:37.708365Z",
     "iopub.status.busy": "2025-05-25T23:57:37.707498Z",
     "iopub.status.idle": "2025-05-26T00:03:24.819487Z",
     "shell.execute_reply": "2025-05-26T00:03:24.818432Z",
     "shell.execute_reply.started": "2025-05-25T23:57:37.708322Z"
    },
    "tags": []
   },
   "outputs": [
    {
     "name": "stdout",
     "output_type": "stream",
     "text": [
      "0:\tlearn: 0.6665150\ttest: 0.6734339\tbest: 0.6734339 (0)\ttotal: 27.1ms\tremaining: 6m 45s\n",
      "100:\tlearn: 0.3733375\ttest: 0.3736676\tbest: 0.3736676 (100)\ttotal: 2.58s\tremaining: 6m 21s\n",
      "200:\tlearn: 0.2838050\ttest: 0.2831082\tbest: 0.2831082 (200)\ttotal: 5.23s\tremaining: 6m 24s\n",
      "300:\tlearn: 0.2568795\ttest: 0.2579486\tbest: 0.2579486 (300)\ttotal: 7.89s\tremaining: 6m 25s\n",
      "400:\tlearn: 0.2438804\ttest: 0.2470458\tbest: 0.2470458 (400)\ttotal: 10.6s\tremaining: 6m 24s\n",
      "500:\tlearn: 0.2364393\ttest: 0.2413405\tbest: 0.2413405 (500)\ttotal: 13.2s\tremaining: 6m 21s\n",
      "600:\tlearn: 0.2312835\ttest: 0.2378533\tbest: 0.2378533 (600)\ttotal: 15.8s\tremaining: 6m 17s\n",
      "700:\tlearn: 0.2276004\ttest: 0.2354961\tbest: 0.2354961 (700)\ttotal: 18.3s\tremaining: 6m 12s\n",
      "800:\tlearn: 0.2249802\ttest: 0.2338367\tbest: 0.2338366 (799)\ttotal: 20.6s\tremaining: 6m 4s\n",
      "900:\tlearn: 0.2232509\ttest: 0.2327369\tbest: 0.2327369 (900)\ttotal: 22.7s\tremaining: 5m 55s\n",
      "1000:\tlearn: 0.2217708\ttest: 0.2317262\tbest: 0.2317262 (1000)\ttotal: 24.7s\tremaining: 5m 44s\n",
      "1100:\tlearn: 0.2200296\ttest: 0.2306185\tbest: 0.2306185 (1100)\ttotal: 27s\tremaining: 5m 40s\n",
      "1200:\tlearn: 0.2182432\ttest: 0.2294667\tbest: 0.2294667 (1200)\ttotal: 29.3s\tremaining: 5m 36s\n",
      "1300:\tlearn: 0.2166334\ttest: 0.2284495\tbest: 0.2284495 (1300)\ttotal: 31.6s\tremaining: 5m 32s\n",
      "1400:\tlearn: 0.2149808\ttest: 0.2274248\tbest: 0.2274248 (1400)\ttotal: 34s\tremaining: 5m 29s\n",
      "1500:\tlearn: 0.2134703\ttest: 0.2264363\tbest: 0.2264338 (1499)\ttotal: 36.5s\tremaining: 5m 27s\n",
      "1600:\tlearn: 0.2121496\ttest: 0.2256834\tbest: 0.2256829 (1599)\ttotal: 38.9s\tremaining: 5m 25s\n",
      "1700:\tlearn: 0.2108558\ttest: 0.2248816\tbest: 0.2248813 (1699)\ttotal: 41.5s\tremaining: 5m 24s\n",
      "1800:\tlearn: 0.2097763\ttest: 0.2243166\tbest: 0.2243166 (1800)\ttotal: 43.8s\tremaining: 5m 21s\n",
      "1900:\tlearn: 0.2086305\ttest: 0.2236258\tbest: 0.2236258 (1900)\ttotal: 46.2s\tremaining: 5m 18s\n",
      "2000:\tlearn: 0.2073832\ttest: 0.2227782\tbest: 0.2227782 (2000)\ttotal: 48.7s\tremaining: 5m 16s\n",
      "2100:\tlearn: 0.2065615\ttest: 0.2223381\tbest: 0.2223338 (2099)\ttotal: 51.2s\tremaining: 5m 14s\n",
      "2200:\tlearn: 0.2057239\ttest: 0.2218817\tbest: 0.2218815 (2198)\ttotal: 53.5s\tremaining: 5m 11s\n",
      "2300:\tlearn: 0.2048489\ttest: 0.2213952\tbest: 0.2213952 (2300)\ttotal: 55.9s\tremaining: 5m 8s\n",
      "2400:\tlearn: 0.2040131\ttest: 0.2209509\tbest: 0.2209509 (2400)\ttotal: 58.2s\tremaining: 5m 5s\n",
      "2500:\tlearn: 0.2032667\ttest: 0.2205134\tbest: 0.2205134 (2500)\ttotal: 1m\tremaining: 5m 2s\n",
      "2600:\tlearn: 0.2025495\ttest: 0.2201537\tbest: 0.2201537 (2600)\ttotal: 1m 2s\tremaining: 4m 59s\n",
      "2700:\tlearn: 0.2020200\ttest: 0.2199608\tbest: 0.2199608 (2700)\ttotal: 1m 4s\tremaining: 4m 55s\n",
      "2800:\tlearn: 0.2013559\ttest: 0.2195959\tbest: 0.2195916 (2797)\ttotal: 1m 7s\tremaining: 4m 52s\n",
      "2900:\tlearn: 0.2009816\ttest: 0.2194238\tbest: 0.2194238 (2899)\ttotal: 1m 9s\tremaining: 4m 48s\n",
      "3000:\tlearn: 0.2004979\ttest: 0.2192056\tbest: 0.2192047 (2998)\ttotal: 1m 11s\tremaining: 4m 45s\n",
      "3100:\tlearn: 0.1998675\ttest: 0.2188847\tbest: 0.2188839 (3099)\ttotal: 1m 13s\tremaining: 4m 42s\n",
      "3200:\tlearn: 0.1990918\ttest: 0.2184886\tbest: 0.2184886 (3200)\ttotal: 1m 16s\tremaining: 4m 40s\n",
      "3300:\tlearn: 0.1984335\ttest: 0.2181925\tbest: 0.2181917 (3296)\ttotal: 1m 18s\tremaining: 4m 38s\n",
      "3400:\tlearn: 0.1978750\ttest: 0.2179202\tbest: 0.2179202 (3400)\ttotal: 1m 20s\tremaining: 4m 35s\n",
      "3500:\tlearn: 0.1973726\ttest: 0.2177347\tbest: 0.2177332 (3494)\ttotal: 1m 23s\tremaining: 4m 33s\n",
      "3600:\tlearn: 0.1968163\ttest: 0.2174770\tbest: 0.2174760 (3599)\ttotal: 1m 25s\tremaining: 4m 31s\n",
      "3700:\tlearn: 0.1962326\ttest: 0.2171838\tbest: 0.2171801 (3696)\ttotal: 1m 28s\tremaining: 4m 29s\n",
      "3800:\tlearn: 0.1958468\ttest: 0.2170331\tbest: 0.2170327 (3798)\ttotal: 1m 30s\tremaining: 4m 26s\n",
      "3900:\tlearn: 0.1954278\ttest: 0.2168329\tbest: 0.2168301 (3893)\ttotal: 1m 33s\tremaining: 4m 24s\n",
      "4000:\tlearn: 0.1951217\ttest: 0.2166796\tbest: 0.2166796 (4000)\ttotal: 1m 35s\tremaining: 4m 21s\n",
      "4100:\tlearn: 0.1945867\ttest: 0.2164998\tbest: 0.2164998 (4100)\ttotal: 1m 37s\tremaining: 4m 19s\n",
      "4200:\tlearn: 0.1942395\ttest: 0.2163060\tbest: 0.2163060 (4200)\ttotal: 1m 39s\tremaining: 4m 16s\n",
      "4300:\tlearn: 0.1937681\ttest: 0.2161009\tbest: 0.2161002 (4298)\ttotal: 1m 42s\tremaining: 4m 13s\n",
      "4400:\tlearn: 0.1934446\ttest: 0.2159738\tbest: 0.2159738 (4400)\ttotal: 1m 44s\tremaining: 4m 11s\n",
      "4500:\tlearn: 0.1930937\ttest: 0.2158136\tbest: 0.2158116 (4498)\ttotal: 1m 46s\tremaining: 4m 8s\n",
      "4600:\tlearn: 0.1927396\ttest: 0.2156410\tbest: 0.2156410 (4600)\ttotal: 1m 48s\tremaining: 4m 6s\n",
      "4700:\tlearn: 0.1923420\ttest: 0.2155548\tbest: 0.2155548 (4700)\ttotal: 1m 51s\tremaining: 4m 3s\n",
      "4800:\tlearn: 0.1919854\ttest: 0.2154312\tbest: 0.2154312 (4800)\ttotal: 1m 53s\tremaining: 4m\n",
      "4900:\tlearn: 0.1917282\ttest: 0.2153362\tbest: 0.2153340 (4899)\ttotal: 1m 55s\tremaining: 3m 57s\n",
      "5000:\tlearn: 0.1914523\ttest: 0.2152489\tbest: 0.2152488 (4995)\ttotal: 1m 57s\tremaining: 3m 54s\n",
      "5100:\tlearn: 0.1913517\ttest: 0.2152151\tbest: 0.2152151 (5099)\ttotal: 1m 59s\tremaining: 3m 51s\n",
      "5200:\tlearn: 0.1912608\ttest: 0.2151753\tbest: 0.2151736 (5186)\ttotal: 2m 1s\tremaining: 3m 48s\n",
      "5300:\tlearn: 0.1910466\ttest: 0.2151398\tbest: 0.2151333 (5293)\ttotal: 2m 3s\tremaining: 3m 45s\n",
      "5400:\tlearn: 0.1907763\ttest: 0.2150492\tbest: 0.2150489 (5397)\ttotal: 2m 5s\tremaining: 3m 42s\n",
      "5500:\tlearn: 0.1905306\ttest: 0.2149429\tbest: 0.2149425 (5497)\ttotal: 2m 7s\tremaining: 3m 40s\n",
      "5600:\tlearn: 0.1903055\ttest: 0.2148465\tbest: 0.2148454 (5598)\ttotal: 2m 9s\tremaining: 3m 37s\n",
      "5700:\tlearn: 0.1900009\ttest: 0.2147014\tbest: 0.2147014 (5700)\ttotal: 2m 12s\tremaining: 3m 35s\n",
      "5800:\tlearn: 0.1897647\ttest: 0.2145980\tbest: 0.2145980 (5800)\ttotal: 2m 14s\tremaining: 3m 33s\n",
      "5900:\tlearn: 0.1894866\ttest: 0.2144933\tbest: 0.2144933 (5900)\ttotal: 2m 16s\tremaining: 3m 30s\n",
      "6000:\tlearn: 0.1892172\ttest: 0.2144265\tbest: 0.2144264 (5998)\ttotal: 2m 18s\tremaining: 3m 28s\n",
      "6100:\tlearn: 0.1889829\ttest: 0.2143488\tbest: 0.2143488 (6100)\ttotal: 2m 21s\tremaining: 3m 25s\n",
      "6200:\tlearn: 0.1887390\ttest: 0.2142405\tbest: 0.2142405 (6200)\ttotal: 2m 23s\tremaining: 3m 23s\n",
      "6300:\tlearn: 0.1884755\ttest: 0.2141847\tbest: 0.2141831 (6294)\ttotal: 2m 25s\tremaining: 3m 21s\n",
      "6400:\tlearn: 0.1882782\ttest: 0.2141066\tbest: 0.2141064 (6399)\ttotal: 2m 27s\tremaining: 3m 18s\n",
      "6500:\tlearn: 0.1880257\ttest: 0.2140125\tbest: 0.2140124 (6497)\ttotal: 2m 30s\tremaining: 3m 16s\n",
      "6600:\tlearn: 0.1879139\ttest: 0.2139559\tbest: 0.2139547 (6597)\ttotal: 2m 32s\tremaining: 3m 13s\n",
      "6700:\tlearn: 0.1877615\ttest: 0.2138835\tbest: 0.2138835 (6699)\ttotal: 2m 34s\tremaining: 3m 11s\n",
      "6800:\tlearn: 0.1875581\ttest: 0.2137858\tbest: 0.2137858 (6799)\ttotal: 2m 36s\tremaining: 3m 8s\n",
      "6900:\tlearn: 0.1873898\ttest: 0.2137307\tbest: 0.2137305 (6897)\ttotal: 2m 38s\tremaining: 3m 6s\n",
      "7000:\tlearn: 0.1871586\ttest: 0.2136630\tbest: 0.2136630 (7000)\ttotal: 2m 40s\tremaining: 3m 3s\n",
      "7100:\tlearn: 0.1869048\ttest: 0.2136013\tbest: 0.2136008 (7098)\ttotal: 2m 42s\tremaining: 3m 1s\n",
      "7200:\tlearn: 0.1866820\ttest: 0.2135490\tbest: 0.2135489 (7198)\ttotal: 2m 45s\tremaining: 2m 58s\n",
      "7300:\tlearn: 0.1865340\ttest: 0.2134984\tbest: 0.2134984 (7299)\ttotal: 2m 47s\tremaining: 2m 56s\n",
      "7400:\tlearn: 0.1863157\ttest: 0.2134262\tbest: 0.2134208 (7392)\ttotal: 2m 49s\tremaining: 2m 53s\n",
      "7500:\tlearn: 0.1859715\ttest: 0.2132855\tbest: 0.2132853 (7499)\ttotal: 2m 51s\tremaining: 2m 51s\n",
      "7600:\tlearn: 0.1857375\ttest: 0.2131839\tbest: 0.2131837 (7597)\ttotal: 2m 54s\tremaining: 2m 49s\n",
      "7700:\tlearn: 0.1854696\ttest: 0.2130958\tbest: 0.2130958 (7700)\ttotal: 2m 56s\tremaining: 2m 47s\n",
      "7800:\tlearn: 0.1852368\ttest: 0.2129747\tbest: 0.2129747 (7800)\ttotal: 2m 58s\tremaining: 2m 44s\n",
      "7900:\tlearn: 0.1850148\ttest: 0.2128975\tbest: 0.2128972 (7888)\ttotal: 3m 1s\tremaining: 2m 42s\n",
      "8000:\tlearn: 0.1848344\ttest: 0.2128563\tbest: 0.2128550 (7958)\ttotal: 3m 3s\tremaining: 2m 40s\n",
      "8100:\tlearn: 0.1846354\ttest: 0.2128307\tbest: 0.2128303 (8097)\ttotal: 3m 5s\tremaining: 2m 37s\n",
      "8200:\tlearn: 0.1843998\ttest: 0.2127515\tbest: 0.2127515 (8199)\ttotal: 3m 7s\tremaining: 2m 35s\n",
      "8300:\tlearn: 0.1841973\ttest: 0.2126735\tbest: 0.2126733 (8299)\ttotal: 3m 10s\tremaining: 2m 33s\n",
      "8400:\tlearn: 0.1839490\ttest: 0.2125991\tbest: 0.2125990 (8399)\ttotal: 3m 12s\tremaining: 2m 31s\n",
      "8500:\tlearn: 0.1837217\ttest: 0.2125625\tbest: 0.2125606 (8468)\ttotal: 3m 14s\tremaining: 2m 29s\n",
      "8600:\tlearn: 0.1835240\ttest: 0.2124578\tbest: 0.2124578 (8600)\ttotal: 3m 17s\tremaining: 2m 26s\n",
      "8700:\tlearn: 0.1833641\ttest: 0.2124066\tbest: 0.2124030 (8689)\ttotal: 3m 19s\tremaining: 2m 24s\n",
      "8800:\tlearn: 0.1832395\ttest: 0.2123496\tbest: 0.2123492 (8796)\ttotal: 3m 21s\tremaining: 2m 22s\n",
      "8900:\tlearn: 0.1831824\ttest: 0.2123338\tbest: 0.2123338 (8900)\ttotal: 3m 23s\tremaining: 2m 19s\n",
      "9000:\tlearn: 0.1829268\ttest: 0.2122300\tbest: 0.2122269 (8997)\ttotal: 3m 26s\tremaining: 2m 17s\n",
      "9100:\tlearn: 0.1828413\ttest: 0.2121882\tbest: 0.2121859 (9096)\ttotal: 3m 28s\tremaining: 2m 15s\n",
      "9200:\tlearn: 0.1826482\ttest: 0.2121367\tbest: 0.2121367 (9200)\ttotal: 3m 30s\tremaining: 2m 12s\n",
      "9300:\tlearn: 0.1825052\ttest: 0.2120817\tbest: 0.2120817 (9297)\ttotal: 3m 33s\tremaining: 2m 10s\n",
      "9400:\tlearn: 0.1823911\ttest: 0.2120510\tbest: 0.2120509 (9395)\ttotal: 3m 35s\tremaining: 2m 8s\n",
      "9500:\tlearn: 0.1822637\ttest: 0.2120154\tbest: 0.2120154 (9500)\ttotal: 3m 37s\tremaining: 2m 5s\n",
      "9600:\tlearn: 0.1821424\ttest: 0.2119577\tbest: 0.2119577 (9600)\ttotal: 3m 39s\tremaining: 2m 3s\n",
      "9700:\tlearn: 0.1819803\ttest: 0.2119198\tbest: 0.2119167 (9697)\ttotal: 3m 41s\tremaining: 2m 1s\n",
      "9800:\tlearn: 0.1817694\ttest: 0.2118554\tbest: 0.2118553 (9799)\ttotal: 3m 44s\tremaining: 1m 58s\n",
      "9900:\tlearn: 0.1815202\ttest: 0.2117882\tbest: 0.2117788 (9872)\ttotal: 3m 46s\tremaining: 1m 56s\n",
      "10000:\tlearn: 0.1812942\ttest: 0.2117345\tbest: 0.2117315 (9994)\ttotal: 3m 49s\tremaining: 1m 54s\n",
      "10100:\tlearn: 0.1810249\ttest: 0.2116608\tbest: 0.2116597 (10091)\ttotal: 3m 51s\tremaining: 1m 52s\n",
      "10200:\tlearn: 0.1808334\ttest: 0.2116216\tbest: 0.2116159 (10173)\ttotal: 3m 53s\tremaining: 1m 50s\n",
      "10300:\tlearn: 0.1807198\ttest: 0.2115931\tbest: 0.2115914 (10290)\ttotal: 3m 56s\tremaining: 1m 47s\n",
      "10400:\tlearn: 0.1805836\ttest: 0.2115741\tbest: 0.2115735 (10395)\ttotal: 3m 58s\tremaining: 1m 45s\n",
      "10500:\tlearn: 0.1804318\ttest: 0.2115155\tbest: 0.2115134 (10463)\ttotal: 4m 1s\tremaining: 1m 43s\n",
      "10600:\tlearn: 0.1802853\ttest: 0.2114628\tbest: 0.2114619 (10591)\ttotal: 4m 3s\tremaining: 1m 41s\n",
      "10700:\tlearn: 0.1801741\ttest: 0.2114353\tbest: 0.2114352 (10699)\ttotal: 4m 5s\tremaining: 1m 38s\n",
      "10800:\tlearn: 0.1801191\ttest: 0.2114372\tbest: 0.2114332 (10706)\ttotal: 4m 8s\tremaining: 1m 36s\n",
      "10900:\tlearn: 0.1800455\ttest: 0.2114173\tbest: 0.2114158 (10892)\ttotal: 4m 10s\tremaining: 1m 34s\n",
      "11000:\tlearn: 0.1799034\ttest: 0.2113853\tbest: 0.2113853 (11000)\ttotal: 4m 12s\tremaining: 1m 31s\n",
      "11100:\tlearn: 0.1797875\ttest: 0.2113645\tbest: 0.2113643 (11096)\ttotal: 4m 15s\tremaining: 1m 29s\n",
      "11200:\tlearn: 0.1796803\ttest: 0.2113256\tbest: 0.2113255 (11194)\ttotal: 4m 17s\tremaining: 1m 27s\n",
      "11300:\tlearn: 0.1795653\ttest: 0.2113252\tbest: 0.2113212 (11221)\ttotal: 4m 19s\tremaining: 1m 24s\n",
      "11400:\tlearn: 0.1795085\ttest: 0.2113162\tbest: 0.2113162 (11400)\ttotal: 4m 21s\tremaining: 1m 22s\n",
      "11500:\tlearn: 0.1794296\ttest: 0.2112888\tbest: 0.2112861 (11476)\ttotal: 4m 24s\tremaining: 1m 20s\n",
      "11600:\tlearn: 0.1793548\ttest: 0.2112859\tbest: 0.2112805 (11526)\ttotal: 4m 26s\tremaining: 1m 18s\n",
      "11700:\tlearn: 0.1792293\ttest: 0.2112670\tbest: 0.2112634 (11687)\ttotal: 4m 28s\tremaining: 1m 15s\n",
      "11800:\tlearn: 0.1791105\ttest: 0.2112447\tbest: 0.2112446 (11798)\ttotal: 4m 31s\tremaining: 1m 13s\n",
      "11900:\tlearn: 0.1789704\ttest: 0.2112036\tbest: 0.2112021 (11887)\ttotal: 4m 33s\tremaining: 1m 11s\n",
      "12000:\tlearn: 0.1788131\ttest: 0.2111665\tbest: 0.2111665 (12000)\ttotal: 4m 35s\tremaining: 1m 8s\n",
      "12100:\tlearn: 0.1787241\ttest: 0.2111450\tbest: 0.2111450 (12097)\ttotal: 4m 37s\tremaining: 1m 6s\n",
      "12200:\tlearn: 0.1786319\ttest: 0.2111308\tbest: 0.2111294 (12180)\ttotal: 4m 39s\tremaining: 1m 4s\n",
      "12300:\tlearn: 0.1786144\ttest: 0.2111275\tbest: 0.2111261 (12285)\ttotal: 4m 41s\tremaining: 1m 1s\n",
      "12400:\tlearn: 0.1785303\ttest: 0.2111345\tbest: 0.2111261 (12285)\ttotal: 4m 43s\tremaining: 59.5s\n",
      "12500:\tlearn: 0.1783834\ttest: 0.2111374\tbest: 0.2111260 (12472)\ttotal: 4m 46s\tremaining: 57.3s\n",
      "12600:\tlearn: 0.1782662\ttest: 0.2111047\tbest: 0.2111044 (12597)\ttotal: 4m 48s\tremaining: 55s\n",
      "12700:\tlearn: 0.1781714\ttest: 0.2110717\tbest: 0.2110686 (12685)\ttotal: 4m 51s\tremaining: 52.7s\n",
      "12800:\tlearn: 0.1780804\ttest: 0.2110699\tbest: 0.2110670 (12766)\ttotal: 4m 53s\tremaining: 50.4s\n",
      "12900:\tlearn: 0.1779420\ttest: 0.2110311\tbest: 0.2110311 (12900)\ttotal: 4m 55s\tremaining: 48.1s\n",
      "13000:\tlearn: 0.1778711\ttest: 0.2110220\tbest: 0.2110158 (12979)\ttotal: 4m 57s\tremaining: 45.8s\n",
      "13100:\tlearn: 0.1777776\ttest: 0.2109805\tbest: 0.2109762 (13058)\ttotal: 5m\tremaining: 43.5s\n",
      "13200:\tlearn: 0.1776664\ttest: 0.2109495\tbest: 0.2109495 (13200)\ttotal: 5m 2s\tremaining: 41.2s\n",
      "13300:\tlearn: 0.1775597\ttest: 0.2109253\tbest: 0.2109253 (13296)\ttotal: 5m 4s\tremaining: 38.9s\n",
      "13400:\tlearn: 0.1775184\ttest: 0.2109189\tbest: 0.2109158 (13390)\ttotal: 5m 6s\tremaining: 36.6s\n",
      "13500:\tlearn: 0.1774723\ttest: 0.2109181\tbest: 0.2109146 (13492)\ttotal: 5m 8s\tremaining: 34.3s\n",
      "13600:\tlearn: 0.1774071\ttest: 0.2108980\tbest: 0.2108967 (13592)\ttotal: 5m 11s\tremaining: 32s\n",
      "13700:\tlearn: 0.1773502\ttest: 0.2109003\tbest: 0.2108939 (13684)\ttotal: 5m 13s\tremaining: 29.7s\n",
      "13800:\tlearn: 0.1772603\ttest: 0.2108868\tbest: 0.2108863 (13780)\ttotal: 5m 15s\tremaining: 27.4s\n",
      "13900:\tlearn: 0.1771614\ttest: 0.2108660\tbest: 0.2108648 (13887)\ttotal: 5m 18s\tremaining: 25.2s\n",
      "14000:\tlearn: 0.1770787\ttest: 0.2108418\tbest: 0.2108418 (13997)\ttotal: 5m 20s\tremaining: 22.9s\n",
      "14100:\tlearn: 0.1770446\ttest: 0.2108287\tbest: 0.2108270 (14095)\ttotal: 5m 23s\tremaining: 20.6s\n",
      "14200:\tlearn: 0.1769585\ttest: 0.2108223\tbest: 0.2108201 (14193)\ttotal: 5m 25s\tremaining: 18.3s\n",
      "14300:\tlearn: 0.1768739\ttest: 0.2108143\tbest: 0.2108078 (14268)\ttotal: 5m 27s\tremaining: 16s\n",
      "14400:\tlearn: 0.1767641\ttest: 0.2107886\tbest: 0.2107886 (14400)\ttotal: 5m 30s\tremaining: 13.7s\n",
      "14500:\tlearn: 0.1766330\ttest: 0.2107412\tbest: 0.2107411 (14497)\ttotal: 5m 32s\tremaining: 11.4s\n",
      "14600:\tlearn: 0.1765101\ttest: 0.2107087\tbest: 0.2107002 (14588)\ttotal: 5m 35s\tremaining: 9.16s\n",
      "14700:\tlearn: 0.1763935\ttest: 0.2107091\tbest: 0.2107000 (14684)\ttotal: 5m 37s\tremaining: 6.87s\n",
      "14800:\tlearn: 0.1762626\ttest: 0.2106493\tbest: 0.2106493 (14800)\ttotal: 5m 40s\tremaining: 4.57s\n",
      "14900:\tlearn: 0.1761462\ttest: 0.2106213\tbest: 0.2106189 (14889)\ttotal: 5m 42s\tremaining: 2.27s\n",
      "14999:\tlearn: 0.1760633\ttest: 0.2106158\tbest: 0.2106071 (14960)\ttotal: 5m 44s\tremaining: 0us\n",
      "bestTest = 0.2106070749\n",
      "bestIteration = 14960\n",
      "Shrink model to first 14961 iterations.\n"
     ]
    },
    {
     "data": {
      "text/plain": [
       "<catboost.core.CatBoostRegressor at 0x7f8c73676ec0>"
      ]
     },
     "execution_count": 46,
     "metadata": {},
     "output_type": "execute_result"
    }
   ],
   "source": [
    "baseline_model_exp8.fit(\n",
    "    X_train,\n",
    "    np.log1p(y_train),\n",
    "    eval_set=(X_val, np.log1p(y_val)),\n",
    "    cat_features=[\"district\", \"street\", \"underground\", \"house_number\"],\n",
    "    use_best_model=True)"
   ]
  },
  {
   "cell_type": "code",
   "execution_count": 41,
   "id": "30b4bd7c-a081-424c-b274-a72dc567f5b5",
   "metadata": {
    "execution": {
     "iopub.execute_input": "2025-08-11T20:46:33.907237Z",
     "iopub.status.busy": "2025-08-11T20:46:33.905905Z",
     "iopub.status.idle": "2025-08-11T20:46:33.970507Z",
     "shell.execute_reply": "2025-08-11T20:46:33.969091Z",
     "shell.execute_reply.started": "2025-08-11T20:46:33.907197Z"
    },
    "tags": []
   },
   "outputs": [
    {
     "name": "stdout",
     "output_type": "stream",
     "text": [
      "MAE: 20388.55\n",
      "R2-Score: 0.9\n",
      "MAPE: 0.1528\n"
     ]
    }
   ],
   "source": [
    "y_pred = np.expm1(baseline_model_exp8.predict(X_val))\n",
    "\n",
    "MAE = round(mean_absolute_error(y_val, y_pred), 2)\n",
    "R2 = round(r2_score(y_val, y_pred), 4)\n",
    "MAPE = round(mean_absolute_percentage_error(y_pred, y_val), 4)\n",
    "\n",
    "\n",
    "print(f\"MAE: {MAE}\")\n",
    "print(f\"R2-Score: {R2}\")\n",
    "print(f\"MAPE: {MAPE}\")"
   ]
  },
  {
   "cell_type": "markdown",
   "id": "9ba7578a-c734-462f-b9ee-502015590f16",
   "metadata": {
    "execution": {
     "iopub.execute_input": "2025-05-25T19:30:14.567281Z",
     "iopub.status.busy": "2025-05-25T19:30:14.565378Z",
     "iopub.status.idle": "2025-05-25T19:30:14.647226Z",
     "shell.execute_reply": "2025-05-25T19:30:14.645602Z",
     "shell.execute_reply.started": "2025-05-25T19:30:14.567227Z"
    }
   },
   "source": [
    "### Выводы по Эксперименту 8 — Подбор гиперпараметров \n",
    "\n",
    "- **MAE:** 20 388 ₽ — абсолютная ошибка снизилась на ~4.2% по сравнению с предыдущим этапом.  \n",
    "- **R²:** 0.9 — объяснённая дисперсия увеличилась на ~0.94%.  \n",
    "- **MAPE:** 15.28% — относительная ошибка снизилась на ~6.3%.\n",
    "\n",
    "Автоматизированный подбор гиперпараметров с помощью Optuna привёл к улучшению всех ключевых метрик.  \n",
    "Обучение стало более стабильным, модель точнее описывает структуру данных и показывает более уверенные предсказания.  \n",
    "Текущая конфигурация служит прочной основой для последующего анализа ошибок и внедрения bias correction.\n",
    "\n",
    "Вывод: модель после тюнинга с помощью Optuna достигла лушегого качества.\n",
    "___"
   ]
  },
  {
   "cell_type": "code",
   "execution_count": 158,
   "id": "4284cd53-c987-44f2-b118-27ce164c6306",
   "metadata": {
    "execution": {
     "iopub.execute_input": "2025-05-26T01:09:47.360477Z",
     "iopub.status.busy": "2025-05-26T01:09:47.359104Z",
     "iopub.status.idle": "2025-05-26T01:09:50.254640Z",
     "shell.execute_reply": "2025-05-26T01:09:50.253301Z",
     "shell.execute_reply.started": "2025-05-26T01:09:47.360435Z"
    },
    "tags": []
   },
   "outputs": [
    {
     "name": "stdout",
     "output_type": "stream",
     "text": [
      "Финальная модель сохранена как 'final_rent_model_catboost.pkl'\n"
     ]
    }
   ],
   "source": [
    "joblib.dump(baseline_model_exp8, \"final_rent_model_catboost.pkl\")\n",
    "print(\"Финальная модель сохранена как 'final_rent_model_catboost.pkl'\")"
   ]
  },
  {
   "cell_type": "code",
   "execution_count": 161,
   "id": "e8a79b29-7f30-4d23-883b-573f2e482df5",
   "metadata": {
    "execution": {
     "iopub.execute_input": "2025-05-26T01:17:32.394578Z",
     "iopub.status.busy": "2025-05-26T01:17:32.393787Z",
     "iopub.status.idle": "2025-05-26T01:17:32.531983Z",
     "shell.execute_reply": "2025-05-26T01:17:32.530807Z",
     "shell.execute_reply.started": "2025-05-26T01:17:32.394543Z"
    },
    "tags": []
   },
   "outputs": [
    {
     "name": "stdout",
     "output_type": "stream",
     "text": [
      "Параметры модели сохранены в 'final_model_params.json'\n"
     ]
    }
   ],
   "source": [
    "model_params = baseline_model_exp8.get_params()\n",
    "\n",
    "with open(\"final_model_params.json\", \"w\", encoding=\"utf-8\") as f:\n",
    "    json.dump(model_params, f, indent=4, ensure_ascii=False)\n",
    "\n",
    "print(\"Параметры модели сохранены в 'final_model_params.json'\")"
   ]
  },
  {
   "cell_type": "markdown",
   "id": "700775cd-262f-41a9-b4a2-6d8b24f65406",
   "metadata": {},
   "source": [
    "## Финальное сравнение: Бейзлайн vs Оптимизированная модель CatBoost\n",
    "\n",
    "| Метрика     | Базовый бейзлайн        | Финальная модель (Optuna) | Изменение            |\n",
    "|-------------|--------------------------|----------------------------|------------------------|\n",
    "| **MAE**     | 24 814 ₽                | **20 388 ₽**              | **−4 426 ₽** (−17.8%)  \n",
    "| **R²**      | 0.8461                  | **0.9**                  | **+0.0539** (+6.4%)  \n",
    "| **MAPE**    | 18.81%                  | **15.28%**                | **−3.53 п.п.** (−18.7%)\n",
    "\n",
    "---\n",
    "\n",
    "### Интерпретация:\n",
    "\n",
    "- **MAE снизилась почти на 4.5 тыс. ₽**, что делает модель заметно более точной в денежном выражении.\n",
    "- **R² вырос до 0.9**, что означает: модель объясняет **почти 90% дисперсии цен** — по сравнению с 84.61% в бейзлайне.\n",
    "- **MAPE уменьшилась более чем на 3.53 процентных пункта**, что делает предсказания более стабильными и приемлемыми для практического использования.\n",
    "\n",
    "---\n",
    "\n",
    "### Вывод:\n",
    "\n",
    "> Модель после подбора гиперпараметров с помощью **Optuna** продемонстрировала **устойчивый и значимый рост качества** по всем ключевым метрикам.  \n",
    "___"
   ]
  }
 ],
 "metadata": {
  "accelerator": "GPU",
  "colab": {
   "gpuType": "T4",
   "provenance": []
  },
  "kernelspec": {
   "display_name": "DataSphere Kernel",
   "language": "python",
   "name": "python3"
  },
  "language_info": {
   "codemirror_mode": {
    "name": "ipython",
    "version": 3
   },
   "file_extension": ".py",
   "mimetype": "text/x-python",
   "name": "python",
   "nbconvert_exporter": "python",
   "pygments_lexer": "ipython3",
   "version": "3.10.12"
  }
 },
 "nbformat": 4,
 "nbformat_minor": 5
}
